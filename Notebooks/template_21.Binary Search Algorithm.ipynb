{
 "cells": [
  {
   "cell_type": "markdown",
   "metadata": {},
   "source": [
    "# 21. 이진탐색 (Binary Search) Algorithm\n",
    "\n",
    "* 알고리즘\n",
    "\n",
    "    1. 중간 위치($\\frac{n}{2}$ 번째)의 단어를 먼처 찾고 주어진 단어와 같은지 비교한다.\n",
    "    \n",
    "    2. 찾은 단어가 주어진 단어보다 크면 $\\frac{n}{2}$ 보다 큰 쪽은 버리고 작은 쪽 절반(1~ $\\frac{n}{2}$ 번)을 대상으로 다시 중간 위치 ($\\frac{\\frac{n}{2}}{2}$ 번째) 단어를 찾아서 크기를 비교하는 작업을 주어진 단어를 찾을 때까지 반복한다. \n",
    "    \n",
    "    반대로 중간위치(n/2 번째) 단어가 주어진 단어보다 작으면 큰쪽 절반 ( $\\frac{n}{2}+1$ ~ n 번)을 대상으로 같은 작업을 반복한다.\n"
   ]
  },
  {
   "cell_type": "markdown",
   "metadata": {},
   "source": [
    "- text 중간의 [1], [2], [3] ... 제거"
   ]
  },
  {
   "cell_type": "markdown",
   "metadata": {},
   "source": [
    "- 영문 대문자, 소문자 이외의 문자 모두 제거"
   ]
  },
  {
   "cell_type": "markdown",
   "metadata": {},
   "source": [
    "- word list 작성"
   ]
  },
  {
   "cell_type": "markdown",
   "metadata": {},
   "source": [
    "### 이진 탐색 함수"
   ]
  },
  {
   "cell_type": "markdown",
   "metadata": {},
   "source": [
    "**최대 탐색 횟수**\n",
    "\n",
    "words 의 단어 중 가장 탐색 횟수가 많은 것"
   ]
  },
  {
   "cell_type": "markdown",
   "metadata": {},
   "source": [
    "**평균 탐색 횟수**\n",
    "\n",
    "words 의 전체 단어 탐색 횟수를 평균"
   ]
  },
  {
   "cell_type": "markdown",
   "metadata": {},
   "source": [
    "### 연습문제 (VSCODE 로 프로그램 작성)\n",
    "\n",
    "한글 단어가 정렬된 리스트로 주어져 있을 때 주어진 단어를 가장 빨리 찾아낼 수 있는 프로그램을 작성하라.\n",
    "정규식(regular expression)을 이용하여 한글 단어 이외에는 모두 제거한다.\n",
    "\n",
    "이진탐색 알고리즘에서 최대 탐색 횟수는  $\\approx log_2(n)$ 이라고 알려져 있다. 평균 탐색 횟수는 얼마인가 ?"
   ]
  },
  {
   "cell_type": "markdown",
   "metadata": {},
   "source": [
    "```\n",
    "word_list = lorem.split()\n",
    "word_list.sort()\n",
    "\n",
    "def findword(word):\n",
    "    # Your Code Here\n",
    "    \n",
    "print(findword('헌법재판소는'))\n",
    "\n",
    "# Your Code Here\n",
    "\n",
    "print(\"max_count = \", max_count)\n",
    "\n",
    "# Your Code Here\n",
    "\n",
    "print('average_cnt = {:.2f}'.format(average_cnt))\n",
    "```"
   ]
  }
 ],
 "metadata": {
  "kernelspec": {
   "display_name": "Python 3 (ipykernel)",
   "language": "python",
   "name": "python3"
  },
  "language_info": {
   "codemirror_mode": {
    "name": "ipython",
    "version": 3
   },
   "file_extension": ".py",
   "mimetype": "text/x-python",
   "name": "python",
   "nbconvert_exporter": "python",
   "pygments_lexer": "ipython3",
   "version": "3.9.7"
  }
 },
 "nbformat": 4,
 "nbformat_minor": 2
}
