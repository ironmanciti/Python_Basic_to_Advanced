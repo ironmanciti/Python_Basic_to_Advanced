{
 "cells": [
  {
   "cell_type": "markdown",
   "id": "9b145efc",
   "metadata": {},
   "source": [
    "# 33. Tkinter\n",
    "\n",
    "- Tkinter는 Tcl/Tk에 대한 파이썬 Wrapper로서 Tcl/Tk를 파이썬에 사용할 수 있도록 한 Lightweight GUI 모듈  \n",
    "\n",
    "- Tcl은 Tool Command Language의 약자로서 일종의 프로그래밍 언어이며, Tk는 크로스 플랫폼에 사용되는 일종의 GUI 툴킷이다.   \n",
    "\n",
    "- Tkinter는 타 GUI 프레임워크나 툴킷에 비해 지원되는 위젯들이 부족하고 UI도 그렇게 예쁘지 않다는 단점이 있지만, Python 설치시 기본적으로 내장되어 있는 파이썬 표준 라이브러리이기 때문에 쉽고 간단한 GUI 프로그램을 만들 때 활용될 수 있다."
   ]
  },
  {
   "cell_type": "markdown",
   "id": "c9e2bbcc",
   "metadata": {},
   "source": [
    "## Basic Button\n",
    "\n",
    "- Button 생성 ```btn=Button(win)```\n",
    "- Button 크기 ```btn.config(width=20, height=20)```\n",
    "- Button 내용 ```btn.config(text=\"버튼\")```\n",
    "- Button 기능 ```btn.config(command=alert)```\n",
    "\n",
    "## Label\n",
    "- Label 생성 ```lab = Label(win)```\n",
    "- Label 내용 ```lab.config(text=\"내용\")```\n",
    "- Label 이미지 ```lab.cofig(image=img)```"
   ]
  },
  {
   "cell_type": "markdown",
   "id": "06e45884",
   "metadata": {},
   "source": [
    "### `pack()` method - widget을 parent widget 에 배치"
   ]
  },
  {
   "cell_type": "code",
   "execution_count": 2,
   "id": "0b5ad549",
   "metadata": {},
   "outputs": [],
   "source": [
    "from tkinter import *\n",
    "\n",
    "root = Tk()\n",
    "root.geometry(\"500x200\")\n",
    "root.title(\"Main Window\")\n",
    "root.option_add(\"*Font\", \"맑은고딕 20\")\n",
    "\n",
    "def myClick():\n",
    "    myLabel = Label(root, text=\"Look! I clicked a Button!\")\n",
    "    myLabel.pack()\n",
    "    \n",
    "#creating a Label Widget\n",
    "myLabel1 = Label(root, text=\"Hello World\")\n",
    "myLabel2 = Label(root, text=\"제 이름은 오영제 입니다.\")\n",
    "myLabel1.pack()\n",
    "myLabel2.pack()\n",
    "\n",
    "myButton = Button(root, text=\"click me\", command=myClick)\n",
    "\n",
    "myButton.pack()\n",
    "\n",
    "root.mainloop()"
   ]
  },
  {
   "cell_type": "markdown",
   "id": "e9897d56",
   "metadata": {},
   "source": [
    "### `grid()` method - widget 을 table 형태로 배치"
   ]
  },
  {
   "cell_type": "code",
   "execution_count": 3,
   "id": "da299aa3",
   "metadata": {},
   "outputs": [],
   "source": [
    "root = Tk()\n",
    "root.geometry(\"800x200\")\n",
    "root.title(\"Main Window\")\n",
    "root.option_add(\"*Font\", \"맑은고딕 20\")\n",
    "\n",
    "def myClick():\n",
    "    myLabel = Label(root, text=\"Look! I clicked a Button!\")\n",
    "    myLabel.grid(row=3, column=2)\n",
    "\n",
    "#creating a Label Widget\n",
    "myLabel1 = Label(root, text=\"Hello World\")\n",
    "myLabel2 = Label(root, text=\"제 이름은 오영제 입니다.\")\n",
    "\n",
    "myButton = Button(root, text=\"click me\", command=myClick)\n",
    "\n",
    "myLabel1.grid(row=0, column=0)\n",
    "myLabel2.grid(row=1, column=1)\n",
    "\n",
    "myButton.grid(row=2, column=1)\n",
    "\n",
    "root.mainloop()"
   ]
  },
  {
   "cell_type": "markdown",
   "id": "a93109ab",
   "metadata": {},
   "source": [
    "- 현재 시각 display"
   ]
  },
  {
   "cell_type": "code",
   "execution_count": 4,
   "id": "5ba7f877",
   "metadata": {},
   "outputs": [],
   "source": [
    "from tkinter import *\n",
    "import time\n",
    "\n",
    "root = Tk()\n",
    "root.geometry(\"800x200\")\n",
    "root.title(\"Main Window\")\n",
    "root.option_add(\"*Font\", \"맑은고딕 20\")\n",
    "\n",
    "def myClick():\n",
    "    myLabel = Label(root, \n",
    "                text=time.strftime('%Y-%m-%d-%H:%M:%S %A', time.localtime(time.time())))\n",
    "    myLabel.pack()\n",
    "\n",
    "myButton = Button(root, text=\"현재시각\", command=myClick)\n",
    "myButton.pack()\n",
    "\n",
    "root.mainloop()"
   ]
  },
  {
   "cell_type": "markdown",
   "id": "88b301a1",
   "metadata": {},
   "source": [
    "## data input\n",
    "\n",
    "- entry 생성 ```e = Entry(win)```\n",
    "- 초기값 ```e.insert(index, \"default 값\")```\n",
    "- entry 의 현재 값 ```e.get()```"
   ]
  },
  {
   "cell_type": "code",
   "execution_count": 5,
   "id": "9c705cda",
   "metadata": {},
   "outputs": [],
   "source": [
    "root = Tk()\n",
    "root.geometry(\"800x200\")\n",
    "root.title(\"Main Window\")\n",
    "root.option_add(\"*Font\", \"맑은고딕 20\")\n",
    "\n",
    "e = Entry(root, width=50, borderwidth=5)\n",
    "e.pack()\n",
    "e.insert(0, \"이름을 입력하세요\")\n",
    "\n",
    "def buttonClick():\n",
    "    txtLabel = Label(root, text=\"Hello : \" + e.get())\n",
    "    txtLabel.pack()\n",
    "    \n",
    "btton = Button(root, text=\"click me\", command=buttonClick)\n",
    "btton.pack()\n",
    "\n",
    "root.mainloop()"
   ]
  },
  {
   "cell_type": "markdown",
   "id": "7436797c",
   "metadata": {},
   "source": [
    "## Image Display"
   ]
  },
  {
   "cell_type": "code",
   "execution_count": 1,
   "id": "74be29c1",
   "metadata": {},
   "outputs": [],
   "source": [
    "from tkinter import *\n",
    "from PIL import ImageTk, Image\n",
    "\n",
    "root = Tk()\n",
    "root.title('images/Image Icon')\n",
    "\n",
    "# image display\n",
    "my_img = ImageTk.PhotoImage(Image.open(\"images/banana.jpg\"))\n",
    "my_label = Label(image=my_img)\n",
    "my_label.pack()\n",
    "\n",
    "root.mainloop()"
   ]
  },
  {
   "cell_type": "markdown",
   "id": "2557b24b",
   "metadata": {},
   "source": [
    "## Hello World - OOP 방식"
   ]
  },
  {
   "cell_type": "code",
   "execution_count": 2,
   "id": "53975a6e",
   "metadata": {},
   "outputs": [],
   "source": [
    "import tkinter as tk\n",
    "\n",
    "class Application(tk.Frame):\n",
    "    def __init__(self, master=None):\n",
    "        super().__init__(master)\n",
    "        self.master = master\n",
    "        self.pack()\n",
    "        self.create_wideget()\n",
    "        \n",
    "    def create_wideget(self):\n",
    "        self.hi_there = tk.Button(self)\n",
    "        self.hi_there[\"text\"] = \"Hello World\\n(click me)\"\n",
    "        self.hi_there[\"command\"] = self.say_hi\n",
    "        self.hi_there.pack(side=\"top\")  #right, left, bottom\n",
    "        \n",
    "        self.quit = tk.Button(self, text=\"QUIT\", fg=\"red\", bg=\"black\",\n",
    "                              command=self.master.destroy)\n",
    "        \n",
    "        self.quit.pack(side=\"bottom\")\n",
    "        \n",
    "    def say_hi(self):\n",
    "        print(\"hi there everyone\")\n",
    "        \n",
    "root = tk.Tk()\n",
    "root.geometry(\"800x200\")\n",
    "root.title(\"Main Window\")\n",
    "root.option_add(\"*Font\", \"맑은고딕 20\")\n",
    "\n",
    "app = Application(master=root)\n",
    "app.mainloop()"
   ]
  },
  {
   "cell_type": "markdown",
   "id": "aadae798",
   "metadata": {},
   "source": [
    "## 연습문제\n",
    "\n",
    "### 로또 당첨 번호를 web scraping 하여 display 하는 widget 작성"
   ]
  },
  {
   "cell_type": "code",
   "execution_count": null,
   "id": "6cb2c593",
   "metadata": {},
   "outputs": [],
   "source": [
    "# 로또 당첨 번호 조회\n",
    "from tkinter import *\n",
    "from bs4 import BeautifulSoup\n",
    "from urllib.request import Request, urlopen\n",
    "\n",
    "URL = \"https://dhlottery.co.kr/gameResult.do?method=byWin\"\n",
    "hdr = {'User-Agent': 'Mozilla/5.0'}\n",
    "\n",
    "root = Tk()\n",
    "root.title('로또 당첨번호 조회')\n",
    "root.geometry(\"1000x300\")  # window size\n",
    "root.option_add(\"*Font\", \"맑은고딕 20\")\n",
    "root.config(bg=\"black\")  # 배경색 설정\n",
    "\n",
    "def lotto():\n",
    "    #LOTTO site 접속\n",
    "    %% YOUR CODE HERE %%\n",
    "    #웹페이지 파싱\n",
    "    %% YOUR CODE HERE %%\n",
    "    #LOTTO 당첨번호 표시\n",
    "    l%% YOUR CODE HERE %%\n",
    "btn = Button(root, text=\"로또 당첨번호 확인\", command=lotto)\n",
    "btn.pack()\n",
    "\n",
    "root.mainloop()"
   ]
  },
  {
   "cell_type": "markdown",
   "id": "80101f07",
   "metadata": {},
   "source": [
    "### BITCOIN 의 현재 시세를 web scraping 하여 10 초 간격으로 update 하는 widget 작성"
   ]
  },
  {
   "cell_type": "code",
   "execution_count": 21,
   "id": "13b70aaf",
   "metadata": {},
   "outputs": [],
   "source": [
    "# BITCOIN 시세 조회\n",
    "import tkinter as tk\n",
    "from PIL import Image, ImageTk\n",
    "from bs4 import BeautifulSoup\n",
    "from urllib.request import Request, urlopen\n",
    "import re  \n",
    "from datetime import datetime\n",
    "import webbrowser\n",
    "\n",
    "URL = \"https://kr.investing.com/crypto/bitcoin/\"\n",
    "hdr = {'User-Agent': 'Mozilla/5.0'}\n",
    "\n",
    "root = tk.Tk()\n",
    "root.title(\"비트코인 시세 조회\")\n",
    "root.geometry(\"500x200\")\n",
    "root.option_add(\"*Font\", \"맑은고딕 20\")\n",
    "root.config(bg=\"black\")\n",
    "\n",
    "# Frame 생성\n",
    "my_frame = Frame(root)\n",
    "my_frame.pack(pady=20)\n",
    "\n",
    "#비트코인 logo 표시\n",
    "img = ImageTk.PhotoImage(Image.open('images/bitcoin.png').resize((100, 100)), master=root)\n",
    "logo_label = Label(my_frame, image=img)\n",
    "logo_label.grid(row=0, column=0)\n",
    "\n",
    "#비트코인 가격 표시\n",
    "bit_label = Label(my_frame)\n",
    "bit_label.grid(row=0, column=1)\n",
    "\n",
    "status = Label(root)\n",
    "status.pack()\n",
    "\n",
    "def update():\n",
    "    #비트코인 site 접속\n",
    "    %% YOUR CODE HERE %%\n",
    "    #웹페이지 파싱\n",
    "    %% YOUR CODE HERE %%\n",
    "    #가격 표시\n",
    "    %% YOUR CODE HERE %%\n",
    "    # 현재 시간 표시\n",
    "    %% YOUR CODE HERE %%\n",
    "    status.config(text=f\"최근 갱신 - {current_time}\")\n",
    "    \n",
    "    #timer 를 5 초로 setting\n",
    "    root.after(5000, update)\n",
    "    \n",
    "# program start 시 update 함수 수행 \n",
    "update()\n",
    "\n",
    "#website 직접 연결 button 생성\n",
    "def callback():\n",
    "    webbrowser.open_new(URL)\n",
    "    \n",
    "%% YOUR CODE HERE %%\n",
    "\n",
    "root.mainloop()"
   ]
  },
  {
   "cell_type": "markdown",
   "id": "e80f3df0",
   "metadata": {},
   "source": [
    "### 여러개의 image를 앞, 뒤로 이동하며 display"
   ]
  },
  {
   "cell_type": "code",
   "execution_count": null,
   "id": "ea11bab1",
   "metadata": {},
   "outputs": [],
   "source": [
    "from tkinter import *\n",
    "from PIL import ImageTk, Image\n",
    "\n",
    "root = Tk()\n",
    "\n",
    "my_img1 = ImageTk.PhotoImage(Image.open(\"images/banana.jpg\").resize((400, 400)))\n",
    "%% YOUR CODE HERE %%\n",
    "\n",
    "image_list = [my_img1, my_img2, my_img3, my_img4, my_img5]\n",
    "\n",
    "# images display\n",
    "my_label = Label(image=my_img1)\n",
    "my_label.grid(row=0, column=0, columnspan=3)\n",
    "# status bar\n",
    "status = Label(text=\"image 1 of 5\")\n",
    "\n",
    "current_position = 0  # current image\n",
    "\n",
    "#forward button\n",
    "def forward():\n",
    "    global current_position\n",
    "    global my_label\n",
    "    \n",
    "    %% YOUR CODE HERE %%\n",
    "    return\n",
    "\n",
    "# backward button\n",
    "def backward():\n",
    "    global current_position\n",
    "    global my_label\n",
    "\n",
    "    %% YOUR CODE HERE %%\n",
    "    return\n",
    "\n",
    "button_back = Button(root, text=\"<<\", command=backward)\n",
    "button_quit = Button(root, text=\"Exit Program\", command=root.quit)\n",
    "button_forward = Button(root, text=\">>\", command=forward)\n",
    "\n",
    "# back, forward button\n",
    "%% YOUR CODE HERE %%\n",
    "\n",
    "root.mainloop()\n"
   ]
  }
 ],
 "metadata": {
  "kernelspec": {
   "display_name": "Python 3 (ipykernel)",
   "language": "python",
   "name": "python3"
  },
  "language_info": {
   "codemirror_mode": {
    "name": "ipython",
    "version": 3
   },
   "file_extension": ".py",
   "mimetype": "text/x-python",
   "name": "python",
   "nbconvert_exporter": "python",
   "pygments_lexer": "ipython3",
   "version": "3.9.7"
  }
 },
 "nbformat": 4,
 "nbformat_minor": 5
}
