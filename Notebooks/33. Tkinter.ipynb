{
 "cells": [
  {
   "cell_type": "markdown",
   "id": "9b145efc",
   "metadata": {},
   "source": [
    "# 33. Tkinter\n",
    "\n",
    "- Tkinter는 Tcl/Tk에 대한 파이썬 Wrapper로서 Tcl/Tk를 파이썬에 사용할 수 있도록 한 Lightweight GUI 모듈  \n",
    "\n",
    "- Tcl은 Tool Command Language의 약자로서 일종의 프로그래밍 언어이며, Tk는 크로스 플랫폼에 사용되는 일종의 GUI 툴킷이다.   \n",
    "\n",
    "- Tkinter는 타 GUI 프레임워크나 툴킷에 비해 지원되는 위젯들이 부족하고 UI도 그렇게 예쁘지 않다는 단점이 있지만, Python 설치시 기본적으로 내장되어 있는 파이썬 표준 라이브러리이기 때문에 쉽고 간단한 GUI 프로그램을 만들 때 활용될 수 있다."
   ]
  },
  {
   "cell_type": "markdown",
   "id": "c9e2bbcc",
   "metadata": {},
   "source": [
    "## Basic Button\n",
    "\n",
    "- Button 생성 ```btn=Button(win)```\n",
    "- Button 크기 ```btn.config(width=20, height=20)```\n",
    "- Button 내용 ```btn.config(text=\"버튼\")```\n",
    "- Button 기능 ```btn.config(command=alert)```\n",
    "\n",
    "## Label\n",
    "- Label 생성 ```lab = Label(win)```\n",
    "- Label 내용 ```lab.config(text=\"내용\")```\n",
    "- Label 이미지 ```lab.cofig(image=img)```"
   ]
  },
  {
   "cell_type": "markdown",
   "id": "06e45884",
   "metadata": {},
   "source": [
    "### `pack()` method - widget을 parent widget 에 배치"
   ]
  },
  {
   "cell_type": "code",
   "execution_count": 1,
   "id": "0b5ad549",
   "metadata": {},
   "outputs": [],
   "source": [
    "from tkinter import *\n",
    "\n",
    "root = Tk()\n",
    "root.geometry(\"500x200\")\n",
    "root.title(\"Main Window\")\n",
    "root.option_add(\"*Font\", \"맑은고딕 20\")\n",
    "\n",
    "def myClick():\n",
    "    myLabel = Label(root, text=\"Look! I clicked a Button!\")\n",
    "    myLabel.pack()\n",
    "    \n",
    "#creating a Label Widget\n",
    "myLabel1 = Label(root, text=\"Hello World\")\n",
    "myLabel2 = Label(root, text=\"제 이름은 오영제 입니다.\")\n",
    "myLabel1.pack()\n",
    "myLabel2.pack()\n",
    "\n",
    "myButton = Button(root, text=\"click me\", command=myClick)\n",
    "\n",
    "myButton.pack()\n",
    "\n",
    "root.mainloop()"
   ]
  },
  {
   "cell_type": "markdown",
   "id": "e9897d56",
   "metadata": {},
   "source": [
    "### `grid()` method - widget 을 table 형태로 배치"
   ]
  },
  {
   "cell_type": "code",
   "execution_count": 2,
   "id": "da299aa3",
   "metadata": {},
   "outputs": [],
   "source": [
    "from tkinter import *\n",
    "\n",
    "root = Tk()\n",
    "root.geometry(\"800x200\")\n",
    "root.title(\"Main Window\")\n",
    "root.option_add(\"*Font\", \"맑은고딕 20\")\n",
    "\n",
    "def myClick():\n",
    "    myLabel = Label(root, text=\"Look! I clicked a Button!\")\n",
    "    myLabel.grid(row=3, column=2)\n",
    "\n",
    "#creating a Label Widget\n",
    "myLabel1 = Label(root, text=\"Hello World\")\n",
    "myLabel2 = Label(root, text=\"제 이름은 오영제 입니다.\")\n",
    "\n",
    "myButton = Button(root, text=\"click me\", command=myClick)\n",
    "\n",
    "myLabel1.grid(row=0, column=0)\n",
    "myLabel2.grid(row=1, column=1)\n",
    "\n",
    "myButton.grid(row=2, column=1)\n",
    "\n",
    "root.mainloop()"
   ]
  },
  {
   "cell_type": "markdown",
   "id": "a93109ab",
   "metadata": {},
   "source": [
    "- 현재 시각 display"
   ]
  },
  {
   "cell_type": "code",
   "execution_count": 3,
   "id": "5ba7f877",
   "metadata": {},
   "outputs": [],
   "source": [
    "from tkinter import *\n",
    "import time\n",
    "\n",
    "root = Tk()\n",
    "root.geometry(\"800x200\")\n",
    "root.title(\"Main Window\")\n",
    "root.option_add(\"*Font\", \"맑은고딕 20\")\n",
    "\n",
    "def myClick():\n",
    "    myLabel = Label(root, text=time.strftime('%Y-%m-%d-%H:%M:%S %A', time.localtime(time.time())))\n",
    "    myLabel.pack()\n",
    "\n",
    "myButton = Button(root, text=\"현재시각\", command=myClick)\n",
    "myButton.pack()\n",
    "\n",
    "root.mainloop()"
   ]
  },
  {
   "cell_type": "markdown",
   "id": "88b301a1",
   "metadata": {},
   "source": [
    "## data input\n",
    "\n",
    "- entry 생성 ```e = Entry(win)```\n",
    "- 초기값 ```e.insert(index, \"default 값\")```\n",
    "- entry 의 현재 값 ```e.get()```"
   ]
  },
  {
   "cell_type": "code",
   "execution_count": 4,
   "id": "9c705cda",
   "metadata": {},
   "outputs": [],
   "source": [
    "root = Tk()\n",
    "root.geometry(\"800x200\")\n",
    "root.title(\"Main Window\")\n",
    "root.option_add(\"*Font\", \"맑은고딕 20\")\n",
    "\n",
    "e = Entry(root, width=50, borderwidth=5)\n",
    "e.pack()\n",
    "e.insert(0, \"이름을 입력하세요\")\n",
    "\n",
    "def buttonClick():\n",
    "    txtLabel = Label(root, text=\"Hello : \" + e.get())\n",
    "    txtLabel.pack()\n",
    "    \n",
    "btton = Button(root, text=\"click me\", command=buttonClick)\n",
    "btton.pack()\n",
    "\n",
    "root.mainloop()"
   ]
  },
  {
   "cell_type": "markdown",
   "id": "86a9c3e1",
   "metadata": {},
   "source": [
    "## Hello World - OOP 방식"
   ]
  },
  {
   "cell_type": "code",
   "execution_count": 5,
   "id": "53975a6e",
   "metadata": {},
   "outputs": [],
   "source": [
    "import tkinter as tk\n",
    "\n",
    "class Application(tk.Frame):\n",
    "    def __init__(self, master=None):\n",
    "        super().__init__(master)\n",
    "        self.master = master\n",
    "        self.pack()\n",
    "        self.create_wideget()\n",
    "        \n",
    "    def create_wideget(self):\n",
    "        self.hi_there = tk.Button(self)\n",
    "        self.hi_there[\"text\"] = \"Hello World\\n(click me)\"\n",
    "        self.hi_there[\"command\"] = self.say_hi\n",
    "        self.hi_there.pack(side=\"top\")\n",
    "        \n",
    "        self.quit = tk.Button(self, text=\"QUIT\", fg=\"red\",\n",
    "                              command=self.master.destroy)\n",
    "        \n",
    "        self.quit.pack(side=\"bottom\")\n",
    "        \n",
    "    def say_hi(self):\n",
    "        print(\"hi there everyone\")\n",
    "        \n",
    "root = tk.Tk()\n",
    "root.geometry(\"800x200\")\n",
    "root.title(\"Main Window\")\n",
    "root.option_add(\"*Font\", \"맑은고딕 20\")\n",
    "\n",
    "app = Application(master=root)\n",
    "app.mainloop()"
   ]
  },
  {
   "cell_type": "markdown",
   "id": "aadae798",
   "metadata": {},
   "source": [
    "## 연습문제\n",
    "\n",
    "- 로또 당첨 번호를 web scraping 하여 display 하는 widget 작성\n",
    "\n",
    "\n",
    "\n",
    "- BITCOIN 의 현재 시세를 web scraping 하여 10 초 간견으로 update 하는 widget 작성"
   ]
  }
 ],
 "metadata": {
  "kernelspec": {
   "display_name": "Python 3 (ipykernel)",
   "language": "python",
   "name": "python3"
  },
  "language_info": {
   "codemirror_mode": {
    "name": "ipython",
    "version": 3
   },
   "file_extension": ".py",
   "mimetype": "text/x-python",
   "name": "python",
   "nbconvert_exporter": "python",
   "pygments_lexer": "ipython3",
   "version": "3.9.12"
  }
 },
 "nbformat": 4,
 "nbformat_minor": 5
}
