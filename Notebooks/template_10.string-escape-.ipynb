{
 "cells": [
  {
   "cell_type": "markdown",
   "metadata": {},
   "source": [
    "# 10. 스트링 (String) \n",
    "\n",
    "## 10-1. 스트링 (String) 자료형과 string 함수\n",
    "\n",
    "### Python 의 string 자료형은 text 형태의 문자열을 말함.\n",
    "### 문자열은 \" \" , ' '  혹은 \"\"\" \"\"\" 로 둘러싸인 문자들의 집합임.\n",
    "    \"Life is short\"\n",
    "    'a'\n",
    "    \"123\"\n",
    "    \"\"\"String is Python's text type.\"\"\"\n",
    "### string 자료는 수정할 수 없음 (immutable)\n",
    "\n",
    "* 수정할 수 있는 자료형 (mutable)  \n",
    "    list\n",
    "    \n",
    "* 수정할 수 없는 자료형 (immutable)  \n",
    "    string, tuple\n",
    "    \n",
    "### string 간의 +, * 연산이 가능\n",
    "\n",
    "### str( ) 내장함수로 string type을 변환\n",
    "\n",
    "### string 은 iterable 한 특성을 가지므로 list 와 같이 for-loop, len( ), indexing, slicing이 가능"
   ]
  },
  {
   "cell_type": "markdown",
   "metadata": {},
   "source": [
    "### string 과 list 비교"
   ]
  },
  {
   "cell_type": "markdown",
   "metadata": {},
   "source": [
    "- string은 immutable"
   ]
  },
  {
   "cell_type": "markdown",
   "metadata": {},
   "source": [
    "### string operation"
   ]
  },
  {
   "cell_type": "markdown",
   "metadata": {},
   "source": [
    "- concatenate"
   ]
  },
  {
   "cell_type": "markdown",
   "metadata": {},
   "source": [
    "- string 반복"
   ]
  },
  {
   "cell_type": "markdown",
   "metadata": {},
   "source": [
    "- string과 integer 를 concatenate"
   ]
  },
  {
   "cell_type": "markdown",
   "metadata": {},
   "source": [
    "- string의 indexing"
   ]
  },
  {
   "cell_type": "markdown",
   "metadata": {},
   "source": [
    "### slicing"
   ]
  },
  {
   "cell_type": "markdown",
   "metadata": {},
   "source": [
    "### string and for-loop"
   ]
  },
  {
   "cell_type": "markdown",
   "metadata": {},
   "source": [
    "### string 내 문자값 비교"
   ]
  },
  {
   "cell_type": "markdown",
   "metadata": {},
   "source": [
    "## 10-2. Escape Sequence \n",
    "\n",
    "### \"\\\\\" 로 시작하며 \"\\\\\"에 뒤따르는 문자에 특별한 의미를 부여하기 위해 사용\n",
    "    예) \\n : new line\n",
    "       \\\\  : backslash ('\\')\n",
    "       \\', \\\" : 따옴표 (quotation mark)\n",
    "       \\t  : tap"
   ]
  },
  {
   "cell_type": "markdown",
   "metadata": {},
   "source": [
    "- 줄바꿈"
   ]
  },
  {
   "cell_type": "markdown",
   "metadata": {},
   "source": [
    "- 쌍따옴표 내의 특수 문자 표시"
   ]
  },
  {
   "cell_type": "markdown",
   "metadata": {},
   "source": [
    "- docstring 내의 특수 문자 표시"
   ]
  },
  {
   "cell_type": "markdown",
   "metadata": {},
   "source": [
    "- escape sequence 의 길이는 1"
   ]
  },
  {
   "cell_type": "markdown",
   "metadata": {},
   "source": [
    "### 연습문제"
   ]
  },
  {
   "cell_type": "markdown",
   "metadata": {},
   "source": [
    "1) parameter 로 받은 string 의 양 끝단 2 글자를 붙여서 반환하는 함수 작성\n",
    "- string 의 slicing 및 concatenation 이용\n",
    "```Python\n",
    "    def both_ends(s):\n",
    "        if len(s) < 2:\n",
    "            return ''\n",
    "        first2 = s[:?]\n",
    "        last2 = s[?:]\n",
    "        return first2 + last2\n",
    "\n",
    "    print(both_ends('spring'))  #spng 반환\n",
    "    print(both_ends('Hello'))    #Helo 반환\n",
    "```  "
   ]
  },
  {
   "cell_type": "markdown",
   "metadata": {},
   "source": [
    "2) 두개의 문자열을 parameter 로 받아 서로의 첫번째 두 글자를 교환한 후 중간에 한칸 띄우고 반환하는 함수 작성\n",
    "\n",
    "```python\n",
    "    def mix_up(a, b):\n",
    "        a_swapped = b[:?] + a[?:]\n",
    "        b_swapped = a[:?] + b[?:]\n",
    "        return ? + ' ' + ?\n",
    "\n",
    "    print(mix_up('frog', 'dinner'))   # diog frnner 반환\n",
    "```"
   ]
  },
  {
   "cell_type": "markdown",
   "metadata": {},
   "source": [
    "3) 두개의 parameter 를 받아서 두개의 시작이 같으면 SAME 다르면 Different 를 반환하는 함수 작성\n",
    "```python\n",
    "    test('a', 'a')     # SAME  반환\n",
    "    test('aba', 'cba')   # Different 반환\n",
    "```"
   ]
  },
  {
   "cell_type": "markdown",
   "metadata": {},
   "source": [
    "4) 다음의 string에서 slicing을 이용하여 `500`이라는 문자열을 출력하라.\n",
    "```\n",
    "stock_index = SP500\n",
    "```"
   ]
  }
 ],
 "metadata": {
  "kernelspec": {
   "display_name": "Python 3 (ipykernel)",
   "language": "python",
   "name": "python3"
  },
  "language_info": {
   "codemirror_mode": {
    "name": "ipython",
    "version": 3
   },
   "file_extension": ".py",
   "mimetype": "text/x-python",
   "name": "python",
   "nbconvert_exporter": "python",
   "pygments_lexer": "ipython3",
   "version": "3.9.7"
  }
 },
 "nbformat": 4,
 "nbformat_minor": 2
}
