{
 "cells": [
  {
   "cell_type": "markdown",
   "metadata": {},
   "source": [
    "# 5. 함수(function)\n",
    "\n",
    "## 5-1. 함수의 정의 및 호출\n",
    "\n",
    "**함수는 프로그램의 기능을 작은 task 단위로 나누어 재사용 가능한 독립적 형태로 나눈 것**\n",
    "\n",
    "**함수는 결과값(return value)을 반환하는 함수와 결과값을 반환하지 않는 함수로 구분된다.**\n",
    "\n",
    "    - 결과값을 반환하지 않는 파이썬 함수의 예 : print()\n",
    "    - 결과값을 반환하는 파이썬 함수의 예 : type()\n",
    "\n",
    "### 함수의 작성 방법:\n",
    "\n",
    "***1. def keyword 로 시작한다.***\n",
    "\n",
    "***2. 함수의 이름은 변수의 이름과 작성 규칙이 동일하다.***\n",
    "\n",
    "        문자와 숫자, _ (underscore) 로 구성되며, 문자 (a~z, A~Z) 혹은 _ (underscore) 로만 시작 가능.  \n",
    "        \n",
    "***3. 함수 이름 다음에 ( ) 로 둘러싸여진 인수 (parameter, argument) 전달 가능***\n",
    "\n",
    "***4. 들여쓰기 (indentation) 에 의해 함수의 body 임을 표시한다.***\n",
    "\n",
    "***5. return keyword 를 이용하여 결과값을 반환한다. 반환할 값이 없으면 return 은 생략 가능하다.***\n",
    "```\n",
    "    def function_name (< parameters >):\n",
    "        function_body  \n",
    "        return (value)\n",
    "```    \n",
    "***6. 함수의 반환값은 변수에 저장할 수 있다.***\n",
    "\n",
    "***7. 여러개의 값을 한번에 반환할 수 있다.*** \n",
    "\n",
    "***8. Python 이 기본적으로 제공하는 함수를 내장함수 (built-in function) 이라고 한다.***\n",
    "\n",
    "    print(), sum(), abs(), help(), str(), round(), type() 등 약 70 가지\n",
    "    \n",
    "### \\*args, \\**kwargs\n",
    "\n",
    "- \\*args 로 여러개의 parameter 를 한번에 받아들임  \n",
    "- \\**kwargs 로 여러개의 keyword argument 를 한번에 받아들임"
   ]
  },
  {
   "cell_type": "markdown",
   "metadata": {},
   "source": [
    "- 반환값이 없는 함수 정의"
   ]
  },
  {
   "cell_type": "markdown",
   "metadata": {},
   "source": [
    "- 반환 값이 있는 함수 정의"
   ]
  },
  {
   "cell_type": "markdown",
   "metadata": {},
   "source": [
    "- 함수의 parameter"
   ]
  },
  {
   "cell_type": "markdown",
   "metadata": {},
   "source": [
    "- return 문에서 반환값 계산"
   ]
  },
  {
   "cell_type": "markdown",
   "metadata": {},
   "source": [
    "- 여러 함수를 one line coding"
   ]
  },
  {
   "cell_type": "markdown",
   "metadata": {},
   "source": [
    "- 여러개의 값을 반환하는 함수"
   ]
  },
  {
   "cell_type": "markdown",
   "metadata": {},
   "source": [
    "## 5-2. Scope of Variable (변수 영역)\n",
    "\n",
    "### variable 에는 global variable (전역변수) 과 local variable (지역변수) 의 두가지 종류가 있음\n",
    "\n",
    "### global variable - 함수의 바깥에 정의하고 프로그램 전체에서 접근 가능\n",
    "### local variable - 함수의 안쪽에 정의하고 함수 내에서만 접근 가능\n",
    "### gobal variable 과 local variable 이 같은 이름을 가질 경우는 local variable 이 우선함\n",
    "\n",
    "### 함수의 영역(Scope of Function) 도 변수의 영역과 동일함."
   ]
  },
  {
   "cell_type": "markdown",
   "metadata": {},
   "source": [
    "- 지역 변수, 전역 변수"
   ]
  },
  {
   "cell_type": "markdown",
   "metadata": {},
   "source": [
    "- 함수 외부에서 지역 변수 접근"
   ]
  },
  {
   "cell_type": "markdown",
   "metadata": {},
   "source": [
    "- 같은 이름을 가진 지역변수, 전역변수"
   ]
  },
  {
   "cell_type": "markdown",
   "metadata": {},
   "source": [
    "### 전역변수를 함수 내에서 update\n",
    "\n",
    "- not recommendable  \n",
    "- global keyword 사용"
   ]
  },
  {
   "cell_type": "markdown",
   "metadata": {},
   "source": [
    "- global value 변경"
   ]
  },
  {
   "cell_type": "markdown",
   "metadata": {},
   "source": [
    "- 함수 내부의 함수"
   ]
  },
  {
   "cell_type": "markdown",
   "metadata": {},
   "source": [
    "- 함수 외부에서 함수 내부의 local 함수 접근"
   ]
  },
  {
   "cell_type": "markdown",
   "metadata": {},
   "source": [
    "- 함수 내 local 함수로의 parameter 전달"
   ]
  },
  {
   "cell_type": "markdown",
   "metadata": {},
   "source": [
    "- local 함수와 global 함수 접근"
   ]
  },
  {
   "cell_type": "markdown",
   "metadata": {},
   "source": [
    "- positional parameter 와 keyword parameter"
   ]
  },
  {
   "cell_type": "markdown",
   "metadata": {},
   "source": [
    "## 5-3. \\*args, \\**kwarg"
   ]
  },
  {
   "cell_type": "markdown",
   "metadata": {},
   "source": [
    "- 가변적인 positional argument 전달"
   ]
  },
  {
   "cell_type": "markdown",
   "metadata": {},
   "source": [
    "- 가변적인 keyword argument 전달"
   ]
  },
  {
   "cell_type": "markdown",
   "metadata": {},
   "source": [
    "- 가변적인 positional argument와 keyword argument 동시 사용"
   ]
  },
  {
   "cell_type": "markdown",
   "metadata": {},
   "source": [
    "## 5-4. Python 의 내장함수 (Built-In Function)\n",
    "\n",
    "#### Python 에 내장되어서 명령어처럼 사용할 수 있는 함수(function)들을 내장함수 (built-in function) 이라고 한다."
   ]
  },
  {
   "cell_type": "markdown",
   "metadata": {},
   "source": [
    "### print 함수"
   ]
  },
  {
   "cell_type": "markdown",
   "metadata": {},
   "source": [
    "### input 함수"
   ]
  },
  {
   "cell_type": "markdown",
   "metadata": {},
   "source": [
    "### eval 함수"
   ]
  },
  {
   "cell_type": "markdown",
   "metadata": {},
   "source": [
    "### 형변환 함수"
   ]
  },
  {
   "cell_type": "markdown",
   "metadata": {},
   "source": [
    "### 기타 내장 함수"
   ]
  },
  {
   "cell_type": "markdown",
   "metadata": {},
   "source": [
    "- 파일 open 함수"
   ]
  },
  {
   "cell_type": "markdown",
   "metadata": {},
   "source": [
    "## 5-5. Python 의 익명 함수 lambda\n",
    "\n",
    "- Python 의 함수 생성 방법은 def 와 lambda 두 가지가 있다.\n",
    "- lambda 는 익명 (anonymous) 함수 이다.\n",
    "- 한번 사용할 간단한 함수인 경우 사용"
   ]
  },
  {
   "cell_type": "markdown",
   "metadata": {},
   "source": [
    "- 일반 함수 정의"
   ]
  },
  {
   "cell_type": "markdown",
   "metadata": {},
   "source": [
    "- lambda 함수 정의"
   ]
  },
  {
   "cell_type": "markdown",
   "metadata": {},
   "source": [
    "### lambda 를 변수에 assign"
   ]
  },
  {
   "cell_type": "markdown",
   "metadata": {},
   "source": [
    "## typing— 유형 힌트 지원 \n",
    "\n",
    "- 버전 3.5의 새로운 기능.  \n",
    "\n",
    "\n",
    "- Python 런타임은 함수 및 변수 유형 주석을 적용하지 않습니다. 유형 검사기, IDE, 린터 등과 같은 3rd party 도구에서 사용할 수 있습니다."
   ]
  },
  {
   "cell_type": "markdown",
   "metadata": {},
   "source": [
    "## 연습문제"
   ]
  },
  {
   "cell_type": "markdown",
   "metadata": {},
   "source": [
    "1) 선형방정식 (linear equation) y = mx + b 를 함수로 작성한다. \n",
    "\n",
    "   이때, 기본값(default value)은 m = 1, b = 0 로 한다."
   ]
  },
  {
   "cell_type": "markdown",
   "metadata": {},
   "source": [
    "2) 다음 함수가 수행된 후 print 되는 값은 ?\n",
    "\n",
    "    def f(x):\n",
    "        return x + 1, x * x\n",
    "\n",
    "    x, y = f(3)\n",
    "    print(x, y)"
   ]
  },
  {
   "cell_type": "markdown",
   "metadata": {},
   "source": [
    "3) 다음 code 가 수행된 이후 z 의 값은 ?\n",
    "\n",
    "    def f1(x, y):\n",
    "        return (x + 1) / (y - 1)\n",
    "\n",
    "    z = f1(2, 2)\n",
    "    print(z)\n",
    "    \n",
    "    def f1(x, y=2):\n",
    "        return (x + 1) / (y - 1)\n",
    "\n",
    "    z = f1(1)\n",
    "    print(z)"
   ]
  },
  {
   "cell_type": "markdown",
   "metadata": {},
   "source": [
    "4) 섭씨 온도를 화씨 온도로 변환하는 함수를 작성한다. 변환 공식은 다음과 같다.\n",
    "\n",
    "$$ T_f = \\frac{9}{5} T_c +32$$"
   ]
  }
 ],
 "metadata": {
  "kernelspec": {
   "display_name": "Python 3",
   "language": "python",
   "name": "python3"
  },
  "language_info": {
   "codemirror_mode": {
    "name": "ipython",
    "version": 3
   },
   "file_extension": ".py",
   "mimetype": "text/x-python",
   "name": "python",
   "nbconvert_exporter": "python",
   "pygments_lexer": "ipython3",
   "version": "3.9.7"
  }
 },
 "nbformat": 4,
 "nbformat_minor": 2
}
