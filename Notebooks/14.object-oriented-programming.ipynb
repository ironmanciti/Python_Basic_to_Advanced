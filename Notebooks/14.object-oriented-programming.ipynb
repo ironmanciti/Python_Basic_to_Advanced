{
 "cells": [
  {
   "cell_type": "markdown",
   "metadata": {},
   "source": [
    "# 14. 클라스(Class)\n",
    "\n",
    "## 14-1. 클라스와 메소드 (Class 와 Method)\n",
    "\n",
    "### Python 의 class 와 method 는 C++, Java 등의 객체지향 프로그래밍의 개념과 동일\n",
    "\n",
    "### 객체지향개발(OOP - Object Oriented Programming) 4가지 특성\n",
    "- 객체지향개발(Object Oriented Programming)의 특성은 크게 추상화, 캡슐화, 상속성, 다형성이 있다.\n",
    "\n",
    "#### 1. 추상화(Abstraciton)\n",
    "- 공통의 속성이나 기능을 묶어 이름을 붙이는 것\n",
    "- OOP 에서 클래스를 정의하는 것을 추상화라고 할 수 있다.\n",
    "\n",
    "#### 2. 은닉화 (Encapsulation)\n",
    "- 변수와 함수를 하나로 묶어서 외부에서의 접근을 막고, 함수를 통해서만 접근 가능하도록 하는 것\n",
    "\n",
    "#### 3. 상속 (Inheritance)\n",
    "- 상위 개념의 특징과 메소드를 하위 개념이 물려 받아 재사용  \n",
    "\n",
    "#### 4. 다형성 (Polymorphism)\n",
    "- 부모 클래스로부터 물려받은 가상 함수를 자식 클래스 내에서 오버라이딩 하여 사용하는 것\n",
    "\n",
    "### Python 에서는 모든 것을 object 라고 부름\n",
    "    data (string, integer, float), function, built-in function\n",
    "    \n",
    "### Python 에서 모든 object 는 특정 class 에 속함\n",
    "\n",
    "### class 란 객체 (object) 를 정의하는 틀 혹은 설계도와 같은 의미\n",
    "\n",
    "### method 는 class 내에서 정의한 함수임. class 는 속성 (data) 와 메소드(method) 로 구성\n",
    "\n",
    "    class ClassName:\n",
    "        <data>\n",
    "        \n",
    "        def methodName(self):\n",
    "            <method body>\n",
    "            return\n",
    "            \n",
    "### dir( ) 내장함수는 객체가 어떤 변수와 메소드를 가지고 있는지 반환\n",
    "    Python 언어 자체에서 사용하는 특별한 method 들은 __name__ 형식의 이름을 가지고 있음"
   ]
  },
  {
   "cell_type": "markdown",
   "metadata": {},
   "source": [
    "- 자료형의 class"
   ]
  },
  {
   "cell_type": "code",
   "execution_count": 1,
   "metadata": {},
   "outputs": [
    {
     "name": "stdout",
     "output_type": "stream",
     "text": [
      "<class 'str'>\n"
     ]
    }
   ],
   "source": [
    "print(type(\"string\"))"
   ]
  },
  {
   "cell_type": "code",
   "execution_count": 2,
   "metadata": {},
   "outputs": [
    {
     "name": "stdout",
     "output_type": "stream",
     "text": [
      "<class 'int'>\n"
     ]
    }
   ],
   "source": [
    "print(type(15))"
   ]
  },
  {
   "cell_type": "code",
   "execution_count": 3,
   "metadata": {},
   "outputs": [
    {
     "name": "stdout",
     "output_type": "stream",
     "text": [
      "<class 'float'>\n"
     ]
    }
   ],
   "source": [
    "print(type(12.5))"
   ]
  },
  {
   "cell_type": "markdown",
   "metadata": {},
   "source": [
    "- 함수의 class"
   ]
  },
  {
   "cell_type": "code",
   "execution_count": 4,
   "metadata": {},
   "outputs": [],
   "source": [
    "def f(n):\n",
    "    return n"
   ]
  },
  {
   "cell_type": "code",
   "execution_count": 5,
   "metadata": {},
   "outputs": [
    {
     "name": "stdout",
     "output_type": "stream",
     "text": [
      "<class 'function'>\n"
     ]
    }
   ],
   "source": [
    "print(type(f))"
   ]
  },
  {
   "cell_type": "code",
   "execution_count": 6,
   "metadata": {},
   "outputs": [
    {
     "name": "stdout",
     "output_type": "stream",
     "text": [
      "<class 'builtin_function_or_method'>\n"
     ]
    }
   ],
   "source": [
    "print(type(print))"
   ]
  },
  {
   "cell_type": "markdown",
   "metadata": {},
   "source": [
    "### class 기본 구성"
   ]
  },
  {
   "cell_type": "code",
   "execution_count": 10,
   "metadata": {},
   "outputs": [],
   "source": [
    "class Car:\n",
    "    color = \"blue\"\n",
    "    max_speed = 100\n",
    "    \n",
    "    def __init__(self):\n",
    "        self.max_speed = 50\n",
    "        print(\"Car Instance 생성\")\n",
    "    \n",
    "    def speedCheck(self, n):\n",
    "        if n > self.max_speed:        # self 생략하면 error\n",
    "            print(self.max_speed)\n",
    "            print(\"Too fast\")\n",
    "        else:\n",
    "            print(\"Good speed\")"
   ]
  },
  {
   "cell_type": "markdown",
   "metadata": {},
   "source": [
    "- instance 생성"
   ]
  },
  {
   "cell_type": "code",
   "execution_count": 11,
   "metadata": {},
   "outputs": [
    {
     "name": "stdout",
     "output_type": "stream",
     "text": [
      "Car Instance 생성\n"
     ]
    }
   ],
   "source": [
    "sonata = Car()"
   ]
  },
  {
   "cell_type": "markdown",
   "metadata": {},
   "source": [
    "- class method 호출"
   ]
  },
  {
   "cell_type": "code",
   "execution_count": 12,
   "metadata": {},
   "outputs": [
    {
     "name": "stdout",
     "output_type": "stream",
     "text": [
      "50\n",
      "Too fast\n"
     ]
    }
   ],
   "source": [
    "sonata.speedCheck(80)"
   ]
  },
  {
   "cell_type": "markdown",
   "metadata": {},
   "source": [
    "- instance 속성 접근"
   ]
  },
  {
   "cell_type": "code",
   "execution_count": 13,
   "metadata": {},
   "outputs": [
    {
     "data": {
      "text/plain": [
       "50"
      ]
     },
     "execution_count": 13,
     "metadata": {},
     "output_type": "execute_result"
    }
   ],
   "source": [
    "sonata.max_speed"
   ]
  },
  {
   "cell_type": "markdown",
   "metadata": {},
   "source": [
    "- instance의 class"
   ]
  },
  {
   "cell_type": "code",
   "execution_count": 14,
   "metadata": {},
   "outputs": [
    {
     "name": "stdout",
     "output_type": "stream",
     "text": [
      "<class '__main__.Car'>\n"
     ]
    }
   ],
   "source": [
    "print(type(sonata))"
   ]
  },
  {
   "cell_type": "markdown",
   "metadata": {},
   "source": [
    "- instance method 의 class"
   ]
  },
  {
   "cell_type": "code",
   "execution_count": 12,
   "metadata": {},
   "outputs": [
    {
     "name": "stdout",
     "output_type": "stream",
     "text": [
      "<class 'method'>\n"
     ]
    }
   ],
   "source": [
    "print(type(sonata.speedCheck))"
   ]
  },
  {
   "cell_type": "markdown",
   "metadata": {},
   "source": [
    "## 14-2 Python 의 Object Oriented Programming\n",
    "\n",
    "- Class : 속성(attribute) 과 method 로 구성\n",
    "    \n",
    "    class Classname:\n",
    "        def __init__(self, *args):\n",
    "            self.변수명 (속성 정의)\n",
    "            \n",
    "        def methods(self, *args):\n",
    "            메소드 정의\n",
    "       \n",
    "- Constructor (생성자)  : __init__()  \n",
    "\n",
    "\n",
    "    class 의 instance 생성 시 자동으로 호출되어 object 를 초기화 하는 method\n",
    "    \n",
    "    \n",
    "            \n",
    "- Inheritance (상속)\n",
    "\n",
    "    class Subclass(superclass):\n",
    "    \n",
    "        \n",
    "- Encapsulation (은닉화)  \n",
    "\n",
    "    self._변수명\n",
    "    \n",
    "    \n",
    "- Polymorphism (다형성)\n",
    "\n",
    "    Python 은 자체로 다형성의 특성을 가진 언어이다.\n",
    "    \n",
    "   1 + 2 ==> 3  \n",
    "   '1' + '2'  =='12'"
   ]
  },
  {
   "cell_type": "markdown",
   "metadata": {},
   "source": [
    "- Python interpreter 는 + operator 를 만나면 `__add__` method 호출"
   ]
  },
  {
   "cell_type": "code",
   "execution_count": 13,
   "metadata": {},
   "outputs": [
    {
     "data": {
      "text/plain": [
       "3"
      ]
     },
     "execution_count": 13,
     "metadata": {},
     "output_type": "execute_result"
    }
   ],
   "source": [
    "a = 1\n",
    "a.__add__(2)    # numeric 연산"
   ]
  },
  {
   "cell_type": "code",
   "execution_count": 14,
   "metadata": {},
   "outputs": [
    {
     "data": {
      "text/plain": [
       "'12'"
      ]
     },
     "execution_count": 14,
     "metadata": {},
     "output_type": "execute_result"
    }
   ],
   "source": [
    "a = '1'\n",
    "a.__add__('2')    # string 연산"
   ]
  },
  {
   "cell_type": "markdown",
   "metadata": {},
   "source": [
    "### Class example"
   ]
  },
  {
   "cell_type": "code",
   "execution_count": 15,
   "metadata": {},
   "outputs": [
    {
     "name": "stdout",
     "output_type": "stream",
     "text": [
      "파이썬 님 안녕하세요\n",
      "파이썬\n"
     ]
    }
   ],
   "source": [
    "# class 정의\n",
    "class Person:\n",
    "    def __init__(self, name):\n",
    "        self.name = name\n",
    "        \n",
    "    def sayHello(self):\n",
    "        print(self.name, \"님 안녕하세요\")\n",
    "        \n",
    "# instance 생성\n",
    "A = Person(\"파이썬\")\n",
    "\n",
    "# instance 를 통한 method 호출\n",
    "A.sayHello()\n",
    "\n",
    "# instance 를 통한 attribute 접근\n",
    "print(A.name)"
   ]
  },
  {
   "cell_type": "markdown",
   "metadata": {},
   "source": [
    "### class 변수와 instance 변수"
   ]
  },
  {
   "cell_type": "code",
   "execution_count": 16,
   "metadata": {},
   "outputs": [
    {
     "name": "stdout",
     "output_type": "stream",
     "text": [
      "Korea\n",
      "USA\n"
     ]
    }
   ],
   "source": [
    "class Person:\n",
    "    country = 'Korea'\n",
    "    def __init__(self, country):\n",
    "        self.country = country\n",
    "        \n",
    "A = Person('USA')\n",
    "\n",
    "print(Person.country)     # class 변수\n",
    "print(A.country)             # instance 변수"
   ]
  },
  {
   "cell_type": "markdown",
   "metadata": {},
   "source": [
    "### Inheritance (상속)"
   ]
  },
  {
   "cell_type": "code",
   "execution_count": 16,
   "metadata": {},
   "outputs": [
    {
     "name": "stdout",
     "output_type": "stream",
     "text": [
      "나 김철수는 한국인 입니다.\n",
      "김철수는 한국인을 상속합니다.\n",
      "\n",
      "나 김순이는 한국인 입니다.\n",
      "김순이는 한국인을 상속합니다.\n"
     ]
    }
   ],
   "source": [
    "class Korean:        # parent class\n",
    "    def __init__(self, name):\n",
    "        self.name = name\n",
    "        \n",
    "    def speak(self):\n",
    "        print('나 {}는 한국인 입니다.'.format(self.name))\n",
    "    \n",
    "    def sex(self):\n",
    "        print('부모 성별')\n",
    "        \n",
    "class Man(Korean):      # child class\n",
    "    def sex(self):\n",
    "        print('{}는 한국인을 상속합니다.'.format(self.name))\n",
    "        \n",
    "class Woman(Korean):  # child class\n",
    "    def sex(self):\n",
    "        print('{}는 한국인을 상속합니다.'.format(self.name))\n",
    "        \n",
    "A = Man('김철수')\n",
    "A.speak()\n",
    "A.sex()\n",
    "print()\n",
    "B = Woman('김순이')\n",
    "B.speak()\n",
    "B.sex()"
   ]
  },
  {
   "cell_type": "markdown",
   "metadata": {},
   "source": [
    "## 14.3 `__str__`과 `__repr__`\n",
    "\n",
    "- __str__ - print() 문 호출시 string 반환\n",
    "- __repr__ - object 자체 출력시 readable 한 형태 반환\n",
    "- __repr__ 만 정의되어 있고 __str__ 이 생략된 경우 __str__=__repr__ 와 같음"
   ]
  },
  {
   "cell_type": "code",
   "execution_count": 17,
   "metadata": {},
   "outputs": [],
   "source": [
    "class Korean:        # parent class\n",
    "    \n",
    "    def speak(self):\n",
    "        print('나는 한국말을 합니다.')\n",
    "\n",
    "    def __str__(self):\n",
    "        return \"Print 문 사용시 호출\"\n",
    "    \n",
    "    def __repr__(self):\n",
    "        return \"object 반환시 호출 \"\n",
    "    \n",
    "A = Korean()"
   ]
  },
  {
   "cell_type": "markdown",
   "metadata": {},
   "source": [
    "- 일반 method 호출"
   ]
  },
  {
   "cell_type": "code",
   "execution_count": 18,
   "metadata": {},
   "outputs": [
    {
     "name": "stdout",
     "output_type": "stream",
     "text": [
      "나는 한국말을 합니다.\n"
     ]
    }
   ],
   "source": [
    "A.speak()"
   ]
  },
  {
   "cell_type": "markdown",
   "metadata": {},
   "source": [
    "- `__repr__` 호출"
   ]
  },
  {
   "cell_type": "code",
   "execution_count": 20,
   "metadata": {},
   "outputs": [
    {
     "data": {
      "text/plain": [
       "object 반환시 호출 "
      ]
     },
     "execution_count": 20,
     "metadata": {},
     "output_type": "execute_result"
    }
   ],
   "source": [
    "A"
   ]
  },
  {
   "cell_type": "markdown",
   "metadata": {},
   "source": [
    "- `__str__`호출"
   ]
  },
  {
   "cell_type": "code",
   "execution_count": 19,
   "metadata": {},
   "outputs": [
    {
     "name": "stdout",
     "output_type": "stream",
     "text": [
      "Print 문 사용시 호출\n"
     ]
    }
   ],
   "source": [
    "print(A)"
   ]
  },
  {
   "cell_type": "markdown",
   "metadata": {},
   "source": [
    "## 14.4 다형성 (polymorphism) 구현\n",
    "\n",
    "**super()**\n",
    "\n",
    "- 자식클래스에서 부모클래스의 내용을 사용하고 싶은 경우\n",
    "- super().부모클래스내용"
   ]
  },
  {
   "cell_type": "code",
   "execution_count": 41,
   "metadata": {},
   "outputs": [
    {
     "name": "stdout",
     "output_type": "stream",
     "text": [
      "Salary is unknown\n",
      "Tom'은 급여가 10000원 이고, 나이가 30살입니다.\n"
     ]
    }
   ],
   "source": [
    "class Person:   \n",
    "    \n",
    "    class_var = '클라스변수'\n",
    "    \n",
    "    def __init__(self, name, age):\n",
    "        self.name = name\n",
    "        self.age = age\n",
    "        \n",
    "    def show_salary(self):\n",
    "        print(\"Salary is unknown\")\n",
    "\n",
    "class Employee(Person):\n",
    "    def __init__(self, name, age, salary):   # Person 의 __init__() override\n",
    "        super().__init__(name, age)          # Person 의 __init__() 내용을 상속\n",
    "        self.salary = salary\n",
    "        \n",
    "    def show_salary(self):          # Person 의 show_salary() override\n",
    "        print( \"{}'은 급여가 {}원 이고, 나이가 {}살입니다.\"\n",
    "                  .format(self.name, self.salary, self.age))\n",
    "        \n",
    "A = Person('Tom', 30)\n",
    "A.show_salary()\n",
    "\n",
    "B = Employee('Tom', 30, 10000)\n",
    "B.show_salary()"
   ]
  },
  {
   "cell_type": "markdown",
   "metadata": {},
   "source": [
    "## 14.5 다중 상속"
   ]
  },
  {
   "cell_type": "code",
   "execution_count": 43,
   "metadata": {},
   "outputs": [
    {
     "name": "stdout",
     "output_type": "stream",
     "text": [
      "안녕하세요 톰 입니다.\n",
      "학점 A\n",
      "공부하기 좋은 날\n"
     ]
    }
   ],
   "source": [
    "class Person:\n",
    "    def __init__(self, name):\n",
    "        self.name = name\n",
    "        \n",
    "    def greeting(self):\n",
    "        print('안녕하세요 {} 입니다.'.format(self.name))\n",
    "        \n",
    "class University:\n",
    "    def __init__(self, grade):\n",
    "        self.grade = grade\n",
    "        \n",
    "    def manage_grade(self):\n",
    "        print('학점 {}'.format(self.grade))\n",
    "        \n",
    "class Student(Person, University):\n",
    "    def __init__(self, name, salary, grade):   # Person, University 의 __init__() override\n",
    "        Person.__init__(self, name)                 # Person 의 __init__() 내용을 상속\n",
    "        University.__init__(self, grade)             # University 의 __init__() 내용을 상속\n",
    "        self.salary = salary\n",
    "        \n",
    "    def study(self):\n",
    "        print('공부하기 좋은 날')\n",
    "\n",
    "tom = Student('톰', 10000, 'A')\n",
    "tom.greeting()\n",
    "tom.manage_grade()\n",
    "tom.study()"
   ]
  },
  {
   "cell_type": "markdown",
   "metadata": {},
   "source": [
    "## 14.7 Class 내의 method 종류\n",
    "\n",
    "### instance method \n",
    "    - 인스턴스를 첫번째 인자로 받음\n",
    "    - 관습적으로 self 로 표시\n",
    "\n",
    "\n",
    "### class method \n",
    "    - 클래스를 첫번째 인자로 받음  \n",
    "    - 관습적으로 cls  로 표시\n",
    "    - 모든 인스턴스가 공유하는 클래스 변수와 같은 데이터를 생성, 변경 또는 참조하기 위한 메소드\n",
    "    \n",
    "    \n",
    "### static method\n",
    "    - 첫번째 인자(self) 자동 생성 되지 않음 - class 내의 일반 함수  \n",
    "    - class 내의 utility 성격의 method 로 사용  \n",
    "    - class, instance 에서 모두 접근 가능 "
   ]
  },
  {
   "cell_type": "code",
   "execution_count": 25,
   "metadata": {},
   "outputs": [
    {
     "name": "stdout",
     "output_type": "stream",
     "text": [
      "현재 \"Sanghee Lee\"의 연봉은 \"50000\"입니다.\n",
      "현재 \"Minjung Kim\"의 연봉은 \"60000\"입니다.\n",
      "인상율 \"1.2\"가 적용 되었습니다.\n",
      "현재 \"Sanghee Lee\"의 연봉은 \"60000\"입니다.\n",
      "현재 \"Minjung Kim\"의 연봉은 \"72000\"입니다.\n",
      "50.0\n",
      "40.0\n"
     ]
    }
   ],
   "source": [
    "class Employee(object):\n",
    "    \n",
    "    raise_amount = 1.0  # 연봉 인상율 클래스 변수\n",
    "    \n",
    "    def __init__(self, first, last, pay):\n",
    "        self.first = first\n",
    "        self.last = last\n",
    "        self.pay = pay\n",
    "    \n",
    "    def apply_raise(self):\n",
    "        self.pay = int(self.pay * self.raise_amount)\n",
    "        \n",
    "    def full_name(self):\n",
    "        return '{} {}'.format(self.first, self.last)\n",
    "        \n",
    "    def get_pay(self):\n",
    "        return '현재 \"{}\"의 연봉은 \"{}\"입니다.'.format(self.full_name(), self.pay)\n",
    "    \n",
    "    # class 메소드 데코레이터를 사용하여 class 메소드 정의\n",
    "    @classmethod\n",
    "    def change_raise_amount(cls, amount):\n",
    "        cls.raise_amount = amount\n",
    "        print('인상율 \"{}\"가 적용 되었습니다.'.format(amount))\n",
    "    \n",
    "    # static 메소드 데코레이터를 사용하여 static 메소드 정의\n",
    "    @staticmethod\n",
    "    def calc_tax(amount, tax_rate):\n",
    "        print(amount * tax_rate)\n",
    "\n",
    "emp_1 = Employee('Sanghee', 'Lee', 50000)\n",
    "emp_2 = Employee('Minjung', 'Kim', 60000)\n",
    "\n",
    "# 연봉 인상 전\n",
    "print(emp_1.get_pay())\n",
    "print(emp_2.get_pay())\n",
    "\n",
    "# 연봉 인상율 변경\n",
    "# Employee.raise_amount = 1.2 와 동일한 결과\n",
    "Employee.change_raise_amount(1.2)    \n",
    "\n",
    "# 연봉 인상\n",
    "emp_1.apply_raise()\n",
    "emp_2.apply_raise()\n",
    "\n",
    "# 연봉 인상 후\n",
    "print(emp_1.get_pay())\n",
    "print(emp_2.get_pay())\n",
    "\n",
    "Employee.calc_tax(1000, 0.05)   # static method 도 instance 를 통해 접근\n",
    "emp_1.calc_tax(1000, 0.04)"
   ]
  },
  {
   "cell_type": "markdown",
   "metadata": {},
   "source": [
    "## 연습문제\n",
    "\n",
    "- Car class 를 parent class 로 만들고 Sonata 와 Volvo 를 child class 로 구성\n",
    "\n",
    "- ``#CODE HERE`` 부분을 채워서 출력된 결과와 동일하도록 code 완성\n",
    "\n",
    "```\n",
    "black\n",
    "앞으로 전진 : 시속 100 km\n",
    "뒤로 후진 70 km/hour\n",
    "white\n",
    "5000000\n",
    "앞으로 전진 : 시속 200 km\n",
    "후진 불가\n",
    "```"
   ]
  },
  {
   "cell_type": "code",
   "execution_count": 15,
   "metadata": {},
   "outputs": [
    {
     "name": "stdout",
     "output_type": "stream",
     "text": [
      "black\n",
      "앞으로 전진 : 시속 100 km\n",
      "뒤로 후진 70 km/hour\n",
      "white\n",
      "5000000\n",
      "앞으로 전진 : 시속 200 km\n",
      "후진 불가\n",
      "None\n"
     ]
    }
   ],
   "source": [
    "class Car:\n",
    "    def __init__(self, color='red', power=2000):\n",
    "        self.color = color\n",
    "        self.power = power\n",
    "        self.speed = 0\n",
    "\n",
    "    def forward(self, speed):\n",
    "        self.speed += speed\n",
    "        return '앞으로 전진 : 시속 {} km'.format(self.speed)\n",
    "\n",
    "    def backward(self):\n",
    "        pass\n",
    "\n",
    "class Sonata(Car):\n",
    "    def __init__(self, color, power, size):\n",
    "        \n",
    "        # CODE HERE\n",
    "        \n",
    "    def backward(self, speed):\n",
    "        \n",
    "        # CODE HERE\n",
    "        \n",
    "class Volvo(Car):\n",
    "    def __init__(self, color, power, size, price):\n",
    "        \n",
    "        # CODE HERE\n",
    "\n",
    "    def forward(self, speed):\n",
    "        \n",
    "        # CODE HERE\n",
    "        \n",
    "    def backward(self):\n",
    "        \n",
    "        # CODE HERE\n",
    "        \n",
    "sonata = Sonata('black', 1800, 5)\n",
    "volvo = Volvo('white', 2500, 7, 5000000)\n",
    "\n",
    "print(sonata.color)\n",
    "print(sonata.forward(100))\n",
    "print(sonata.backward(30))\n",
    "\n",
    "print(volvo.color)\n",
    "print(volvo.price)\n",
    "print(volvo.forward(100))\n",
    "print(volvo.backward())"
   ]
  }
 ],
 "metadata": {
  "kernelspec": {
   "display_name": "Python 3 (ipykernel)",
   "language": "python",
   "name": "python3"
  },
  "language_info": {
   "codemirror_mode": {
    "name": "ipython",
    "version": 3
   },
   "file_extension": ".py",
   "mimetype": "text/x-python",
   "name": "python",
   "nbconvert_exporter": "python",
   "pygments_lexer": "ipython3",
   "version": "3.8.13"
  }
 },
 "nbformat": 4,
 "nbformat_minor": 2
}
