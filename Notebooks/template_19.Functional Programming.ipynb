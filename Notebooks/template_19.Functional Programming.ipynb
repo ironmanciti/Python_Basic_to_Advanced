{
 "cells": [
  {
   "cell_type": "markdown",
   "metadata": {},
   "source": [
    "# 19. Python Functional Programming"
   ]
  },
  {
   "cell_type": "markdown",
   "metadata": {},
   "source": [
    "### 19-1. 재귀함수 (Recursive Function)\n",
    "\n",
    "- 재귀(Recursion) 알고리즘의 3 가지 조건\n",
    "\n",
    "    1. 재귀함수는 종료조건 (exit condition, terminating condition, base case) 을 포함해야 한다.\n",
    "    2. base case 를 향하여 자신의 status 를 변경한다.\n",
    "    3. 한번이상 자기 자신을 호출한다.\n",
    "\n",
    "### 재귀 연습 1 - Factorial 함수 작성\n",
    "\n",
    "$𝑛!=𝑛⋅(𝑛−1)⋅(𝑛−2)⋯3⋅2⋅1 $\n",
    "\n",
    "1. for loop 사용 : 1 ~ n 까지를 순차적으로 곱한다.\n",
    "\n",
    "\n",
    "2. recursive  방법 사용"
   ]
  },
  {
   "cell_type": "markdown",
   "metadata": {},
   "source": [
    "- for loop 사용"
   ]
  },
  {
   "cell_type": "markdown",
   "metadata": {},
   "source": [
    "- recursive method"
   ]
  },
  {
   "cell_type": "markdown",
   "metadata": {},
   "source": [
    "## 19-2. map, reduce, filter 함수\n",
    "\n",
    "- map : 각각의 sequence 요소(element)에 대해 순서대로 한번씩 처리하여 새로운 list 를 반환\n",
    "\n",
    "\n",
    "- filter : sequence 의 element 중 test 를 통과한 element 로 구성된 새로운 list 반환\n",
    "\n",
    "\n",
    "- reduce : sequence 의 element 들을 왼쪽부터 두개씩 순차적으로 처리하며 누적된 결과가 최종적으로 하나가 되도록 한다.  "
   ]
  },
  {
   "cell_type": "markdown",
   "metadata": {},
   "source": [
    "### map(함수명, list)"
   ]
  },
  {
   "cell_type": "markdown",
   "metadata": {},
   "source": [
    "- 제곱을 계산하는 함수를 list 에 적용"
   ]
  },
  {
   "cell_type": "markdown",
   "metadata": {},
   "source": [
    "- 위와 동일한 계산을 lambda 로 구현"
   ]
  },
  {
   "cell_type": "markdown",
   "metadata": {},
   "source": [
    "- 두개의 list를 element별로 곱하기"
   ]
  },
  {
   "cell_type": "markdown",
   "metadata": {},
   "source": [
    "- 위와 동일한 계산을 lambda 로 구현"
   ]
  },
  {
   "cell_type": "markdown",
   "metadata": {},
   "source": [
    "### filter(함수명, list)\n",
    "\n",
    "filter 를 이용하면 if 문을 함수 안으로 숨길 수 있다."
   ]
  },
  {
   "cell_type": "markdown",
   "metadata": {},
   "source": [
    "- 5 보다 큰 숫자만 통과"
   ]
  },
  {
   "cell_type": "markdown",
   "metadata": {},
   "source": [
    "- lambda로 구현"
   ]
  },
  {
   "cell_type": "markdown",
   "metadata": {},
   "source": [
    "- \"김\"으로 시작하는 이름 filtering"
   ]
  },
  {
   "cell_type": "markdown",
   "metadata": {},
   "source": [
    "- 3의 배수만 통과"
   ]
  },
  {
   "cell_type": "markdown",
   "metadata": {},
   "source": [
    "### reduce \n",
    "\n",
    "- 누적 연산"
   ]
  },
  {
   "cell_type": "markdown",
   "metadata": {},
   "source": [
    "- lambda로 구현"
   ]
  },
  {
   "cell_type": "markdown",
   "metadata": {},
   "source": [
    "- list 의 element 전체를 하나의 문자열로 합치기"
   ]
  },
  {
   "cell_type": "markdown",
   "metadata": {},
   "source": [
    "## 19-3. decorator\n",
    "\n",
    "closure 는 외부 변수 (free variable) 을 내부 함수 (inner function)로 전달하여 기억하게 하는 것이고, decorator 는 함수를 내부 함수로 전달하여 기억하게 하는 것이다. 여기서 전달하는 함수를 original function 이라고 하고, 내부 함수를 wrapper function 이라고 한다.\n",
    "\n",
    "따라서, decorator 역시 함수를 parameter 로 전달 받고 반환할 수 있는 First-class 객체 language 에서만 구현 가능하다.\n",
    "\n",
    "- 목적 : 하나의 decorator 함수를 만들고 wrapper 함수에 변화를 줌으로서 parameter 로 받는 여러 함수들에 동작을 쉽게 추가"
   ]
  },
  {
   "cell_type": "markdown",
   "metadata": {},
   "source": [
    "- 함수를 parameter 로 받는 함수 생성"
   ]
  },
  {
   "cell_type": "markdown",
   "metadata": {},
   "source": [
    "- 한개의 parameter를 가진 함수를 decorate"
   ]
  },
  {
   "cell_type": "markdown",
   "metadata": {},
   "source": [
    "- 여러개의 parameter를 가진 함수를 decorate"
   ]
  },
  {
   "cell_type": "markdown",
   "metadata": {},
   "source": [
    "## 19-4. Generator\n",
    "\n",
    "- yield 문을 사용하여 값 return\n",
    "\n",
    "    \n",
    "- memory 를 효율적으로 사용할 수 있으므로 large data 처리에 유용"
   ]
  },
  {
   "cell_type": "markdown",
   "metadata": {},
   "source": [
    "- 일반적 함수 -> 한번에 결과값 반환"
   ]
  },
  {
   "cell_type": "markdown",
   "metadata": {},
   "source": [
    "- generator 함수 $\\rightarrow$ yield 문 안의 표현식을 반환하고, 실행 일시 중단"
   ]
  },
  {
   "cell_type": "markdown",
   "metadata": {},
   "source": [
    "- generator object 반환"
   ]
  },
  {
   "cell_type": "markdown",
   "metadata": {},
   "source": [
    "- next 내장 함수를 이용한 generator 호출"
   ]
  },
  {
   "cell_type": "markdown",
   "metadata": {},
   "source": [
    "- list 내장 함수를 이용한 generator 호출 $\\rightarrow$ list 생성  \n",
    "- 이전 next 문 이후 실행"
   ]
  },
  {
   "cell_type": "markdown",
   "metadata": {},
   "source": [
    "## 19-5. First Class Citizen (일급시민)\n",
    "\n",
    "- 변수에 담을 수 있다\n",
    "- 인자 (parameter) 로 전달할 수 잇다  \n",
    "- retrun 값으로 반환할 수 있다"
   ]
  },
  {
   "cell_type": "markdown",
   "metadata": {},
   "source": [
    "- 함수를 변수에 할당"
   ]
  },
  {
   "cell_type": "markdown",
   "metadata": {},
   "source": [
    "- 함수를 리스트의 element 로 사용"
   ]
  },
  {
   "cell_type": "markdown",
   "metadata": {},
   "source": [
    "- 함수를 다른 함수의 parameter 로 사용"
   ]
  },
  {
   "cell_type": "markdown",
   "metadata": {},
   "source": [
    "## 연습문제\n",
    "\n",
    "- ``lambda`` 를 이용하여 ``test_list`` 의 각 문장이 몇 개의 단어로 이루어져 있는지 출력하는 code 작성\n",
    "\n",
    "test_list = ['this is a book', 'good morning', 'apple', 'apple orange pear', 'hello python and functional programmiong']"
   ]
  }
 ],
 "metadata": {
  "kernelspec": {
   "display_name": "Python 3 (ipykernel)",
   "language": "python",
   "name": "python3"
  },
  "language_info": {
   "codemirror_mode": {
    "name": "ipython",
    "version": 3
   },
   "file_extension": ".py",
   "mimetype": "text/x-python",
   "name": "python",
   "nbconvert_exporter": "python",
   "pygments_lexer": "ipython3",
   "version": "3.9.12"
  }
 },
 "nbformat": 4,
 "nbformat_minor": 2
}
