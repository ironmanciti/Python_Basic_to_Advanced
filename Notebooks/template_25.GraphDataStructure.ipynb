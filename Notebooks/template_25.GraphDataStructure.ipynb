{
 "cells": [
  {
   "cell_type": "markdown",
   "metadata": {
    "collapsed": true
   },
   "source": [
    "# 25. Graph Data Structure\n",
    "\n",
    "### 그래프는 노드(node)와 그 노드를 연결하는 간선(edge)을 하나로 모아 놓은 자료 구조를 말한다.\n",
    "\n",
    "### 노드 (Node)\n",
    "\n",
    "정점(vertex)라고도 부르며 위치를 나타낸다.\n",
    "\n",
    "### Edge (간선)\n",
    "\n",
    "위치간의 연결선을 나타낸다. 일방향 혹은 양방향일 수 있다. \n",
    "\n",
    "###  가중치 (weight)\n",
    "\n",
    "두 node 사이를 이동하는 비용 (cost) 를 의미한다. 예를 들어 두개의 도시(node) 를 연결하는 길의 가중치는 두 도시 사이의 거리이다.\n",
    "\n",
    "### 그래프 (Graph)\n",
    "\n",
    "그래프는 $G=(V,E)$ 로 표시할 수 있고, 각 edge 는 연결되는 node 와 weight 의 tuple 로 표시한다  $(node1, node2, weight)$.\n",
    "\n",
    "<img src=\"graph_diagram.png\" width=\"300\">\n",
    "\n",
    "\n",
    "6 개의 node 와 9 개의 edge 로 구성된 위 그래프는 다음과 같이 node 와 edge 의 집합(set) 으로 표시한다.\n",
    "\n",
    "$$V=\\{a,b,c,d,e,f\\}$$\n",
    "\n",
    "$$E=\\{(a,b,7),(a,c,9),(a,f,14),(b,d,15),(b,c,10),(c,d,11),(c,f,2),(d,e,6),(e,f,9)\\}$$\n",
    "\n",
    "### 경로 (Path)\n",
    "\n",
    "경로는 node 를 통과하는 순서이다. 경로의 길이는 node 사이 edge 의 weight 를 모두 합한 것이다.\n",
    "예를 들어 경로 $(a, c, d, e)$ 의 edge 는 $\\{(a, c, 9), (c, d, 11), (d, e, 6)\\}$ 이 되고 경로의 길이는 26 이다.\n",
    "\n",
    "\n",
    "### Python class 를 이용한 Graph 구조 구현"
   ]
  },
  {
   "cell_type": "markdown",
   "metadata": {},
   "source": [
    "- `__iter__` : iterable object 반환"
   ]
  },
  {
   "cell_type": "markdown",
   "metadata": {},
   "source": [
    "- Graph class 선언"
   ]
  },
  {
   "cell_type": "markdown",
   "metadata": {},
   "source": [
    "- Graph instance 생성"
   ]
  },
  {
   "cell_type": "markdown",
   "metadata": {},
   "source": [
    "## 연습문제\n",
    "\n",
    "- 위에서 작성한 Graph g 에서 세개의 node 를 연결 (두개의 구간 연결)하는 거리를 계산하는 함수를 작성하세요"
   ]
  }
 ],
 "metadata": {
  "kernelspec": {
   "display_name": "Python 3 (ipykernel)",
   "language": "python",
   "name": "python3"
  },
  "language_info": {
   "codemirror_mode": {
    "name": "ipython",
    "version": 3
   },
   "file_extension": ".py",
   "mimetype": "text/x-python",
   "name": "python",
   "nbconvert_exporter": "python",
   "pygments_lexer": "ipython3",
   "version": "3.9.7"
  }
 },
 "nbformat": 4,
 "nbformat_minor": 2
}
