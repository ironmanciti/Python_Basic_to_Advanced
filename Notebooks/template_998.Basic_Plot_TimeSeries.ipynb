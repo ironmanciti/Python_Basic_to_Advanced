{
 "cells": [
  {
   "cell_type": "markdown",
   "metadata": {},
   "source": [
    "# Time Series data 시각화"
   ]
  },
  {
   "cell_type": "markdown",
   "metadata": {},
   "source": [
    "### 원달러 환율 시각화\n",
    "\n",
    "- FRED(Federal Reserve Economic Data) 에서 원달러 환율 가져오기\n",
    "\n",
    "`DEXKOUS` - South Korea Won-Dollar 환율"
   ]
  },
  {
   "cell_type": "markdown",
   "metadata": {},
   "source": [
    "# 시각화를 통한 주식 시장의 변동 장기 분석\n",
    "- 역사적 바닥, 천장 시각화  \n",
    "- 미국, 한국 시장, 금리 비교  \n",
    "- 비트코인 추세 시각화"
   ]
  },
  {
   "cell_type": "markdown",
   "metadata": {},
   "source": [
    "- 1970 년대 이후의 다우 존수 종합 지수 변동 시각화"
   ]
  },
  {
   "cell_type": "markdown",
   "metadata": {},
   "source": [
    "가격의 변화가 큰 경우 y 축을 log scale로 취하면 실제 가격 변동률의 착시 현상을 없앨 수 있다. (같은 등락률이 같은 길이로 표현)"
   ]
  },
  {
   "cell_type": "markdown",
   "metadata": {},
   "source": [
    "### 1973~74년 1차 오일 쇼크\n",
    "- 1979년 이란 혁명. 전세계적으로 물가는 상승하면서 실업 등의 문제는 오히려 심각해지는 스태그플레이션이 나타났으며, 미국의 FRB는 급작스럽게 불어난 달러를 미국 은행으로 회수하기 위해 금리를 21%까지 인상"
   ]
  },
  {
   "cell_type": "markdown",
   "metadata": {},
   "source": [
    "### Dow Jones 1974 년 바닥 이후 V자 급등"
   ]
  },
  {
   "cell_type": "markdown",
   "metadata": {},
   "source": [
    "### dot-com bubble (2000 년 3월)\n",
    "- 인터넷 관련 분야가 성장하면서 산업 국가의 주식 시장이 지분 가격의 급속한 상승을 본 1995년부터 닷컴 버블이 붕괴된 2001년까지 걸친 거품 경제 현상\n",
    "\n",
    "### 버블 붕괴 시의 다우존스 지수 하락"
   ]
  },
  {
   "cell_type": "markdown",
   "metadata": {},
   "source": [
    "### 2000 년 3월 dot-com bubble의 Nasdaq 붕괴\n",
    "1) 3/7 거래량이 크게 증가하며 하락  \n",
    "2) 3/10 오전장에서만 85 포인트 뛰어 오르며 사상 최고치 경신. 오후에 급락하여 불과 2 포인트 상승으로 마감.  거래량은 평균치 보다 13%나 많음. stall day (기관이 팔고 있다는 표시)  \n",
    "3) 3/14 대량 거래와 함께 4%나 하락  \n",
    "4) 3/16~24 까지 상승세. 랠리가 다시 시작되는 것 아닌가 하는 착각을 불러 일으킴.  \n",
    "5) 4번째 매물 출회되며 상승세에 찬물을 끼얹음.  stall day.  \n",
    "6) 5번째 매물 출회"
   ]
  },
  {
   "cell_type": "markdown",
   "metadata": {},
   "source": [
    "### Nasdaq 지수의 2003 년 바닥 확인 후 V자 상승"
   ]
  },
  {
   "cell_type": "markdown",
   "metadata": {},
   "source": [
    "### 금융위기 (2007 - 2010)\n",
    "-  2007년 4월(서브프라임 모기지 사태) 또는 2008년 9월부터 미국에서 시작된 세계 규모의 경제 위기"
   ]
  },
  {
   "cell_type": "markdown",
   "metadata": {},
   "source": [
    "### 2019년 코로나 팬데믹과 2022년의 하락세\n",
    "\n",
    "- 2019년 12월 중국 우한에서 최초 발생  \n",
    "- 한국 종합주가 지수와 비교"
   ]
  },
  {
   "cell_type": "markdown",
   "metadata": {},
   "source": [
    "### 2020년 양적 완화 이후의 주가 회복 "
   ]
  },
  {
   "cell_type": "markdown",
   "metadata": {},
   "source": [
    "## 비트코인 가격 추세"
   ]
  }
 ],
 "metadata": {
  "kernelspec": {
   "display_name": "Python 3 (ipykernel)",
   "language": "python",
   "name": "python3"
  },
  "language_info": {
   "codemirror_mode": {
    "name": "ipython",
    "version": 3
   },
   "file_extension": ".py",
   "mimetype": "text/x-python",
   "name": "python",
   "nbconvert_exporter": "python",
   "pygments_lexer": "ipython3",
   "version": "3.9.12"
  }
 },
 "nbformat": 4,
 "nbformat_minor": 2
}
