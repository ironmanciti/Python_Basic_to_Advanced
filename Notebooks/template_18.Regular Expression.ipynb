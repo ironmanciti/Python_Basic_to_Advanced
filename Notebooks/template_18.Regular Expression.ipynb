{
 "cells": [
  {
   "cell_type": "markdown",
   "metadata": {},
   "source": [
    "# 18. 정규식(Regular Expression)\n",
    "\n",
    "#### 정규식 혹은 정규표현식은 특정한 규칙을 가진 문자열의 집단을 표현하는 방식이다.\n",
    "\n",
    "- 특정한 규칙을 가진 문자열의 집합을 표현하는 데 사용하는 형식 언어"
   ]
  },
  {
   "cell_type": "markdown",
   "metadata": {},
   "source": [
    "## 정규식의 기본 pattern \n",
    "\n",
    "- 패턴(pattern) - 특정 목적을 위해 필요한 문자열 집합을 지정하기 위해 쓰이는 식\n",
    "\n",
    "### meta 문자\n",
    "\n",
    "- meta 문자는 특수한 의미를 가지므로 위와 같이 자기 자체로 match 시키지 않는다.   \n",
    "       . ^ $ * + ? { } [ ] \\ | ( )\n",
    "       \n",
    "- special character 는 ``\\``를 앞에 두면 된다. $\\text{ex) \\., \\\\\\, \\@, etc}$\n",
    "\n",
    "### single character match\n",
    "\n",
    "- ``a-z, A-Z, 0-9`` $\\leftarrow$ 영문 대/소문자, 숫자는 자기 자체로 match 시킨다.\n",
    "\n",
    "        ex) re.search(r'12g', 'p12g')  --> match='12g'\n",
    "\n",
    "- ``.`` (period) 는 아무 문자(any character) 와도 match. (단, \\n (new line) 제외)  \n",
    "\n",
    "\n",
    "- ``\\w`` 는 word character (a-z, A-Z, 0-9) 와 match. (single character)  \n",
    "\n",
    "- ``\\W`` - NOT ``\\w``\n",
    "\n",
    "\n",
    "- ``\\b`` 는 word (``\\w``) 와 non-word (``\\W``) 의 boundary (position)\n",
    "\n",
    "\n",
    "- ``\\s`` 는 white space (space, new line, return, tab) 와 match. (single white space)\n",
    "- ``\\S`` 는 non-white space \n",
    "\n",
    "\n",
    "- ``\\d`` 는 decimal digit (0-9) 와 match.\n",
    "- ``\\D`` - NOT ``\\d``\n",
    "\n",
    "### quantifier (나타나는 횟수)\n",
    "\n",
    "- ``*`` : 바로 앞 문자가 0 회 이상 나타남  \n",
    "\n",
    "- ``+`` : 바로 앞 문자가 1 회 이상 나타남  \n",
    "\n",
    "- ``?`` : 바로 앞 문자가 0 회 혹은 1 회 나타남 (optional)\n",
    "\n",
    "\n",
    "### position\n",
    "\n",
    "\n",
    "- ``^`` : string 의 처음을 의미, \n",
    "\n",
    "- ``$`` : string 의 끝을 의미한다.\n",
    "\n",
    "- \\[ \\] 내의 ``^`` 는 NOT 의미, ex) [^A-Z] : A-Z 을 제외한 문자\n",
    "\n",
    "\n",
    "### grouping\n",
    "- `( )`"
   ]
  },
  {
   "cell_type": "markdown",
   "metadata": {},
   "source": [
    "# Python 의 Regular Expression 문법\n",
    "- Python 은 정규식을 지원하는 re module 을 제공"
   ]
  },
  {
   "cell_type": "markdown",
   "metadata": {},
   "source": [
    "## 사용 method\n",
    "\n",
    "- re.compile(pattern) :\t패턴 문자열 pattern을 패턴 객체로 컴파일한다\n",
    "\n",
    "\n",
    "- re.search(pattern, string) :\tstring에서 pattern과 매치하는 텍스트를 탐색한다 (처음 한개 매치)\n",
    "\n",
    "\n",
    "- re.findall( ) : string 에서 pattern 과 match 되는 것을 전부 list 로 반환\n",
    "\n",
    "\n",
    "- re.sub(pattern, repl, string) : string에서 pattern과 매치하는 텍스트를 repl로 치환한다  "
   ]
  },
  {
   "cell_type": "markdown",
   "metadata": {},
   "source": [
    "## re.compile\n",
    "\n",
    "1. re.compile 을 이용하여 정규식을 compile 하여 pattern 객체를 얻음. \n",
    "\n",
    "\n",
    "2. pattern 객체를 이용하여 문자열의 검색을 수행.   "
   ]
  },
  {
   "cell_type": "markdown",
   "metadata": {},
   "source": [
    "- 문자열 내의 전화번호 추출"
   ]
  },
  {
   "cell_type": "markdown",
   "metadata": {},
   "source": [
    "## re.search( )  \n",
    "\n",
    "- 문자열 전체를 검색하여 정규식과 match 되는지 조사  (문자열의 아무곳이나 match)    \n",
    "\n",
    "```\n",
    "    match = re.search(pattern, str)  \n",
    "```\n",
    "\n",
    "- 검색하여 match 되는 문자열이 있으면 match object 를 반환하고, 없으면 None 이 반환된다.\n",
    "\n",
    "- match 다음에 즉시 if 문으로 match 성공 여부를 check.\n",
    "\n",
    "- match 에는 match 결과가 저장되고 match.group() method 를 통해 matching text 를 가져온다."
   ]
  },
  {
   "cell_type": "markdown",
   "metadata": {},
   "source": [
    "- `word:xxx` 의 pattern 탐색"
   ]
  },
  {
   "cell_type": "markdown",
   "metadata": {},
   "source": [
    "### 첫번째 match 되는 string 검색"
   ]
  },
  {
   "cell_type": "markdown",
   "metadata": {},
   "source": [
    "- 12g 검색"
   ]
  },
  {
   "cell_type": "markdown",
   "metadata": {},
   "source": [
    "- iii 검색"
   ]
  },
  {
   "cell_type": "markdown",
   "metadata": {},
   "source": [
    "- igs 검색"
   ]
  },
  {
   "cell_type": "markdown",
   "metadata": {},
   "source": [
    "- 두개의 any character + `g` 검색"
   ]
  },
  {
   "cell_type": "markdown",
   "metadata": {},
   "source": [
    "- 숫자 3개 연속 패턴 검색"
   ]
  },
  {
   "cell_type": "markdown",
   "metadata": {},
   "source": [
    "- word 3개 연속 패턴 검색"
   ]
  },
  {
   "cell_type": "markdown",
   "metadata": {},
   "source": [
    "- bo로 시작하는 패턴 검색"
   ]
  },
  {
   "cell_type": "markdown",
   "metadata": {},
   "source": [
    "- ok로 끝나는 패턴 검색"
   ]
  },
  {
   "cell_type": "markdown",
   "metadata": {},
   "source": [
    "### match 되는 pattern 의 반복 (Repetition)\n",
    "\n",
    "- \\+ $\\rightarrow$ 1개 혹은 그 이상의 해당 pattern 이 왼쪽에 있음\n",
    "\n",
    "\n",
    "- \\* $\\rightarrow$ 0 혹은 그 이상의 해당 pattern 이 왼쪽에 있음\n",
    "\n",
    "\n",
    "- \\? $\\rightarrow$ 0 혹은 1 개의 해당 pattern 이 왼쪽에 있음"
   ]
  },
  {
   "cell_type": "markdown",
   "metadata": {},
   "source": [
    "- p 다음에 i 가 0 혹은 그 이상 존재 하는 패턴"
   ]
  },
  {
   "cell_type": "markdown",
   "metadata": {},
   "source": [
    "- i 가 1 개 혹은 그 이상 존재하는 패턴"
   ]
  },
  {
   "cell_type": "markdown",
   "metadata": {},
   "source": [
    "- ``숫자 1 + white space 0 개 이상 + 숫자 1 + white space 0개 이상 + 숫자 1`` 의 pattern  \n",
    "    - 123  \n",
    "    - 1 2  3  \n",
    "    - 12   3  "
   ]
  },
  {
   "cell_type": "markdown",
   "metadata": {},
   "source": [
    "- ``b+\\w``로 시작하는 패턴"
   ]
  },
  {
   "cell_type": "markdown",
   "metadata": {},
   "source": [
    "- ``b+\\w`` 패턴"
   ]
  },
  {
   "cell_type": "markdown",
   "metadata": {},
   "source": [
    "### Leftmost and Largest (Greedy) Matching 규칙\n",
    "\n",
    "- regular expression 은 가장 왼쪽 (leftmost) match 를 먼저 찾고 반복 메타 문자 (``.``, ``*``, ``+``)를 만족하는 한 match 를 계속 찾는다.  $\\rightarrow$ greedy search  "
   ]
  },
  {
   "cell_type": "markdown",
   "metadata": {},
   "source": [
    "예) ```From: using the : character``` 에서 ```From:``` 을 찾으려는 경우\n",
    "\n",
    "`F` + `any character가 1개 이상` 있고 `:` 으로 끝나는 패턴"
   ]
  },
  {
   "cell_type": "markdown",
   "metadata": {},
   "source": [
    "### Greedy matching 을 억제하는 방법\n",
    "\n",
    "- `?` 을 이용하여 non-greedy 로 변경  \n",
    "\n",
    "- `?` 는 if 문의 역할"
   ]
  },
  {
   "cell_type": "markdown",
   "metadata": {},
   "source": [
    "### 대괄호 ([  ])\n",
    "\n",
    "- character set 을 표시한다. 예를 들어 ``[abc]`` 는 a, b, c 와 match 된다. 단, ``[ ]`` 내의 ``.`` 는 메타 문자가 아니라 실제 ``.`` 표시이다.   \n",
    "\n",
    "\n",
    "- ``[]`` 는 character set 중의 한 개 글자를 의미 \n",
    "\n",
    "    ```[0-9]``` : ``0~9`` 중 single digit  \n",
    "    ```[0-9]+``` : ``0~9`` 중 한개 이상의 digit"
   ]
  },
  {
   "cell_type": "markdown",
   "metadata": {},
   "source": [
    "- 일반화된 email 패턴 검색"
   ]
  },
  {
   "cell_type": "markdown",
   "metadata": {},
   "source": [
    "### Group 구분\n",
    "\n",
    "matching text 를 여러 부분으로 구분할 때 사용"
   ]
  },
  {
   "cell_type": "markdown",
   "metadata": {},
   "source": [
    "- email의 개인 id, domain 구분 인식"
   ]
  },
  {
   "cell_type": "markdown",
   "metadata": {},
   "source": [
    "## re.findall\n",
    "- re.search() 는 첫번째 match 하나만 return\n",
    "\n",
    "- re.findall() 은 string 에서 match 되는 것 전부 list 로 return"
   ]
  },
  {
   "cell_type": "markdown",
   "metadata": {},
   "source": [
    "-  문자열에서 12g 를 모두 검색"
   ]
  },
  {
   "cell_type": "markdown",
   "metadata": {},
   "source": [
    "- 문자열에서 두개의 숫자 + word 패턴 모두 검색"
   ]
  },
  {
   "cell_type": "markdown",
   "metadata": {},
   "source": [
    "- 문장 내부의 이메일 모두 추출"
   ]
  },
  {
   "cell_type": "markdown",
   "metadata": {},
   "source": [
    "- list로 추출"
   ]
  },
  {
   "cell_type": "markdown",
   "metadata": {},
   "source": [
    "- id와 domain을 구분한 형태로 추출"
   ]
  },
  {
   "cell_type": "markdown",
   "metadata": {},
   "source": [
    "- group 별로 처리하려면 re.search 사용"
   ]
  },
  {
   "cell_type": "markdown",
   "metadata": {},
   "source": [
    "- ```emailbox-short.txt``` 파일에서 email 주소만 모두 추출"
   ]
  },
  {
   "cell_type": "markdown",
   "metadata": {},
   "source": [
    "- ```From ``` 으로 시작하는 line 에서 ```:``` 앞에 나타나는 두자리 숫자를 5개 출력"
   ]
  },
  {
   "cell_type": "markdown",
   "metadata": {},
   "source": [
    "## 한글 처리"
   ]
  },
  {
   "cell_type": "markdown",
   "metadata": {},
   "source": [
    "## re.sub\n",
    "- ``re.sub(pattern, repl, string)`` : ``string``에서 ``pattern``과 매치하는 텍스트를 ``repl``로 치환"
   ]
  },
  {
   "cell_type": "markdown",
   "metadata": {},
   "source": [
    "- text 내부의 ``[숫자]`` 패턴을 모두 삭제"
   ]
  },
  {
   "cell_type": "markdown",
   "metadata": {},
   "source": [
    "- 영숫자 외에는 모두 삭제"
   ]
  },
  {
   "cell_type": "markdown",
   "metadata": {},
   "source": [
    "### 연습문제"
   ]
  },
  {
   "cell_type": "markdown",
   "metadata": {},
   "source": [
    "### HTML 에서 BABY 이름 찾기 (https://developers.google.com/edu/python/exercises/baby-names)\n",
    "\n",
    "- baby1998.html 에서  \n",
    "\n",
    "`<tr align=\"right\"><td>1</td><td>Michael</td><td>Jessica</td>` 에  \n",
    "\n",
    "match 되는 정규표현식을 이용하여 순위, 남자 아이 이름, 여자 아이 이름을 추출하여 출력한다.\n",
    "\n",
    "```\n",
    "import sys\n",
    "import re\n",
    "\n",
    "def extract_name(filename):\n",
    "    f = open(filename, 'r')\n",
    "    text = f.read()\n",
    "    \n",
    "    %% Your Code Here %%\n",
    "\n",
    "if __name__ == '__main__':\n",
    "    args = sys.argv[1:]\n",
    "    if not args:\n",
    "        print(\"file 명을 parameter 로 입력 바랍니다.\")\n",
    "        sys.exit(1)\n",
    "\n",
    "    filename = './babynames/' + args[0]\n",
    "    extract_name(filename)\n",
    "```"
   ]
  }
 ],
 "metadata": {
  "kernelspec": {
   "display_name": "Python 3 (ipykernel)",
   "language": "python",
   "name": "python3"
  },
  "language_info": {
   "codemirror_mode": {
    "name": "ipython",
    "version": 3
   },
   "file_extension": ".py",
   "mimetype": "text/x-python",
   "name": "python",
   "nbconvert_exporter": "python",
   "pygments_lexer": "ipython3",
   "version": "3.9.12"
  }
 },
 "nbformat": 4,
 "nbformat_minor": 2
}
