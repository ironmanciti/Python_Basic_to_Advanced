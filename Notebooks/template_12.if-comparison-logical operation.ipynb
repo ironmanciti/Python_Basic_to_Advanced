{
 "cells": [
  {
   "cell_type": "markdown",
   "metadata": {},
   "source": [
    "# 12. 조건문 \n",
    "\n",
    "## 12-1. 조건문 (if statement) 과 Boolean 자료형\n",
    "\n",
    "### boolean 자료형 :  True, False, bool( )\n",
    "\n",
    "### 조건이 참(True) 인 경우만 명령 수행\n",
    "\n",
    "### 문법 :\n",
    "```    \n",
    "    if <test 문>:\n",
    "        <body1>\n",
    "    elif <test 문>:\n",
    "        <body2>\n",
    "    else:\n",
    "        <body3>\n",
    "```        \n",
    "### Python 의 False 와 True \n",
    "\n",
    "    False : empty string(\"\"), None, [], (), 0, False\n",
    "    True  : 그 외의 모든 value"
   ]
  },
  {
   "cell_type": "markdown",
   "metadata": {},
   "source": [
    "- if, elif, else"
   ]
  },
  {
   "cell_type": "markdown",
   "metadata": {},
   "source": [
    "- if block 내의 if block"
   ]
  },
  {
   "cell_type": "markdown",
   "metadata": {},
   "source": [
    "- bool type 변수"
   ]
  },
  {
   "cell_type": "markdown",
   "metadata": {},
   "source": [
    "- 0 는 False 로 간주"
   ]
  },
  {
   "cell_type": "markdown",
   "metadata": {},
   "source": [
    "- 0 외의 모든 값은 True로 간주"
   ]
  },
  {
   "cell_type": "markdown",
   "metadata": {},
   "source": [
    "- False로 간주되는 Python values"
   ]
  },
  {
   "cell_type": "markdown",
   "metadata": {},
   "source": [
    "- True로 간주되는 Python values"
   ]
  },
  {
   "cell_type": "markdown",
   "metadata": {},
   "source": [
    "## 12-2. 비교 (Comparison)\n",
    "\n",
    "### 비교연산자 8 가지 :\n",
    "\n",
    "    x <  y \n",
    "    x <= y\n",
    "    x == y   (두 변수의 value 가 같은지 비교) \n",
    "    x >= y\n",
    "    x >  y\n",
    "    x != y\n",
    "    x in y\n",
    "    x is y     (두 object 가 동일한지 비교)"
   ]
  },
  {
   "cell_type": "markdown",
   "metadata": {},
   "source": [
    "- object 비교"
   ]
  },
  {
   "cell_type": "markdown",
   "metadata": {},
   "source": [
    "- 비교문"
   ]
  },
  {
   "cell_type": "markdown",
   "metadata": {},
   "source": [
    "- integer와 float 비교"
   ]
  },
  {
   "cell_type": "markdown",
   "metadata": {},
   "source": [
    "- integer와 string 비교"
   ]
  },
  {
   "cell_type": "markdown",
   "metadata": {},
   "source": [
    "- 대소 관계 비교"
   ]
  },
  {
   "cell_type": "markdown",
   "metadata": {},
   "source": [
    "- 비교문 내의 연산"
   ]
  },
  {
   "cell_type": "markdown",
   "metadata": {},
   "source": [
    "- for 문을 이용한 list element 처리"
   ]
  },
  {
   "cell_type": "markdown",
   "metadata": {},
   "source": [
    "- in 연산자를 이용한 비교"
   ]
  },
  {
   "cell_type": "markdown",
   "metadata": {},
   "source": [
    "- value를 비교할 때는 `is`를 사용하지 말 것"
   ]
  },
  {
   "cell_type": "markdown",
   "metadata": {},
   "source": [
    "- for 문 내의 비교문"
   ]
  },
  {
   "cell_type": "markdown",
   "metadata": {},
   "source": [
    "- continue 문"
   ]
  },
  {
   "cell_type": "markdown",
   "metadata": {},
   "source": [
    "- indexing을 이용한 비교"
   ]
  },
  {
   "cell_type": "markdown",
   "metadata": {},
   "source": [
    "## 12-3. 논리연산 (Logical Operation)\n",
    "\n",
    "    True  and True  --> True   (1 * 1 = 1)\n",
    "    True  or  True  --> True   (1 + 1 = 2)\n",
    "    True  and False --> False  (1 * 0 = 0)\n",
    "    True  or  False --> True   (1 + 0 = 1)\n",
    "    False and False --> False  (0 * 0 = 0) \n",
    "    False or  False --> False  (0 + 0 = 0)\n",
    "    \n",
    "    not True  --> False\n",
    "    not False --> True"
   ]
  },
  {
   "cell_type": "markdown",
   "metadata": {},
   "source": [
    "- and 연산"
   ]
  },
  {
   "cell_type": "markdown",
   "metadata": {},
   "source": [
    "- list indexing을 이용한 and 연산"
   ]
  },
  {
   "cell_type": "markdown",
   "metadata": {},
   "source": [
    "- or 연산"
   ]
  },
  {
   "cell_type": "markdown",
   "metadata": {},
   "source": [
    "- and, or 연산 함께 사용"
   ]
  },
  {
   "cell_type": "markdown",
   "metadata": {},
   "source": [
    "## 연습문제"
   ]
  },
  {
   "cell_type": "markdown",
   "metadata": {},
   "source": [
    "1) 다음 list 에서 10 과 30 사이의 숫자 중 홀수만 골라 출력하라.\n",
    "\n",
    "    xlist = [-5, 5, 10, 12, 13, 14, 15, 25, 30, 40, 55, 100]\n",
    "    \n",
    "    (결과)  \n",
    "    13  15  25"
   ]
  },
  {
   "cell_type": "markdown",
   "metadata": {},
   "source": [
    "2) 파이썬 강좌의 수강생 목록은 다음과 같다. 어떤 사람이 수강생 목록에 존재하는지 check 하는 함수를 작성하라.\n",
    "   목록에 존재하면 True, 존재하지 않으면 False 를 반환한다.\n",
    "   \n",
    "   \n",
    "       학생부 : [\"김철수\", \"홍길동\", \"Jone Doe\", \"김정은\", \"트럼프\", \"성춘향\"]\n",
    "       \n",
    "       (ex)  \n",
    "       print(check_list(students, \"홍길동\"))  -> True"
   ]
  },
  {
   "cell_type": "markdown",
   "metadata": {},
   "source": [
    "3) 다음의 주민번호 리스트에서 남, 녀 별로 90 년생 이후 출생자를 골라내라."
   ]
  }
 ],
 "metadata": {
  "kernelspec": {
   "display_name": "Python 3 (ipykernel)",
   "language": "python",
   "name": "python3"
  },
  "language_info": {
   "codemirror_mode": {
    "name": "ipython",
    "version": 3
   },
   "file_extension": ".py",
   "mimetype": "text/x-python",
   "name": "python",
   "nbconvert_exporter": "python",
   "pygments_lexer": "ipython3",
   "version": "3.9.7"
  }
 },
 "nbformat": 4,
 "nbformat_minor": 2
}
