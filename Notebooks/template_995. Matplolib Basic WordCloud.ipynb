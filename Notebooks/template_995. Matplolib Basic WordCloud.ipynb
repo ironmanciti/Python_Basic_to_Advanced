{
 "cells": [
  {
   "cell_type": "markdown",
   "metadata": {
    "slideshow": {
     "slide_type": "slide"
    }
   },
   "source": [
    "# 008. Matplotlib Crash - Basic Matplotlib"
   ]
  },
  {
   "cell_type": "markdown",
   "metadata": {
    "slideshow": {
     "slide_type": "slide"
    }
   },
   "source": [
    "# Basic Plotting with matplotlib\n",
    "\n",
    "## matplotlib 은 두가지 style 로 사용 가능"
   ]
  },
  {
   "cell_type": "markdown",
   "metadata": {
    "slideshow": {
     "slide_type": "subslide"
    }
   },
   "source": [
    "1. Functional Programing Style  \n",
    "```\n",
    "import matplotlib.pyplot as plt  \n",
    "plt.plot(x, y)\n",
    "```\n",
    "\n",
    "2. OOP style\n",
    "```\n",
    "fig, ax = plt.subplots()  \n",
    "ax.plot(x, y)\n",
    "```"
   ]
  },
  {
   "cell_type": "markdown",
   "metadata": {
    "slideshow": {
     "slide_type": "subslide"
    }
   },
   "source": [
    "**matlab style (pylab) 은 더이상 사용하지 않음**\n",
    "\n",
    "**pyplot 의 object 구성**\n",
    "\n",
    "<center><img src=\"fig_map.webp\" width=\"350\"/></center>"
   ]
  },
  {
   "cell_type": "markdown",
   "metadata": {
    "slideshow": {
     "slide_type": "slide"
    }
   },
   "source": [
    "## Functional Programming Style"
   ]
  },
  {
   "cell_type": "markdown",
   "metadata": {
    "slideshow": {
     "slide_type": "slide"
    }
   },
   "source": [
    "### 점찍기"
   ]
  },
  {
   "cell_type": "markdown",
   "metadata": {
    "slideshow": {
     "slide_type": "slide"
    }
   },
   "source": [
    "### 선긋기"
   ]
  },
  {
   "cell_type": "markdown",
   "metadata": {},
   "source": [
    "## subplot"
   ]
  },
  {
   "cell_type": "markdown",
   "metadata": {},
   "source": [
    "### figure size 조절"
   ]
  },
  {
   "cell_type": "markdown",
   "metadata": {
    "slideshow": {
     "slide_type": "slide"
    }
   },
   "source": [
    "### title, label 추가"
   ]
  },
  {
   "cell_type": "markdown",
   "metadata": {},
   "source": [
    "### scatter plot (산점도)"
   ]
  },
  {
   "cell_type": "markdown",
   "metadata": {},
   "source": [
    "### data point 표시 및 연결"
   ]
  },
  {
   "cell_type": "markdown",
   "metadata": {
    "slideshow": {
     "slide_type": "slide"
    }
   },
   "source": [
    "### bar chart"
   ]
  },
  {
   "cell_type": "markdown",
   "metadata": {},
   "source": [
    "### 수평 bar chart"
   ]
  },
  {
   "cell_type": "markdown",
   "metadata": {
    "slideshow": {
     "slide_type": "slide"
    }
   },
   "source": [
    "## histogram"
   ]
  },
  {
   "cell_type": "markdown",
   "metadata": {},
   "source": [
    "## Pie Chart\n",
    "\n",
    "- explode는 부채꼴이 파이 차트의 중심에서 벗어나는 정도를 설정  \n",
    "\n",
    "- autopct는 부채꼴 안에 표시될 숫자의 형식을 지정"
   ]
  },
  {
   "cell_type": "markdown",
   "metadata": {},
   "source": [
    "## Random walk 시각화"
   ]
  },
  {
   "cell_type": "markdown",
   "metadata": {},
   "source": [
    "### 다중 random walk 시각화"
   ]
  },
  {
   "cell_type": "markdown",
   "metadata": {
    "slideshow": {
     "slide_type": "slide"
    }
   },
   "source": [
    "## OOP style"
   ]
  },
  {
   "cell_type": "markdown",
   "metadata": {
    "slideshow": {
     "slide_type": "slide"
    }
   },
   "source": [
    "## multiple subplots"
   ]
  },
  {
   "cell_type": "markdown",
   "metadata": {
    "slideshow": {
     "slide_type": "slide"
    }
   },
   "source": [
    "**y = x + noise 인 (x, y) 쌍의 toy data 생성**"
   ]
  },
  {
   "cell_type": "markdown",
   "metadata": {},
   "source": [
    "### plt.subplots() 는 OOP style 에서 pyplot 을 이용하는 유일한 경우이다. "
   ]
  },
  {
   "cell_type": "markdown",
   "metadata": {},
   "source": [
    "- 동일한 plot 을 함수형 방식으로 그리기"
   ]
  },
  {
   "cell_type": "markdown",
   "metadata": {},
   "source": [
    "### subplots axis 지정 방법"
   ]
  },
  {
   "cell_type": "markdown",
   "metadata": {},
   "source": [
    "## axis 공유"
   ]
  },
  {
   "cell_type": "markdown",
   "metadata": {},
   "source": [
    "- subplot 4 개 그리기"
   ]
  },
  {
   "cell_type": "markdown",
   "metadata": {},
   "source": [
    "## gridspec 을 이용한 subplot customization\n",
    "\n",
    "- gridspec 패키지를 사용하여 플롯의 여백과 개별 서브 플로트 간의 간격을 쉽게 제어   \n",
    "\n",
    "\n",
    "- 동일한 그림에 다른 크기의 축을 허용\n",
    "\n",
    "<img src=\"empty_gridspec.webp\" width=\"300\">\n",
    "<img src=\"empty_gridspec_annot.webp\" width=\"300\">"
   ]
  },
  {
   "cell_type": "markdown",
   "metadata": {},
   "source": [
    "### Box and Whisker Plots (상자 수염 그림) \n",
    "\n",
    "- 5가지 통계 요약 수치 (최솟값, 제 1사분위, 제 2사분위, 제 3사분위, 최댓값) 로 작성"
   ]
  },
  {
   "cell_type": "markdown",
   "metadata": {},
   "source": [
    "- box plot 그리기"
   ]
  },
  {
   "cell_type": "markdown",
   "metadata": {},
   "source": [
    "## ticker\n",
    "\n",
    "- set_major_formatter() : Set the formatter of the major ticker  \n",
    "- yaxis.get_ticklabels : Get the tick labels as a list of Text instances"
   ]
  },
  {
   "cell_type": "markdown",
   "metadata": {},
   "source": [
    "## Stack Plot\n",
    "\n",
    "- 스택 플롯은 각 부분이 전체를 구성하는 방식을 쉽게 시각화하여 전체 데이터 세트를 보여주는 플롯.\n",
    "\n",
    "- 스택 플롯의 각 구성 요소는 서로 겹쳐진다.\n",
    "\n",
    "- 전체 단위뿐만 아니라 단위의 부분 구성을 보여준다."
   ]
  },
  {
   "cell_type": "markdown",
   "metadata": {},
   "source": [
    "## Imshow\n",
    "\n",
    "image data 처럼 행과 열을 가진 행렬 형태의 2차원 데이터는 imshow 로 표시"
   ]
  },
  {
   "cell_type": "markdown",
   "metadata": {},
   "source": [
    "## Word Cloud \n",
    "\n",
    "`Word Cloud` (텍스트 클라우드 또는 태그 클라우드라고도 함)는 간단한 방식으로 작동합니다. 텍스트 데이터 소스 (예 : 음성, 블로그 게시물 또는 데이터베이스)에 특정 단어가 더 많이 나타날수록 더 크고 굵게 표시됩니다. \n",
    "\n",
    "`Word Cloud`는 일반적으로 텍스트 데이터의 고급 분석 및 시각화를 수행하는 데 사용됩니다. *이상한 나라의 엘리스*라는 단편 소설을 분석해 보겠습니다."
   ]
  },
  {
   "cell_type": "markdown",
   "metadata": {},
   "source": [
    "다음으로 `wordcloud`에서 가져온 불용어를 사용하겠습니다. *set* 함수를 사용하여 중복 불용어를 제거합니다."
   ]
  },
  {
   "cell_type": "markdown",
   "metadata": {},
   "source": [
    "단어 구름 개체를 만들고 단어 구름을 생성합니다. 단순화를 위해 소설의 처음 2000 개 단어 만 사용하여 단어 구름을 생성 해 보겠습니다."
   ]
  },
  {
   "cell_type": "markdown",
   "metadata": {},
   "source": [
    "소설의 처음 2000 개 단어에서 가장 일반적인 단어는 **Alice**, **said**, **little**, **Queen** 등 입니다. **said**은 실제로 유용한 단어가 아닙니다. 이제 불용어에 추가하고 클라우드를 다시 생성 해 보겠습니다.\n",
    "\n",
    "자주 사용하지 않는 단어를 조금 더 잘 볼 수 있도록 클라우드 크기를 조정 해 보겠습니다."
   ]
  },
  {
   "cell_type": "markdown",
   "metadata": {},
   "source": [
    "`word_cloud` 패키지로 구현할 수있는 또 다른 멋진 기능은 모든 모양의 마스크에 단어를 겹쳐 놓는 것입니다. "
   ]
  },
  {
   "cell_type": "markdown",
   "metadata": {},
   "source": [
    "## 실전 문제\n",
    "\n",
    "### Data Science 분야에 대한 관심도 조사 결과를 시각화"
   ]
  },
  {
   "cell_type": "markdown",
   "metadata": {},
   "source": [
    "### 1 단계 - 관심도 높은 순서로 정렬"
   ]
  },
  {
   "cell_type": "markdown",
   "metadata": {},
   "source": [
    "### 2 단계 - 응답한 숫자를 전체 응답 숫자에 대한 비율로 전환"
   ]
  },
  {
   "cell_type": "markdown",
   "metadata": {},
   "source": [
    "### 3 단계 - 조사 분야별로 bar chart 작성하여 비교"
   ]
  }
 ],
 "metadata": {
  "kernelspec": {
   "display_name": "Python 3 (ipykernel)",
   "language": "python",
   "name": "python3"
  },
  "language_info": {
   "codemirror_mode": {
    "name": "ipython",
    "version": 3
   },
   "file_extension": ".py",
   "mimetype": "text/x-python",
   "name": "python",
   "nbconvert_exporter": "python",
   "pygments_lexer": "ipython3",
   "version": "3.9.12"
  }
 },
 "nbformat": 4,
 "nbformat_minor": 2
}
