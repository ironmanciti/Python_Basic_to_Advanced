{
 "cells": [
  {
   "cell_type": "markdown",
   "metadata": {},
   "source": [
    "# Appendix 3. Memoization (메모이제이션)\n",
    "\n",
    "- 컴퓨터 프로그램이 동일한 계산을 반복해야 할 때, 이전에 계산한 값을 메모리에 저장함으로써 동일한 계산의 반복 수행을 제거하여 프로그램 실행 속도를 빠르게 하는 기술. (caching 이라고도 부른다.)\n",
    "\n",
    "- Memoization 이 필요한 가장 좋은 예는 피보나치 수열의 점화식(漸化式, Recurrence relation) 이다.\n",
    "\n",
    "    1, 1, 2, 3, 5, 8, 13, 21, 34 .......\n",
    "\n",
    "$$ F(n) := \\begin{cases}0 & \\quad \\text{if n = 0;}\\\\1 & \\quad \\text{if n = 1;} \\\\ F(n-1) + F(n-2) & \\quad \\text{if n > 1.} \\end{cases}$$"
   ]
  },
  {
   "cell_type": "markdown",
   "metadata": {},
   "source": [
    "fib(64)는 재귀 호출을 18,446,744,073,709,551,615 $( 2^{64} – 1 )$ 회 실행해야 한다. 이 알고리듬은 매우 간결하고 깔끔한 코드로 보이지만, 불필요한 중복 계산을 너무 많이 한다. 예를 들어 64번째 항을 구하기 위해서는 63번째와 62번째 항을 더해야 하므로 결국 62번째는 2번 계산된다. 즉 1에 가까워질수록 중복 계산횟수가 기하급수적으로 늘어나는 것이다.\n",
    "\n",
    "<img src=\"memoization.png\" width=\"600\">"
   ]
  },
  {
   "cell_type": "markdown",
   "metadata": {},
   "source": [
    "### memoization 기법\n",
    "\n",
    "다음 코드는 불필요한 계산을 피하기 위해서 한 번 계산한 결과를 사전에 저장했다가, 계산 결과가 있으면 바로 꺼내서 보여주는 식이다. 이러한 성능 개선 방식을 캐싱 또는 메모이제이션이라 한다."
   ]
  },
  {
   "cell_type": "markdown",
   "metadata": {},
   "source": [
    "한 번 계산한 결과를 재계산 할 필요가 없고, 그것이 재귀 호출을 막는 방식이므로 64번만 계산하면 된다. "
   ]
  },
  {
   "cell_type": "markdown",
   "metadata": {},
   "source": [
    "## Dynamic Programming\n",
    "\n",
    "- 어려운 문제를 여러개의 하위 문제로 쪼개고, 이 하위 문제 (subproblem) 들을 먼저 푸는 방법\n",
    "- 먼저 푼 subproblem 의 결과값을 table 에 저장하여 상위 문제에서 재사용\n",
    "\n",
    "\n",
    "- (예제) matrix 의 최단 경로 계산 문제\n",
    "    - 정수들이 저장된 nXn matrix 의 좌상단에서 우하단까지 이동한다. 단, 오른쪽이나 아래쪽으로만 이동할 수 있다.\n",
    "    - 방문한 cell 에 있는 정수값들의 합이 최소화되는 경로를 구한다.\n",
    "        - L[i, j] : (0,0) 에서 (i, j) 까지 이르는 최소 합\n",
    "    - 점화식 도출을 위한 하위문제 도출:\n",
    "        - (i, j) 에 도달하기 위해서는 반드시 (i-1, j) 혹은 (i, j-1) 을 거쳐야만 한다.\n",
    "        - i = 0, j = 0 는 L[0, 0]\n",
    "        - i = 0 이면 L[0, j-1] + m_ij\n",
    "        - j = 0 이면 L[i-1, 0] + m_ij\n",
    "                                                            matrix\n",
    "<img src=\"matrix.png\" width=\"150\">\n",
    "\n",
    "                                                            minimum path\n",
    "<img src=\"matrix_path.png\" width=\"150\">"
   ]
  },
  {
   "cell_type": "markdown",
   "metadata": {},
   "source": [
    "## 단순 재귀적 방법"
   ]
  },
  {
   "cell_type": "markdown",
   "metadata": {},
   "source": [
    "## Dynamic Programming (Memoization)"
   ]
  }
 ],
 "metadata": {
  "kernelspec": {
   "display_name": "Python 3 (ipykernel)",
   "language": "python",
   "name": "python3"
  },
  "language_info": {
   "codemirror_mode": {
    "name": "ipython",
    "version": 3
   },
   "file_extension": ".py",
   "mimetype": "text/x-python",
   "name": "python",
   "nbconvert_exporter": "python",
   "pygments_lexer": "ipython3",
   "version": "3.9.12"
  }
 },
 "nbformat": 4,
 "nbformat_minor": 2
}
