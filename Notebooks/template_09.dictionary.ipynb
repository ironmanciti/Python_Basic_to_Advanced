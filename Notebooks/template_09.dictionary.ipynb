{
 "cells": [
  {
   "cell_type": "markdown",
   "metadata": {},
   "source": [
    "# 9. 딕셔너리 (Dictionary) 자료형\n",
    "\n",
    "#### dictionary 는 key-value 쌍으로 이루어진 data type 이다.\n",
    "\n",
    "#### dictionary 는 { } 내에 key: value 로 표시한다.\n",
    "\n",
    "#### list, tuple 의 elemtent 들은 indexing 에 의해 접근하지만 , dictionary 는 key 값으로 접근한다.\n",
    "\n",
    "    dictionary = {key: value, key: value...}\n",
    "    \n",
    "<img src=\"./images/dict1.png\" width=\"500\">"
   ]
  },
  {
   "cell_type": "markdown",
   "metadata": {},
   "source": [
    "## 9.1 Dictionary basics"
   ]
  },
  {
   "cell_type": "markdown",
   "metadata": {},
   "source": [
    "- dictionary 생성"
   ]
  },
  {
   "cell_type": "markdown",
   "metadata": {},
   "source": [
    "- dict 내장 함수를 이용한 dictionary 생성"
   ]
  },
  {
   "cell_type": "markdown",
   "metadata": {},
   "source": [
    "- dictionary 값(value) 접근"
   ]
  },
  {
   "cell_type": "markdown",
   "metadata": {},
   "source": [
    "- Dictionary 값 update"
   ]
  },
  {
   "cell_type": "markdown",
   "metadata": {},
   "source": [
    "- dictionary element 삭제"
   ]
  },
  {
   "cell_type": "markdown",
   "metadata": {},
   "source": [
    "### dictionary 와 for-loop"
   ]
  },
  {
   "cell_type": "markdown",
   "metadata": {},
   "source": [
    "- keys() method "
   ]
  },
  {
   "cell_type": "markdown",
   "metadata": {},
   "source": [
    "- values() method"
   ]
  },
  {
   "cell_type": "markdown",
   "metadata": {},
   "source": [
    "- items() method"
   ]
  },
  {
   "cell_type": "markdown",
   "metadata": {},
   "source": [
    "### dictionary 정렬\n",
    "\n",
    "- key 순으로 정렬"
   ]
  },
  {
   "cell_type": "markdown",
   "metadata": {},
   "source": [
    "- value 순으로 정렬  \n",
    "- without lambda "
   ]
  },
  {
   "cell_type": "markdown",
   "metadata": {},
   "source": [
    "- with lambda"
   ]
  },
  {
   "cell_type": "markdown",
   "metadata": {},
   "source": [
    "### dictionary 에 key 존재 유무 check"
   ]
  },
  {
   "cell_type": "markdown",
   "metadata": {},
   "source": [
    "### dictionary 를 이용한 list 의 중복 element count"
   ]
  },
  {
   "cell_type": "markdown",
   "metadata": {},
   "source": [
    "- get(key, default value) method 를 이용하여 위의 예제를 단순화"
   ]
  },
  {
   "cell_type": "markdown",
   "metadata": {},
   "source": [
    "### 연습문제\n",
    "\n",
    "1) 다음의 출력 결과는 ?\n",
    "\n",
    "    d = {'a': 2, 'b': 4, 'c': 9}\n",
    "    for x in sorted(d):\n",
    "        print(d[x], end=\"\")"
   ]
  },
  {
   "cell_type": "markdown",
   "metadata": {},
   "source": [
    "2) 다음의 출력 결과는 ?\n",
    "\n",
    "    d = {'a': 2, 'b': 4, 'c': 9}\n",
    "    for x in sorted(d.values()):\n",
    "        print(x, end=\"\")"
   ]
  },
  {
   "cell_type": "markdown",
   "metadata": {},
   "source": [
    "3) 다음의 출력 결과는 ?\n",
    "\n",
    "    d = {'a': 21, 'b': 4, 'c': 9}\n",
    "    for x in sorted(d.items()):\n",
    "        print(x, end=\"\")"
   ]
  },
  {
   "cell_type": "markdown",
   "metadata": {},
   "source": [
    "4) dictionary 를 이용하여 자신의 정보를 구조화 하여 작성  \n",
    "\n",
    "        ex) {'name': '오영제', \n",
    "              '성별': '남성', \n",
    "              '거주지': {'도시': '서울', '동': '충무로', '주소': '123-45'}, \n",
    "              '전화번호': 1012345678, \n",
    "              '신장': 175.17}"
   ]
  },
  {
   "cell_type": "markdown",
   "metadata": {},
   "source": [
    "5) 두개의 주사위를 던져서 두 주사위의 합이 같은 것끼리 출력하라. 두 주사위의 합을 key value 로 사용하여 dictionay 를 생성한다.\n",
    "\n",
    "- pseudo-code\n",
    "\n",
    "```\n",
    "    d = {}\n",
    "    \n",
    "    Loop with 주사위1 from 1 to 6\n",
    "        Loop with 주사위2 from 1 to 6\n",
    "            newTuple = (주사위1, 주사위2)\n",
    "            added = 주사위1 + 주사위2\n",
    "            if added 가 d 에 없으면 empty list 를 d 에 추가\n",
    "            d 의 기존 list 에 append\n",
    "```"
   ]
  }
 ],
 "metadata": {
  "kernelspec": {
   "display_name": "Python 3 (ipykernel)",
   "language": "python",
   "name": "python3"
  },
  "language_info": {
   "codemirror_mode": {
    "name": "ipython",
    "version": 3
   },
   "file_extension": ".py",
   "mimetype": "text/x-python",
   "name": "python",
   "nbconvert_exporter": "python",
   "pygments_lexer": "ipython3",
   "version": "3.9.12"
  }
 },
 "nbformat": 4,
 "nbformat_minor": 2
}
