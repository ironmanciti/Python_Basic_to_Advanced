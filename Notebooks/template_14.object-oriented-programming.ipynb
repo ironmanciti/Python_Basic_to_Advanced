{
 "cells": [
  {
   "cell_type": "markdown",
   "metadata": {},
   "source": [
    "# 14. 클라스(Class)\n",
    "\n",
    "## 14-1. 클라스와 메소드 (Class 와 Method)\n",
    "\n",
    "### Python 의 class 와 method 는 C++, Java 등의 객체지향 프로그래밍의 개념과 동일\n",
    "\n",
    "### 객체지향개발(OOP - Object Oriented Programming) 4가지 특성\n",
    "- 객체지향개발(Object Oriented Programming)의 특성은 크게 추상화, 캡슐화, 상속성, 다형성이 있다.\n",
    "\n",
    "#### 1. 추상화(Abstraciton)\n",
    "- 공통의 속성이나 기능을 묶어 이름을 붙이는 것\n",
    "- OOP 에서 클래스를 정의하는 것을 추상화라고 할 수 있다.\n",
    "\n",
    "#### 2. 은닉화 (Encapsulation)\n",
    "- 변수와 함수를 하나로 묶어서 외부에서의 접근을 막고, 함수를 통해서만 접근 가능하도록 하는 것\n",
    "\n",
    "#### 3. 상속 (Inheritance)\n",
    "- 상위 개념의 특징과 메소드를 하위 개념이 물려 받아 재사용  \n",
    "\n",
    "#### 4. 다형성 (Polymorphism)\n",
    "- 부모 클래스로부터 물려받은 가상 함수를 자식 클래스 내에서 오버라이딩 하여 사용하는 것\n",
    "\n",
    "### Python 에서는 모든 것을 object 라고 부름\n",
    "    data (string, integer, float), function, built-in function\n",
    "    \n",
    "### Python 에서 모든 object 는 특정 class 에 속함\n",
    "\n",
    "### class 란 객체 (object) 를 정의하는 틀 혹은 설계도와 같은 의미\n",
    "\n",
    "### method 는 class 내에서 정의한 함수임. class 는 속성 (data) 와 메소드(method) 로 구성\n",
    "\n",
    "    class ClassName:\n",
    "        <data>\n",
    "        \n",
    "        def methodName(self):\n",
    "            <method body>\n",
    "            return\n",
    "            \n",
    "### dir( ) 내장함수는 객체가 어떤 변수와 메소드를 가지고 있는지 반환\n",
    "    Python 언어 자체에서 사용하는 특별한 method 들은 __name__ 형식의 이름을 가지고 있음"
   ]
  },
  {
   "cell_type": "markdown",
   "metadata": {},
   "source": [
    "- 자료형의 class"
   ]
  },
  {
   "cell_type": "markdown",
   "metadata": {},
   "source": [
    "- 함수의 class"
   ]
  },
  {
   "cell_type": "markdown",
   "metadata": {},
   "source": [
    "### class 기본 구성"
   ]
  },
  {
   "cell_type": "markdown",
   "metadata": {},
   "source": [
    "- instance 생성"
   ]
  },
  {
   "cell_type": "markdown",
   "metadata": {},
   "source": [
    "- class method 호출"
   ]
  },
  {
   "cell_type": "markdown",
   "metadata": {},
   "source": [
    "- instance 속성 접근"
   ]
  },
  {
   "cell_type": "markdown",
   "metadata": {},
   "source": [
    "- instance의 class"
   ]
  },
  {
   "cell_type": "markdown",
   "metadata": {},
   "source": [
    "- instance method 의 class"
   ]
  },
  {
   "cell_type": "markdown",
   "metadata": {},
   "source": [
    "## 14-2 Python 의 Object Oriented Programming\n",
    "\n",
    "- Class : 속성(attribute) 과 method 로 구성\n",
    "    \n",
    "    class Classname:\n",
    "        def __init__(self, *args):\n",
    "            self.변수명 (속성 정의)\n",
    "            \n",
    "        def methods(self, *args):\n",
    "            메소드 정의\n",
    "       \n",
    "- Constructor (생성자)  : __init__()  \n",
    "\n",
    "\n",
    "    class 의 instance 생성 시 자동으로 호출되어 object 를 초기화 하는 method\n",
    "    \n",
    "    \n",
    "            \n",
    "- Inheritance (상속)\n",
    "\n",
    "    class Subclass(superclass):\n",
    "    \n",
    "        \n",
    "- Encapsulation (은닉화)  \n",
    "\n",
    "    self._변수명\n",
    "    \n",
    "    \n",
    "- Polymorphism (다형성)\n",
    "\n",
    "    Python 은 자체로 다형성의 특성을 가진 언어이다.\n",
    "    \n",
    "   1 + 2 ==> 3  \n",
    "   '1' + '2'  =='12'"
   ]
  },
  {
   "cell_type": "markdown",
   "metadata": {},
   "source": [
    "- Python interpreter 는 + operator 를 만나면 `__add__` method 호출"
   ]
  },
  {
   "cell_type": "markdown",
   "metadata": {},
   "source": [
    "### Class example"
   ]
  },
  {
   "cell_type": "markdown",
   "metadata": {},
   "source": [
    "### class 변수와 instance 변수"
   ]
  },
  {
   "cell_type": "markdown",
   "metadata": {},
   "source": [
    "### Inheritance (상속)"
   ]
  },
  {
   "cell_type": "markdown",
   "metadata": {},
   "source": [
    "## 14.3 `__str__`과 `__repr__`\n",
    "\n",
    "- __str__ - print() 문 호출시 string 반환\n",
    "- __repr__ - object 자체 출력시 readable 한 형태 반환\n",
    "- __repr__ 만 정의되어 있고 __str__ 이 생략된 경우 __str__=__repr__ 와 같음"
   ]
  },
  {
   "cell_type": "markdown",
   "metadata": {},
   "source": [
    "- 일반 method 호출"
   ]
  },
  {
   "cell_type": "markdown",
   "metadata": {},
   "source": [
    "- `__repr__` 호출"
   ]
  },
  {
   "cell_type": "markdown",
   "metadata": {},
   "source": [
    "- `__str__`호출"
   ]
  },
  {
   "cell_type": "markdown",
   "metadata": {},
   "source": [
    "## 14.4 다형성 (polymorphism) 구현\n",
    "\n",
    "**super()**\n",
    "\n",
    "- 자식클래스에서 부모클래스의 내용을 사용하고 싶은 경우\n",
    "- super().부모클래스내용"
   ]
  },
  {
   "cell_type": "markdown",
   "metadata": {},
   "source": [
    "## 14.5 다중 상속"
   ]
  },
  {
   "cell_type": "markdown",
   "metadata": {},
   "source": [
    "## 14.7 Class 내의 method 종류\n",
    "\n",
    "### instance method \n",
    "    - 인스턴스를 첫번째 인자로 받음\n",
    "    - 관습적으로 self 로 표시\n",
    "\n",
    "\n",
    "### class method \n",
    "    - 클래스를 첫번째 인자로 받음  \n",
    "    - 관습적으로 cls  로 표시\n",
    "    - 모든 인스턴스가 공유하는 클래스 변수와 같은 데이터를 생성, 변경 또는 참조하기 위한 메소드\n",
    "    \n",
    "    \n",
    "### static method\n",
    "    - 첫번째 인자(self) 자동 생성 되지 않음 - class 내의 일반 함수  \n",
    "    - class 내의 utility 성격의 method 로 사용  \n",
    "    - class, instance 에서 모두 접근 가능 "
   ]
  },
  {
   "cell_type": "markdown",
   "metadata": {},
   "source": [
    "## 연습문제\n",
    "\n",
    "- Car class 를 parent class 로 만들고 Sonata 와 Volvo 를 child class 로 구성\n",
    "\n",
    "- ``#CODE HERE`` 부분을 채워서 출력된 결과와 동일하도록 code 완성\n",
    "\n",
    "```\n",
    "black\n",
    "앞으로 전진 : 시속 100 km\n",
    "뒤로 후진 70 km/hour\n",
    "white\n",
    "5000000\n",
    "앞으로 전진 : 시속 200 km\n",
    "후진 불가\n",
    "```"
   ]
  }
 ],
 "metadata": {
  "kernelspec": {
   "display_name": "Python 3 (ipykernel)",
   "language": "python",
   "name": "python3"
  },
  "language_info": {
   "codemirror_mode": {
    "name": "ipython",
    "version": 3
   },
   "file_extension": ".py",
   "mimetype": "text/x-python",
   "name": "python",
   "nbconvert_exporter": "python",
   "pygments_lexer": "ipython3",
   "version": "3.9.12"
  }
 },
 "nbformat": 4,
 "nbformat_minor": 2
}
