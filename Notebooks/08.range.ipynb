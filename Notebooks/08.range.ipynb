{
 "cells": [
  {
   "cell_type": "markdown",
   "metadata": {},
   "source": [
    "# 8. range( ) 함수\n",
    "\n",
    "#### Python 은 range( ) 함수를 built-in 으로 제공한다.\n",
    "#### range( ) 함수는 파라미터 (parameter) 로 받은 숫자 범위의 연속된 정수를 반환함.\n",
    "#### 문법:\n",
    "    range([start,] stop [,increment]) \n",
    "#### list( ) 함수는 range( ) 함수의 반환값을 list 로 변환해 줌.\n",
    "#### for-loop 문에서 range( ) 함수는 list 를 반환한다."
   ]
  },
  {
   "cell_type": "markdown",
   "metadata": {},
   "source": [
    "- list 내장 함수와 range 내장 함수를 이용한 list 생성"
   ]
  },
  {
   "cell_type": "code",
   "execution_count": 4,
   "metadata": {},
   "outputs": [
    {
     "data": {
      "text/plain": [
       "[0, 1, 2, 3, 4, 5, 6, 7, 8, 9]"
      ]
     },
     "execution_count": 4,
     "metadata": {},
     "output_type": "execute_result"
    }
   ],
   "source": [
    "list(range(10))"
   ]
  },
  {
   "cell_type": "code",
   "execution_count": 5,
   "metadata": {},
   "outputs": [
    {
     "data": {
      "text/plain": [
       "[0, 1, 2, 3, 4, 5, 6, 7, 8, 9]"
      ]
     },
     "execution_count": 5,
     "metadata": {},
     "output_type": "execute_result"
    }
   ],
   "source": [
    "list(range(0, 10, 1))"
   ]
  },
  {
   "cell_type": "code",
   "execution_count": 6,
   "metadata": {},
   "outputs": [
    {
     "data": {
      "text/plain": [
       "[1, 3, 5, 7, 9]"
      ]
     },
     "execution_count": 6,
     "metadata": {},
     "output_type": "execute_result"
    }
   ],
   "source": [
    "list(range(1, 10, 2))"
   ]
  },
  {
   "cell_type": "code",
   "execution_count": 7,
   "metadata": {},
   "outputs": [
    {
     "data": {
      "text/plain": [
       "[2, 4, 6, 8]"
      ]
     },
     "execution_count": 7,
     "metadata": {},
     "output_type": "execute_result"
    }
   ],
   "source": [
    "list(range(2, 10, 2))"
   ]
  },
  {
   "cell_type": "code",
   "execution_count": 8,
   "metadata": {},
   "outputs": [
    {
     "data": {
      "text/plain": [
       "[]"
      ]
     },
     "execution_count": 8,
     "metadata": {},
     "output_type": "execute_result"
    }
   ],
   "source": [
    "list(range(5, 5))"
   ]
  },
  {
   "cell_type": "code",
   "execution_count": 9,
   "metadata": {},
   "outputs": [
    {
     "data": {
      "text/plain": [
       "[5, 4, 3, 2, 1]"
      ]
     },
     "execution_count": 9,
     "metadata": {},
     "output_type": "execute_result"
    }
   ],
   "source": [
    "list(range(5, 0, -1))"
   ]
  },
  {
   "cell_type": "markdown",
   "metadata": {},
   "source": [
    "- range를 이용한 for-loop"
   ]
  },
  {
   "cell_type": "code",
   "execution_count": 10,
   "metadata": {},
   "outputs": [
    {
     "name": "stdout",
     "output_type": "stream",
     "text": [
      "0\n",
      "1\n",
      "2\n",
      "3\n",
      "4\n"
     ]
    }
   ],
   "source": [
    "for i in range(5):\n",
    "    print(i)"
   ]
  },
  {
   "cell_type": "code",
   "execution_count": 11,
   "metadata": {},
   "outputs": [
    {
     "name": "stdout",
     "output_type": "stream",
     "text": [
      "5\n",
      "4\n",
      "3\n",
      "2\n",
      "1\n",
      "0\n"
     ]
    }
   ],
   "source": [
    "for i in range(5, -1, -1):\n",
    "    print(i)"
   ]
  },
  {
   "cell_type": "code",
   "execution_count": 25,
   "metadata": {},
   "outputs": [
    {
     "name": "stdout",
     "output_type": "stream",
     "text": [
      "Hello, world!\n",
      "Hello, world!\n",
      "Hello, world!\n",
      "Hello, world!\n",
      "Hello, world!\n"
     ]
    }
   ],
   "source": [
    "for i in range(5):\n",
    "    print(\"Hello, world!\")"
   ]
  },
  {
   "cell_type": "markdown",
   "metadata": {},
   "source": [
    "- list의 length를 이용한 for-loop indexing"
   ]
  },
  {
   "cell_type": "code",
   "execution_count": 12,
   "metadata": {},
   "outputs": [
    {
     "name": "stdout",
     "output_type": "stream",
     "text": [
      "0 1st\n",
      "1 2nd\n",
      "2 3rd\n",
      "3 4th\n",
      "4 5th\n"
     ]
    }
   ],
   "source": [
    "order = ['1st', '2nd', '3rd', '4th', '5th']\n",
    "for i in range(len(order)):\n",
    "    print(i, order[i])"
   ]
  },
  {
   "cell_type": "markdown",
   "metadata": {},
   "source": [
    "- increment를 지정한 range 함수"
   ]
  },
  {
   "cell_type": "code",
   "execution_count": 22,
   "metadata": {},
   "outputs": [
    {
     "name": "stdout",
     "output_type": "stream",
     "text": [
      "4 5th\n",
      "3 4th\n",
      "2 3rd\n",
      "1 2nd\n",
      "0 1st\n"
     ]
    }
   ],
   "source": [
    "for i in range(len(order)-1, -1, -1):\n",
    "    print(i, order[i])"
   ]
  },
  {
   "cell_type": "code",
   "execution_count": 23,
   "metadata": {},
   "outputs": [
    {
     "name": "stdout",
     "output_type": "stream",
     "text": [
      "0 1st\n",
      "2 3rd\n",
      "4 5th\n"
     ]
    }
   ],
   "source": [
    "for i in range(0, len(order), 2):\n",
    "    print(i, order[i])"
   ]
  },
  {
   "cell_type": "markdown",
   "metadata": {},
   "source": [
    "- reversed 내장 함수를 이용한 내림 차순 정렬"
   ]
  },
  {
   "cell_type": "code",
   "execution_count": 16,
   "metadata": {},
   "outputs": [
    {
     "data": {
      "text/plain": [
       "['5th', '4th', '3rd', '2nd', '1st']"
      ]
     },
     "execution_count": 16,
     "metadata": {},
     "output_type": "execute_result"
    }
   ],
   "source": [
    "list(reversed(order))"
   ]
  },
  {
   "cell_type": "markdown",
   "metadata": {},
   "source": [
    "- enumerate 내장 함수와 for-loop"
   ]
  },
  {
   "cell_type": "code",
   "execution_count": 19,
   "metadata": {},
   "outputs": [
    {
     "name": "stdout",
     "output_type": "stream",
     "text": [
      "0 5th\n",
      "1 4th\n",
      "2 3rd\n",
      "3 2nd\n",
      "4 1st\n"
     ]
    }
   ],
   "source": [
    "for i, ord in enumerate(reversed(order)):\n",
    "    print(i, ord)"
   ]
  },
  {
   "cell_type": "markdown",
   "metadata": {},
   "source": [
    "- range 내장 함수를 이용한 숫자 범위 합계"
   ]
  },
  {
   "cell_type": "code",
   "execution_count": 24,
   "metadata": {},
   "outputs": [
    {
     "name": "stdout",
     "output_type": "stream",
     "text": [
      "55\n"
     ]
    }
   ],
   "source": [
    "total = 0\n",
    "for i in range(1, 11):\n",
    "    total = total + i\n",
    "print(total)"
   ]
  },
  {
   "cell_type": "markdown",
   "metadata": {},
   "source": [
    "### tuple 과 for-loop\n"
   ]
  },
  {
   "cell_type": "code",
   "execution_count": 26,
   "metadata": {},
   "outputs": [],
   "source": [
    "xtuple = (1, 'two', 2)"
   ]
  },
  {
   "cell_type": "code",
   "execution_count": 27,
   "metadata": {},
   "outputs": [
    {
     "name": "stdout",
     "output_type": "stream",
     "text": [
      "1\n",
      "two\n",
      "2\n"
     ]
    }
   ],
   "source": [
    "for e in xtuple:\n",
    "    print(e)"
   ]
  },
  {
   "cell_type": "code",
   "execution_count": 28,
   "metadata": {},
   "outputs": [
    {
     "name": "stdout",
     "output_type": "stream",
     "text": [
      "t[ 0 ] =  1\n",
      "t[ 1 ] =  two\n",
      "t[ 2 ] =  2\n"
     ]
    }
   ],
   "source": [
    "for i in range(len(xtuple)):\n",
    "    print(\"t[\",i,\"] = \", xtuple[i])"
   ]
  },
  {
   "cell_type": "markdown",
   "metadata": {},
   "source": [
    "## 연습문제"
   ]
  },
  {
   "cell_type": "markdown",
   "metadata": {},
   "source": [
    "1) 다음 문장 수행 후의 output 은 ? \n",
    "\n",
    "    xlist = [1, [1, 2], [1, 2, 3]]\n",
    "    print(xlist[1][1] + 1)"
   ]
  },
  {
   "cell_type": "markdown",
   "metadata": {},
   "source": [
    "2) 다음 문장 수행 후의 output 은 ?  \n",
    "\n",
    "```\n",
    "    s = (\"a\", \"b\", \"c\")  \n",
    "    for i in range(1, len(s) + 1):  \n",
    "        sub = \"\"  \n",
    "        for j in range(i):  \n",
    "            sub = s[j] + sub  \n",
    "        print(sub)\n",
    "```"
   ]
  },
  {
   "cell_type": "markdown",
   "metadata": {},
   "source": [
    "3) 다음 문장 수행 후의 output 은 ?\n",
    "    \n",
    "    def sum_part(xlist, n):\n",
    "        sum = 0\n",
    "        for x in xlist[n]:\n",
    "            sum = sum + x\n",
    "        return sum\n",
    "        \n",
    "    ylist = [[1, 2], [3, 4], [5, 6], [7, 8]]\n",
    "    x = sum_part(ylist, 2)\n",
    "    print(x)"
   ]
  },
  {
   "cell_type": "markdown",
   "metadata": {},
   "source": [
    "4) 숫자로 피라미드 만들기 : 홀수 숫자를 입력으로 받아서 좌우 대칭되는 피라미드형태로 출력 한다.  \n",
    "\n",
    "\n",
    "- **(알고리즘)** pyramid 를 만들어야 하므로 입력 받은 숫자 만큼 for loop n 회 반복 $\\rightarrow$ for i in range(n): 이용\n",
    "\n",
    "\n",
    "    - 좌우 대칭을 만들기 위해 처음 시작은 (n-i) 개의 space를 출력하고, \n",
    "    - 줄 바꿈 없이 1 에서 i+1 까지의 숫자를 출력한 후,  \n",
    "    - 줄 바꿈 없이 i 에서 1 까지 역순으로 출력\n",
    "    - 줄을 바꾸어 위 process를 반복\n",
    "```\n",
    "              1 \n",
    "            1 2 1 \n",
    "          1 2 3 2 1 \n",
    "        1 2 3 4 3 2 1 \n",
    "      1 2 3 4 5 4 3 2 1 \n",
    "    1 2 3 4 5 6 5 4 3 2 1 \n",
    "  1 2 3 4 5 6 7 6 5 4 3 2 1  \n",
    " ```"
   ]
  },
  {
   "cell_type": "code",
   "execution_count": 15,
   "metadata": {},
   "outputs": [
    {
     "name": "stdout",
     "output_type": "stream",
     "text": [
      "                \n",
      "              1 \n",
      "            1 2 1 \n",
      "          1 2 3 2 1 \n",
      "        1 2 3 4 3 2 1 \n",
      "      1 2 3 4 5 4 3 2 1 \n",
      "    1 2 3 4 5 6 5 4 3 2 1 \n",
      "  1 2 3 4 5 6 7 6 5 4 3 2 1 \n"
     ]
    }
   ],
   "source": [
    "def pyramid(n):\n",
    "    for i in range(n):\n",
    "        print(\"  \" * ?, end='')  #(n-i) 개의 space를 출력\n",
    "        for j in range(1, ?):        #1 에서 i+2 까지의 숫자를 출력\n",
    "            print(j, end=' ')\n",
    "        for k in range(?, 0, -1):     #i 에서 1 까지 역순으로 출력\n",
    "            print(k, end=' ')\n",
    "        print()\n",
    "\n",
    "pyramid(8)"
   ]
  },
  {
   "cell_type": "markdown",
   "metadata": {},
   "source": [
    "5) 임의의 범위의 숫자를 모두 곱하는 함수를 작성하라.\n",
    "    \n",
    "       ex) multiply(2,4) ==> 2 * 3 * 4 = 24"
   ]
  },
  {
   "cell_type": "markdown",
   "metadata": {},
   "source": [
    "6) 숫자로 이루어진 list 의 평균을 구하는 함수를 작성하라. 단, built-in 함수를 이용하지 않고 for loop 을 이용하여 새로운 함수 작성.\n",
    "   \n",
    "       ex) average([2,3,4,5,6]) => 4.0"
   ]
  },
  {
   "cell_type": "markdown",
   "metadata": {},
   "source": [
    "7) x = [1, 2, 3, 4, 5, 6, 7, 8, 9, 10] 을 for 문을 이용하여,\n",
    "```\n",
    "    [1,2,3] , 4   \n",
    "    [2,3,4] , 5  \n",
    "    [3,4,5] , 6  \n",
    "    [4,5,6] , 7  \n",
    "    [5,6,7] , 8  \n",
    "    [6,7,8] , 9  \n",
    "    [7,8,9] , 10 을 출력하라\n",
    "```\n",
    "\n",
    "**(Hint)** [7, 8, 9], 10 을 만들기 위해 뒤에서 4 개를 남겨야 하므로 range 함수의 범위를 range(len(x) - 3) 으로 한다. 따라서,  \n",
    "```python\n",
    "            for i in range(len(x)-3):\n",
    "                  print(x[?: ?], ',', x[?])\n",
    "```"
   ]
  },
  {
   "cell_type": "markdown",
   "metadata": {},
   "source": [
    "### 도전문제\n",
    "\n",
    "    피보나치 수열(Fibonacci Sequence)을 계산하는 프로그램도 파이썬으로 간단히 작성할 수 있다. \n",
    "\n",
    "    피보나치 수열은 0 과 1 로 시작하고 다음의 숫자는 이전 숫자 두개를 더한 숫자들로 이루어 진다.\n",
    "    0, 1, 1, 2, 3, 5, 8, 13 ......\n",
    "    \n",
    "$$ F_n = \\begin{cases} 0 \\quad \\quad \\quad \\quad \\quad \\text {n = 0} \\\\ 1 \\quad \\quad \\quad \\quad \\quad \\text {n = 1} \\\\ F_{n-1} + F_{n-2}\\quad \\text {n > 1}\\end{cases} $$\n",
    "\n",
    "    n 개의 숫자로 이루어진 피보나치 수열을 출력하는 함수를 작성하라.\n",
    "    \n",
    "    (결과) fib(10) => [0, 1, 1, 2, 3, 5, 8, 13, 21, 34]\n",
    "    \n",
    "**(알고리즘)**\n",
    "- old, new 두개의 변수 이용 -> 초기값 : old = 0, new = 1  \n",
    "- loop n times:\n",
    "    - next 숫자는 old + new  \n",
    "    - new 값이 old 가 되고 next 숫자가 new 값이 된다.\n",
    "- loop 후 마지막 new 값이 n 번째 피보나치 수이다."
   ]
  },
  {
   "cell_type": "code",
   "execution_count": 8,
   "metadata": {},
   "outputs": [
    {
     "name": "stdout",
     "output_type": "stream",
     "text": [
      "[0, 1, 1, 2, 3, 5, 8, 13, 21, 34]\n"
     ]
    }
   ],
   "source": [
    "def fib(n):\n",
    "    if n == 0:\n",
    "        return 0\n",
    "    if n == 1:\n",
    "        return 1\n",
    "    old, new = 0, 1\n",
    "    for _ in range(n):\n",
    "        #Your Code Here\n",
    "    return old\n",
    "\n",
    "lst = []\n",
    "for i in range(10):\n",
    "    lst.append(fib(i))\n",
    "    \n",
    "print(lst)"
   ]
  },
  {
   "cell_type": "markdown",
   "metadata": {},
   "source": [
    "<br>\n",
    "<br>\n",
    "<br>\n",
    "<br>\n",
    "<br>"
   ]
  }
 ],
 "metadata": {
  "kernelspec": {
   "display_name": "Python 3 (ipykernel)",
   "language": "python",
   "name": "python3"
  },
  "language_info": {
   "codemirror_mode": {
    "name": "ipython",
    "version": 3
   },
   "file_extension": ".py",
   "mimetype": "text/x-python",
   "name": "python",
   "nbconvert_exporter": "python",
   "pygments_lexer": "ipython3",
   "version": "3.9.7"
  }
 },
 "nbformat": 4,
 "nbformat_minor": 2
}
