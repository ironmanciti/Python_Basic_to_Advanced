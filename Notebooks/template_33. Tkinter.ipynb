{
 "cells": [
  {
   "cell_type": "markdown",
   "id": "9b145efc",
   "metadata": {},
   "source": [
    "# 33. Tkinter\n",
    "\n",
    "- Tkinter는 Tcl/Tk에 대한 파이썬 Wrapper로서 Tcl/Tk를 파이썬에 사용할 수 있도록 한 Lightweight GUI 모듈  \n",
    "\n",
    "- Tcl은 Tool Command Language의 약자로서 일종의 프로그래밍 언어이며, Tk는 크로스 플랫폼에 사용되는 일종의 GUI 툴킷이다.   \n",
    "\n",
    "- Tkinter는 타 GUI 프레임워크나 툴킷에 비해 지원되는 위젯들이 부족하고 UI도 그렇게 예쁘지 않다는 단점이 있지만, Python 설치시 기본적으로 내장되어 있는 파이썬 표준 라이브러리이기 때문에 쉽고 간단한 GUI 프로그램을 만들 때 활용될 수 있다."
   ]
  },
  {
   "cell_type": "markdown",
   "id": "c9e2bbcc",
   "metadata": {},
   "source": [
    "## Basic Button\n",
    "\n",
    "- Button 생성 ```btn=Button(win)```\n",
    "- Button 크기 ```btn.config(width=20, height=20)```\n",
    "- Button 내용 ```btn.config(text=\"버튼\")```\n",
    "- Button 기능 ```btn.config(command=alert)```\n",
    "\n",
    "## Label\n",
    "- Label 생성 ```lab = Label(win)```\n",
    "- Label 내용 ```lab.config(text=\"내용\")```\n",
    "- Label 이미지 ```lab.cofig(image=img)```"
   ]
  },
  {
   "cell_type": "markdown",
   "id": "06e45884",
   "metadata": {},
   "source": [
    "### `pack()` method - widget을 parent widget 에 배치"
   ]
  },
  {
   "cell_type": "markdown",
   "id": "e9897d56",
   "metadata": {},
   "source": [
    "### `grid()` method - widget 을 table 형태로 배치"
   ]
  },
  {
   "cell_type": "markdown",
   "id": "a93109ab",
   "metadata": {},
   "source": [
    "- 현재 시각 display"
   ]
  },
  {
   "cell_type": "markdown",
   "id": "88b301a1",
   "metadata": {},
   "source": [
    "## data input\n",
    "\n",
    "- entry 생성 ```e = Entry(win)```\n",
    "- 초기값 ```e.insert(index, \"default 값\")```\n",
    "- entry 의 현재 값 ```e.get()```"
   ]
  },
  {
   "cell_type": "markdown",
   "id": "7436797c",
   "metadata": {},
   "source": [
    "## Image Display"
   ]
  },
  {
   "cell_type": "markdown",
   "id": "2557b24b",
   "metadata": {},
   "source": [
    "## Hello World - OOP 방식"
   ]
  },
  {
   "cell_type": "markdown",
   "id": "aadae798",
   "metadata": {},
   "source": [
    "## 연습문제\n",
    "\n",
    "### 로또 당첨 번호를 web scraping 하여 display 하는 widget 작성"
   ]
  },
  {
   "cell_type": "markdown",
   "id": "80101f07",
   "metadata": {},
   "source": [
    "### BITCOIN 의 현재 시세를 web scraping 하여 10 초 간격으로 update 하는 widget 작성"
   ]
  },
  {
   "cell_type": "markdown",
   "id": "e80f3df0",
   "metadata": {},
   "source": [
    "### 여러개의 image를 앞, 뒤로 이동하며 display"
   ]
  }
 ],
 "metadata": {
  "kernelspec": {
   "display_name": "Python 3 (ipykernel)",
   "language": "python",
   "name": "python3"
  },
  "language_info": {
   "codemirror_mode": {
    "name": "ipython",
    "version": 3
   },
   "file_extension": ".py",
   "mimetype": "text/x-python",
   "name": "python",
   "nbconvert_exporter": "python",
   "pygments_lexer": "ipython3",
   "version": "3.9.7"
  }
 },
 "nbformat": 4,
 "nbformat_minor": 5
}
