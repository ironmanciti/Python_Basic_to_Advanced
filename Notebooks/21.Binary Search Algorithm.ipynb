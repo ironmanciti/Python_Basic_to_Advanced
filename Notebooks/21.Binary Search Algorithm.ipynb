{
 "cells": [
  {
   "cell_type": "markdown",
   "metadata": {},
   "source": [
    "# 21. 이진탐색 (Binary Search) Algorithm\n",
    "\n",
    "* 알고리즘\n",
    "\n",
    "    1. 중간 위치($\\frac{n}{2}$ 번째)의 단어를 먼처 찾고 주어진 단어와 같은지 비교한다.\n",
    "    \n",
    "    2. 찾은 단어가 주어진 단어보다 크면 $\\frac{n}{2}$ 보다 큰 쪽은 버리고 작은 쪽 절반(1~ $\\frac{n}{2}$ 번)을 대상으로 다시 중간 위치 ($\\frac{\\frac{n}{2}}{2}$ 번째) 단어를 찾아서 크기를 비교하는 작업을 주어진 단어를 찾을 때까지 반복한다. \n",
    "    \n",
    "    반대로 중간위치(n/2 번째) 단어가 주어진 단어보다 작으면 큰쪽 절반 ( $\\frac{n}{2}+1$ ~ n 번)을 대상으로 같은 작업을 반복한다.\n"
   ]
  },
  {
   "cell_type": "code",
   "execution_count": 1,
   "metadata": {},
   "outputs": [
    {
     "data": {
      "text/plain": [
       "\"Alice's Adventures in Wonderland (commonly shortened to Alice in Wonderland) is an 1865 novel written by English author Charles Lutwidge Dodgson under the pseudonym Lewis Carroll.[1] It tells of a young girl named Alice falling through a rabbit hole into a fantasy world populated by peculiar, anthropomorphic creatures. The tale plays with logic, giving the story lasting popularity with adults as well as with children.[2] It is considered to be one of the best examples of the literary nonsense genre.[2][3] Its narrative course, structure, characters, and imagery have been enormously influential[3] in both popular culture and literature, especially in the fantasy genre.\""
      ]
     },
     "execution_count": 1,
     "metadata": {},
     "output_type": "execute_result"
    }
   ],
   "source": [
    "f = open('AliceWonderLand.txt', 'r')\n",
    "text = f.read()\n",
    "text"
   ]
  },
  {
   "cell_type": "markdown",
   "metadata": {},
   "source": [
    "- text 중간의 [1], [2], [3] ... 제거"
   ]
  },
  {
   "cell_type": "code",
   "execution_count": 2,
   "metadata": {},
   "outputs": [],
   "source": [
    "import re\n",
    "\n",
    "text = re.sub(r'\\[\\d\\]', '', text) "
   ]
  },
  {
   "cell_type": "markdown",
   "metadata": {},
   "source": [
    "- 영문 대문자, 소문자 이외의 문자 모두 제거"
   ]
  },
  {
   "cell_type": "code",
   "execution_count": 3,
   "metadata": {},
   "outputs": [
    {
     "data": {
      "text/plain": [
       "'Alices Adventures in Wonderland commonly shortened to Alice in Wonderland is an  novel written by English author Charles Lutwidge Dodgson under the pseudonym Lewis Carroll It tells of a young girl named Alice falling through a rabbit hole into a fantasy world populated by peculiar anthropomorphic creatures The tale plays with logic giving the story lasting popularity with adults as well as with children It is considered to be one of the best examples of the literary nonsense genre Its narrative course structure characters and imagery have been enormously influential in both popular culture and literature especially in the fantasy genre'"
      ]
     },
     "execution_count": 3,
     "metadata": {},
     "output_type": "execute_result"
    }
   ],
   "source": [
    "text = re.sub(r'[^A-Za-z ]', '', text)\n",
    "text"
   ]
  },
  {
   "cell_type": "markdown",
   "metadata": {},
   "source": [
    "- word list 작성"
   ]
  },
  {
   "cell_type": "code",
   "execution_count": 14,
   "metadata": {},
   "outputs": [
    {
     "name": "stdout",
     "output_type": "stream",
     "text": [
      "['Adventures', 'Alice', 'Alices', 'Carroll', 'Charles', 'Dodgson', 'English', 'It', 'Its', 'Lewis', 'Lutwidge', 'The', 'Wonderland', 'a', 'adults', 'an', 'and', 'anthropomorphic', 'as', 'author', 'be', 'been', 'best', 'both', 'by', 'characters', 'children', 'commonly', 'considered', 'course', 'creatures', 'culture', 'enormously', 'especially', 'examples', 'falling', 'fantasy', 'genre', 'girl', 'giving', 'have', 'hole', 'imagery', 'in', 'influential', 'into', 'is', 'lasting', 'literary', 'literature', 'logic', 'named', 'narrative', 'nonsense', 'novel', 'of', 'one', 'peculiar', 'plays', 'popular', 'popularity', 'populated', 'pseudonym', 'rabbit', 'shortened', 'story', 'structure', 'tale', 'tells', 'the', 'through', 'to', 'under', 'well', 'with', 'world', 'written', 'young']\n"
     ]
    }
   ],
   "source": [
    "words = text.split()\n",
    "words = sorted(list(set(words)))\n",
    "print(words)"
   ]
  },
  {
   "cell_type": "code",
   "execution_count": 15,
   "metadata": {},
   "outputs": [
    {
     "data": {
      "text/plain": [
       "78"
      ]
     },
     "execution_count": 15,
     "metadata": {},
     "output_type": "execute_result"
    }
   ],
   "source": [
    "len(words)"
   ]
  },
  {
   "cell_type": "code",
   "execution_count": 9,
   "metadata": {},
   "outputs": [
    {
     "data": {
      "text/plain": [
       "'giving'"
      ]
     },
     "execution_count": 9,
     "metadata": {},
     "output_type": "execute_result"
    }
   ],
   "source": [
    "words[39]"
   ]
  },
  {
   "cell_type": "markdown",
   "metadata": {},
   "source": [
    "### 이진 탐색 함수"
   ]
  },
  {
   "cell_type": "code",
   "execution_count": 16,
   "metadata": {},
   "outputs": [],
   "source": [
    "def findword(word, words):\n",
    "    start = 0\n",
    "    end  = len(words) \n",
    "    search_count = 0\n",
    "    \n",
    "    while (start < end):\n",
    "        search_count += 1\n",
    "        middle = len(words) // 2        # 가운데의 위치\n",
    "        \n",
    "        if words[middle] == word:       # found\n",
    "            return search_count\n",
    "        elif words[middle] > word:      # 찾으려는 단어가 아래쪽 절반에 위치\n",
    "            start, end = 0, middle\n",
    "        else:\n",
    "            start, end = middle+1, len(words)   # 찾으려는 단어가 위쪽 절반에 위치\n",
    "            \n",
    "        words =  words[start : end]"
   ]
  },
  {
   "cell_type": "code",
   "execution_count": 17,
   "metadata": {},
   "outputs": [
    {
     "data": {
      "text/plain": [
       "7"
      ]
     },
     "execution_count": 17,
     "metadata": {},
     "output_type": "execute_result"
    }
   ],
   "source": [
    "findword('creatures', words)"
   ]
  },
  {
   "cell_type": "code",
   "execution_count": 18,
   "metadata": {},
   "outputs": [
    {
     "data": {
      "text/plain": [
       "6"
      ]
     },
     "execution_count": 18,
     "metadata": {},
     "output_type": "execute_result"
    }
   ],
   "source": [
    "findword('rabbit', words)"
   ]
  },
  {
   "cell_type": "code",
   "execution_count": 19,
   "metadata": {},
   "outputs": [
    {
     "data": {
      "text/plain": [
       "1"
      ]
     },
     "execution_count": 19,
     "metadata": {},
     "output_type": "execute_result"
    }
   ],
   "source": [
    "findword('giving', words)"
   ]
  },
  {
   "cell_type": "markdown",
   "metadata": {},
   "source": [
    "**최대 탐색 횟수**\n",
    "\n",
    "words 의 단어 중 가장 탐색 횟수가 많은 것"
   ]
  },
  {
   "cell_type": "code",
   "execution_count": 20,
   "metadata": {},
   "outputs": [
    {
     "name": "stdout",
     "output_type": "stream",
     "text": [
      "max_count = 7\n"
     ]
    }
   ],
   "source": [
    "max_count = 0\n",
    "\n",
    "for word in words: \n",
    "    count = findword(word, words)\n",
    "    if count > max_count:\n",
    "        max_count = count\n",
    "        \n",
    "print(\"max_count =\", max_count)"
   ]
  },
  {
   "cell_type": "markdown",
   "metadata": {},
   "source": [
    "**평균 탐색 횟수**\n",
    "\n",
    "words 의 전체 단어 탐색 횟수를 평균"
   ]
  },
  {
   "cell_type": "code",
   "execution_count": 21,
   "metadata": {},
   "outputs": [
    {
     "name": "stdout",
     "output_type": "stream",
     "text": [
      "average_count = 5.461538461538462\n"
     ]
    }
   ],
   "source": [
    "total_search_count = 0\n",
    "\n",
    "for word in words: \n",
    "    count = findword(word, words)\n",
    "    total_search_count += count\n",
    "    \n",
    "average_count = total_search_count / len(words)\n",
    "\n",
    "print(\"average_count =\", average_count)"
   ]
  },
  {
   "cell_type": "markdown",
   "metadata": {},
   "source": [
    "### 연습문제 (VSCODE 로 프로그램 작성)\n",
    "\n",
    "한글 단어가 정렬된 리스트로 주어져 있을 때 주어진 단어를 가장 빨리 찾아낼 수 있는 프로그램을 작성하라.\n",
    "정규식(regular expression)을 이용하여 한글 단어 이외에는 모두 제거한다.\n",
    "\n",
    "이진탐색 알고리즘에서 최대 탐색 횟수는  $\\approx log_2(n)$ 이라고 알려져 있다. 평균 탐색 횟수는 얼마인가 ?"
   ]
  },
  {
   "cell_type": "code",
   "execution_count": 14,
   "metadata": {},
   "outputs": [
    {
     "data": {
      "text/plain": [
       "'대법원장은 국회의 동의를 얻어 대통령이 임명한다. 헌법재판소는 법률에 저촉되지 아니하는 범위안에서 심판에 관한 절차, 내부규율과 사무처리에 관한 규칙을 제정할 수 있다. 감사원은 원장을 포함한 5인 이상 11인 이하의 감사위원으로 구성한다. 의무교육은 무상으로 한다. 언론·출판에 대한 허가나 검열과 집회·결사에 대한 허가는 인정되지 아니한다.\\n\\n국군은 국가의 안전보장과 국토방위의 신성한 의무를 수행함을 사명으로 하며, 그 정치적 중립성은 준수된다. 헌법재판소는 법관의 자격을 가진 9인의 재판관으로 구성하며, 재판관은 대통령이 임명한다. 국무총리는 국회의 동의를 얻어 대통령이 임명한다. 모든 국민은 종교의 자유를 가진다. 국방상 또는 국민경제상 긴절한 필요로 인하여 법률이 정하는 경우를 제외하고는, 사영기업을 국유 또는 공유로 이전하거나 그 경영을 통제 또는 관리할 수 없다.'"
      ]
     },
     "execution_count": 14,
     "metadata": {},
     "output_type": "execute_result"
    }
   ],
   "source": [
    "f = open('Korean_lorem.txt', 'r', encoding='cp949')\n",
    "\n",
    "lorem = f.read()\n",
    "lorem"
   ]
  },
  {
   "cell_type": "markdown",
   "metadata": {},
   "source": [
    "```\n",
    "word_list = lorem.split()\n",
    "word_list.sort()\n",
    "\n",
    "def findword(word):\n",
    "    # Your Code Here\n",
    "    \n",
    "print(findword('헌법재판소는'))\n",
    "\n",
    "# Your Code Here\n",
    "\n",
    "print(\"max_count = \", max_count)\n",
    "\n",
    "# Your Code Here\n",
    "\n",
    "print('average_cnt = {:.2f}'.format(average_cnt))\n",
    "```"
   ]
  }
 ],
 "metadata": {
  "kernelspec": {
   "display_name": "Python 3 (ipykernel)",
   "language": "python",
   "name": "python3"
  },
  "language_info": {
   "codemirror_mode": {
    "name": "ipython",
    "version": 3
   },
   "file_extension": ".py",
   "mimetype": "text/x-python",
   "name": "python",
   "nbconvert_exporter": "python",
   "pygments_lexer": "ipython3",
   "version": "3.9.7"
  }
 },
 "nbformat": 4,
 "nbformat_minor": 2
}
