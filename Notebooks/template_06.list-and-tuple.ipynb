{
 "cells": [
  {
   "cell_type": "markdown",
   "metadata": {},
   "source": [
    "# 6. 리스트(List) 와 Tuple\n",
    "\n",
    "## 6.1 List 구조\n",
    "\n",
    "- 일상생활에서 흔히 볼 수 있는 자료구조 (Data Structure)\n",
    "\n",
    "        예) 할일 목록 (to-do list), 식료품 구입 리스트, 초대장 리스트, 소원목록 (wish list), 국가 목록 등.\n",
    "\n",
    "-  List 는 top-10 list 처럼 순서가 있을 수도 있고, 친구 목록처럼 순서가 없을 수도 있음.\n",
    "\n",
    "\n",
    "- List 의 항목들을 요소 (element) 라고 한다.\n",
    "\n",
    "\n",
    "-  Python 문법에서 list 는 대괄호 (bracket) 로 표시하고 element 는 콤마(,) 로 구분하여 대괄호안에 위치함.\n",
    "\n",
    "\n",
    "-  List 의 element 는 지금까지 배운 Python 의 모든 자료형과 함수가 사용될 수 있음."
   ]
  },
  {
   "cell_type": "markdown",
   "metadata": {},
   "source": [
    "- list 생성"
   ]
  },
  {
   "cell_type": "markdown",
   "metadata": {},
   "source": [
    "- list element의 data type"
   ]
  },
  {
   "cell_type": "markdown",
   "metadata": {},
   "source": [
    "- 함수에서 list 반환"
   ]
  },
  {
   "cell_type": "markdown",
   "metadata": {},
   "source": [
    "- list 내부의 연산"
   ]
  },
  {
   "cell_type": "markdown",
   "metadata": {},
   "source": [
    "### list 의 주요 method\n",
    "\n",
    "- len( ) : list 의 길이\n",
    "- sort( ) : list sort\n",
    "- reverse( ) : list 를 역순으로 sort\n",
    "- append( ) : list 끝에 new item 추가\n",
    "- extend( )  : 다른 list 추가\n",
    "- pop( )  : list 의 마지막 item 제거 및 반환\n",
    "- pop(i) : i 번째 item 제거 및 반환\n",
    "- del alist[i] : i 번째  item delete\n",
    "- count( ) : list element 의 갯수 \n",
    "- index( ) : list element 의 index"
   ]
  },
  {
   "cell_type": "markdown",
   "metadata": {},
   "source": [
    "-  여러개의 list 를 결합"
   ]
  },
  {
   "cell_type": "markdown",
   "metadata": {},
   "source": [
    "- list의 특정 element 추출"
   ]
  },
  {
   "cell_type": "markdown",
   "metadata": {},
   "source": [
    "- list의 특정 element 삭제"
   ]
  },
  {
   "cell_type": "markdown",
   "metadata": {},
   "source": [
    "- list 의 원소(element) 갯수"
   ]
  },
  {
   "cell_type": "markdown",
   "metadata": {},
   "source": [
    "### list 원소(element) 추가 / 확장"
   ]
  },
  {
   "cell_type": "markdown",
   "metadata": {},
   "source": [
    "- list에 elment 추가"
   ]
  },
  {
   "cell_type": "markdown",
   "metadata": {},
   "source": [
    "- list 확장"
   ]
  },
  {
   "cell_type": "markdown",
   "metadata": {},
   "source": [
    "### list 내의 list"
   ]
  },
  {
   "cell_type": "markdown",
   "metadata": {},
   "source": [
    "### list element 의 변수 assign"
   ]
  },
  {
   "cell_type": "markdown",
   "metadata": {},
   "source": [
    "### list methods"
   ]
  },
  {
   "cell_type": "markdown",
   "metadata": {},
   "source": [
    "- list 정렬"
   ]
  },
  {
   "cell_type": "markdown",
   "metadata": {},
   "source": [
    "- 역순으로 정렬"
   ]
  },
  {
   "cell_type": "markdown",
   "metadata": {},
   "source": [
    "- 합계"
   ]
  },
  {
   "cell_type": "markdown",
   "metadata": {},
   "source": [
    "- 최대값"
   ]
  },
  {
   "cell_type": "markdown",
   "metadata": {},
   "source": [
    "- 최소값"
   ]
  },
  {
   "cell_type": "markdown",
   "metadata": {},
   "source": [
    "- list를 tuple로 변경"
   ]
  },
  {
   "cell_type": "markdown",
   "metadata": {},
   "source": [
    "- 특정 element 삭제"
   ]
  },
  {
   "cell_type": "markdown",
   "metadata": {},
   "source": [
    "- list 내의 특정 element 갯수 count"
   ]
  },
  {
   "cell_type": "markdown",
   "metadata": {},
   "source": [
    "- list 내 특정 element의 index"
   ]
  },
  {
   "cell_type": "markdown",
   "metadata": {},
   "source": [
    "## 6-2. List 의 indexing\n",
    "\n",
    "### list 를 구성하는 element 들은 위치에 따라 index 로 접근할 수 있다.\n",
    "### index 는 대괄호(bracket)안에 정수(integer) 로 표시\n",
    "### Python 의 index 는 0 부터 시작하는 양수 혹은 -1 부터 시작하는 음수로 표시할 수 있다.\n",
    "        0   1     2     3     4    5 \n",
    "    +---+---+---+---+---+---+\n",
    "    |  H |  e  |  l  |   l |  o |  ! |\n",
    "    +---+---+---+---+---+---+\n",
    "      -6    -5    -4   -3   -2   -1"
   ]
  },
  {
   "cell_type": "markdown",
   "metadata": {},
   "source": [
    "- 첫번째 element"
   ]
  },
  {
   "cell_type": "markdown",
   "metadata": {},
   "source": [
    "- 6번째 element"
   ]
  },
  {
   "cell_type": "markdown",
   "metadata": {},
   "source": [
    "- list의 마지막 element"
   ]
  },
  {
   "cell_type": "markdown",
   "metadata": {},
   "source": [
    "- list의 특정 element update"
   ]
  },
  {
   "cell_type": "markdown",
   "metadata": {},
   "source": [
    "- list 의 뒤에서 2번째"
   ]
  },
  {
   "cell_type": "markdown",
   "metadata": {},
   "source": [
    "- 뒤쪽부터 indexing"
   ]
  },
  {
   "cell_type": "markdown",
   "metadata": {},
   "source": [
    "- list element로 이루어진 list의 indexing"
   ]
  },
  {
   "cell_type": "markdown",
   "metadata": {},
   "source": [
    "## 6-3. 인덱스 (Index) 를 이용한 list 의 element 자르기 (slicing)\n",
    "\n",
    "\n",
    "### list 의 일부분을 범위 지정할 수 있다.\n",
    "    list[start : end]   => start ~ end-1\n",
    "    list[start:]      => start ~ 끝까지\n",
    "    list[:end]        => 처음 ~ end-1\n",
    "    list[:]           => list 전체\n",
    "    \n",
    "### 증가분 (increment) 를 지정하면 더욱 다양한 slicing 이 가능하다.\n",
    "    list[start : end : increment]\n",
    "    \n",
    "### increment 가 음수 (-) 이면 뒤에서부터 거꾸로 처리한다."
   ]
  },
  {
   "cell_type": "markdown",
   "metadata": {},
   "source": [
    "- list의 slicing"
   ]
  },
  {
   "cell_type": "markdown",
   "metadata": {},
   "source": [
    "- slicing with increment"
   ]
  },
  {
   "cell_type": "markdown",
   "metadata": {},
   "source": [
    "- list 범위를 벗어난 slicing"
   ]
  },
  {
   "cell_type": "markdown",
   "metadata": {},
   "source": [
    "- list 범위를 벗어난 indexing"
   ]
  },
  {
   "cell_type": "markdown",
   "metadata": {},
   "source": [
    "## 6-4. 튜플 (Tuple) \n",
    "\n",
    "### 튜플은 element 값을 변경할 수 없는 list 이다.\n",
    "\n",
    "- Mutable : 값을 변경 가능 (list, variable)\n",
    "\n",
    "- Immutable : 값을 변경 불가능 (tuple)  \n",
    "\n",
    "\n",
    "- **변경할 수 없으므로 list 보다 memory 사용이 효율적**\n",
    "\n",
    "### Tuple 은 괄호 (  ) 로 element 들을 감싸준다.\n",
    "\n",
    "### element 를 변경할 수 없는 것 이외의 operation 은 list 와 거의 유사함."
   ]
  },
  {
   "cell_type": "markdown",
   "metadata": {},
   "source": [
    "### Tuple 과 List 비교"
   ]
  },
  {
   "cell_type": "markdown",
   "metadata": {},
   "source": [
    "- slicing 비교"
   ]
  },
  {
   "cell_type": "markdown",
   "metadata": {},
   "source": [
    "- tuple 의 마지막 element"
   ]
  },
  {
   "cell_type": "markdown",
   "metadata": {},
   "source": [
    "- element 추가"
   ]
  },
  {
   "cell_type": "markdown",
   "metadata": {},
   "source": [
    "- element 변경"
   ]
  },
  {
   "cell_type": "markdown",
   "metadata": {},
   "source": [
    "- 변수에 element 할당"
   ]
  },
  {
   "cell_type": "markdown",
   "metadata": {},
   "source": [
    "- tuple이 element인 tuple의 indexing $\\rightarrow$ list 와 동일"
   ]
  },
  {
   "cell_type": "markdown",
   "metadata": {},
   "source": [
    "### 원소가 한개 (single element) 인 Tuple\n",
    "- comma(,) 로 tuple 임을 표시"
   ]
  },
  {
   "cell_type": "markdown",
   "metadata": {},
   "source": [
    "### 여러개의 Tuple 을 하나로 merge\n",
    "\n",
    "- 기존의 tuple 을 변경하는 것이 아니고 새로운 tuple 을 생성"
   ]
  },
  {
   "cell_type": "markdown",
   "metadata": {},
   "source": [
    "### Tuple 생성"
   ]
  },
  {
   "cell_type": "markdown",
   "metadata": {},
   "source": [
    "- 변수에 여러개의 element assign"
   ]
  },
  {
   "cell_type": "markdown",
   "metadata": {},
   "source": [
    "- tuple method를 이용한 tuple 생성"
   ]
  },
  {
   "cell_type": "markdown",
   "metadata": {},
   "source": [
    "### Tuple indexing"
   ]
  },
  {
   "cell_type": "markdown",
   "metadata": {},
   "source": [
    "### Tuple 정렬 (sort)"
   ]
  },
  {
   "cell_type": "markdown",
   "metadata": {},
   "source": [
    "### Tuple 의 크기 비교 \n",
    "\n",
    "- 왼쪽 element 부터 비교"
   ]
  },
  {
   "cell_type": "markdown",
   "metadata": {},
   "source": [
    "## zip\n",
    "\n",
    "- zip(*iterable)은 동일한 개수로 이루어진 자료형을 묶어 주는 역할을 하는 함수"
   ]
  },
  {
   "cell_type": "markdown",
   "metadata": {},
   "source": [
    "## List / Tuple 연습문제"
   ]
  },
  {
   "cell_type": "markdown",
   "metadata": {},
   "source": [
    "1) 다음 프로그램의 결과값은 ?\n",
    "\n",
    "    xlist = []\n",
    "    xlist.append('Good')\n",
    "    xlist.append('Morning')\n",
    "    print(xlist)\n",
    "    \n",
    "    xlist.append([3, 4])\n",
    "    print(xlist)"
   ]
  },
  {
   "cell_type": "markdown",
   "metadata": {},
   "source": [
    "2) 다음 list 의 element 를 오름차순으로 정렬 (ascending sort) 한다. 또한, 내림차순 (descending order)으로 정렬한다. sort(), sort(reverse=True) 함수를 사용한다.\n",
    "    \n",
    "    xlist = [2, 1, 3, 5, 4]"
   ]
  },
  {
   "cell_type": "markdown",
   "metadata": {},
   "source": [
    "3) 두개의 list element 들을 짝을 지워 출력  \n",
    "\n",
    "stocks = ['삼성전자', '대한항공', 'google', 'apple']  \n",
    "close = [40000, 2000, 50000, 100000]"
   ]
  }
 ],
 "metadata": {
  "kernelspec": {
   "display_name": "Python 3",
   "language": "python",
   "name": "python3"
  },
  "language_info": {
   "codemirror_mode": {
    "name": "ipython",
    "version": 3
   },
   "file_extension": ".py",
   "mimetype": "text/x-python",
   "name": "python",
   "nbconvert_exporter": "python",
   "pygments_lexer": "ipython3",
   "version": "3.9.7"
  }
 },
 "nbformat": 4,
 "nbformat_minor": 2
}
