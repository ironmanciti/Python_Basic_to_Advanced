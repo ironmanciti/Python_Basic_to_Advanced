{
 "cells": [
  {
   "cell_type": "markdown",
   "metadata": {},
   "source": [
    "# 16. while 문을 이용한 무한 반복 (indefinite loop)\n",
    "\n",
    "#### while 문은 주어진 조건이 만족되는 동안 (True 인 동안) 무한히 반복 처리를 함.\n",
    "    while <test 문>:\n",
    "        <body>\n",
    "\n",
    "#### break 문을 이용하여 반복 처리를 끝낼 수 있음. continue 문은 끝내지 않고 계속 진행.\n",
    "    while True:\n",
    "        if <조건 check>:\n",
    "            continue\n",
    "        else:\n",
    "            break\n",
    "\n",
    "#### 대부분의 while-loop 은 for-loop 으로 해결 가능하므로 while-loop 은 꼭 필요한 경우에만 사용"
   ]
  },
  {
   "cell_type": "markdown",
   "metadata": {},
   "source": [
    "- while 문에서 조건 check"
   ]
  },
  {
   "cell_type": "markdown",
   "metadata": {},
   "source": [
    "- 동일한 내용을 for-loop으로 구현"
   ]
  },
  {
   "cell_type": "markdown",
   "metadata": {},
   "source": [
    "### while 문 내부에서 조건 check\n",
    "\n",
    "- 조건 check 후 while loop 종료"
   ]
  },
  {
   "cell_type": "markdown",
   "metadata": {},
   "source": [
    "- 조건 check 후 while loop 계속, 종료 선택"
   ]
  },
  {
   "cell_type": "markdown",
   "metadata": {},
   "source": [
    "## while 문 연습문제 (유클리드 호제법)"
   ]
  },
  {
   "cell_type": "markdown",
   "metadata": {},
   "source": [
    "- 2개의 자연수 또는 정식의 최대공약수를 구하는 알고리즘\n",
    "- 두 수가 서로 상대방 수를 나누어서 결국 원하는 수를 얻는 알고리즘\n",
    "- 명시적으로 기술된 가장 오래된 알고리즘 (기원전 300 년)\n",
    "- 원리\n",
    "    - 2개의 자연수 a, b에 대해서 a 를 b 로 나눈 나머지를 r 이라 하면(단, a>b)\n",
    "    - a 와 b의 최대공약수는 b 와 r 의 최대공약수와 같다. \n",
    "    - 이 성질에 따라, b 를 r 로 나눈 나머지 r’ 를 구하고, 다시 r 을 r’ 로 나눈 나머지를 구하는 과정을 반복\n",
    "    - 나머지가 0 이 되었을 때 나누는 수가 a와 b의 최대공약수"
   ]
  },
  {
   "cell_type": "markdown",
   "metadata": {},
   "source": [
    "Example 1) 1071과 1029의 최대공약수\n",
    "\n",
    "- 1071 > 1029 이므로 1071 / 1029 $\\rightarrow$ 나머지 42  \n",
    "- 1029 / 42 $\\rightarrow$ 나머지 21  \n",
    "- 42 / 21 $\\rightarrow$ 나머지 0 $\\rightarrow$ 21 이 최대공약수\n",
    "\n",
    "Example 2) 78696과 19332의 최대공약수\n",
    "\n",
    "- 78696 / 19332 $\\rightarrow$ 1368  \n",
    "- 19332 / 1368 $\\rightarrow$ 180  \n",
    "- 1368 / 180 $\\rightarrow$ 108  \n",
    "- 180 / 108 $\\rightarrow$ 72  \n",
    "- 108 / 72 $\\rightarrow$ 36  \n",
    "- 72 / 36 $\\rightarrow$ 0  $\\rightarrow$ 36 이 최대공약수"
   ]
  },
  {
   "cell_type": "markdown",
   "metadata": {
    "collapsed": true
   },
   "source": [
    "두개의 정수 m 과 n 이 있을 경우 m % n = 0 이면 n 이 GCD (Greatest Common Divisor, 최대 공약수) 이다.\n",
    "\n",
    "<table>\n",
    "    <tr>\n",
    "        <td>m</td>\n",
    "        <td>n</td>   \n",
    "    </tr>\n",
    "    <tr>\n",
    "        <td>44</td>\n",
    "        <td>12</td>    \n",
    "    </tr>\n",
    "    <tr>\n",
    "        <td>36</td>\n",
    "        <td></td>    \n",
    "    </tr>\n",
    "    <tr>\n",
    "        <td>8</td>\n",
    "        <td>12</td>    \n",
    "    </tr>\n",
    "    <tr>\n",
    "        <td></td>\n",
    "        <td>8</td>    \n",
    "    </tr>\n",
    "    <tr>\n",
    "        <td>8</td>\n",
    "        <td>4</td>    \n",
    "    </tr>\n",
    "    <tr>\n",
    "        <td>0</td>\n",
    "        <td>4</td>\n",
    "        <td>GCD</td>\n",
    "    </tr>\n",
    "</table>\n",
    "\n",
    "- 원리 : m % n = 0 가 될 때까지 작은 수(나머지)로 큰 수를 계속 나누어준다. 나머지가 0 이 될 때 나누어준 수가 GCD 이다."
   ]
  }
 ],
 "metadata": {
  "kernelspec": {
   "display_name": "Python 3 (ipykernel)",
   "language": "python",
   "name": "python3"
  },
  "language_info": {
   "codemirror_mode": {
    "name": "ipython",
    "version": 3
   },
   "file_extension": ".py",
   "mimetype": "text/x-python",
   "name": "python",
   "nbconvert_exporter": "python",
   "pygments_lexer": "ipython3",
   "version": "3.9.7"
  }
 },
 "nbformat": 4,
 "nbformat_minor": 2
}
