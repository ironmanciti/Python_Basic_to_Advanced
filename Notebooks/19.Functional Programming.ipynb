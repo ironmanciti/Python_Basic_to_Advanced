{
 "cells": [
  {
   "cell_type": "markdown",
   "metadata": {},
   "source": [
    "# 19. Python Functional Programming"
   ]
  },
  {
   "cell_type": "markdown",
   "metadata": {},
   "source": [
    "### 19-1. 재귀함수 (Recursive Function)\n",
    "\n",
    "- 재귀(Recursion) 알고리즘의 3 가지 조건\n",
    "\n",
    "    1. 재귀함수는 종료조건 (exit condition, terminating condition, base case) 을 포함해야 한다.\n",
    "    2. base case 를 향하여 자신의 status 를 변경한다.\n",
    "    3. 한번이상 자기 자신을 호출한다.\n",
    "\n",
    "### 재귀 연습 1 - Factorial 함수 작성\n",
    "\n",
    "$𝑛!=𝑛⋅(𝑛−1)⋅(𝑛−2)⋯3⋅2⋅1 $\n",
    "\n",
    "1. for loop 사용 : 1 ~ n 까지를 순차적으로 곱한다.\n",
    "\n",
    "\n",
    "2. recursive  방법 사용"
   ]
  },
  {
   "cell_type": "markdown",
   "metadata": {},
   "source": [
    "- for loop 사용"
   ]
  },
  {
   "cell_type": "code",
   "execution_count": 1,
   "metadata": {},
   "outputs": [
    {
     "name": "stdout",
     "output_type": "stream",
     "text": [
      "3628800\n"
     ]
    }
   ],
   "source": [
    "n = 10\n",
    "nn = 1\n",
    "for i in range(1, n+1):\n",
    "    nn *= i\n",
    "print(nn)"
   ]
  },
  {
   "cell_type": "markdown",
   "metadata": {},
   "source": [
    "- recursive method"
   ]
  },
  {
   "cell_type": "code",
   "execution_count": 2,
   "metadata": {},
   "outputs": [
    {
     "data": {
      "text/plain": [
       "3628800"
      ]
     },
     "execution_count": 2,
     "metadata": {},
     "output_type": "execute_result"
    }
   ],
   "source": [
    "def factorial(n):\n",
    "    if n == 1:\n",
    "        return 1\n",
    "    return n * factorial(n-1)\n",
    "\n",
    "factorial(10)"
   ]
  },
  {
   "cell_type": "markdown",
   "metadata": {},
   "source": [
    "## 19-2. map, reduce, filter 함수\n",
    "\n",
    "- map : 각각의 sequence 요소(element)에 대해 순서대로 한번씩 처리하여 새로운 list 를 반환\n",
    "\n",
    "\n",
    "- filter : sequence 의 element 중 test 를 통과한 element 로 구성된 새로운 list 반환\n",
    "\n",
    "\n",
    "- reduce : sequence 의 element 들을 왼쪽부터 두개씩 순차적으로 처리하며 누적된 결과가 최종적으로 하나가 되도록 한다.  "
   ]
  },
  {
   "cell_type": "markdown",
   "metadata": {},
   "source": [
    "### map(함수명, list)"
   ]
  },
  {
   "cell_type": "markdown",
   "metadata": {},
   "source": [
    "- 제곱을 계산하는 함수를 list 에 적용"
   ]
  },
  {
   "cell_type": "code",
   "execution_count": 3,
   "metadata": {},
   "outputs": [
    {
     "data": {
      "text/plain": [
       "[1, 4, 9, 16, 25]"
      ]
     },
     "execution_count": 3,
     "metadata": {},
     "output_type": "execute_result"
    }
   ],
   "source": [
    "def square(x):\n",
    "    return x*x\n",
    "\n",
    "list(map(square, [1, 2, 3, 4, 5]))"
   ]
  },
  {
   "cell_type": "markdown",
   "metadata": {},
   "source": [
    "- 위와 동일한 계산을 lambda 로 구현"
   ]
  },
  {
   "cell_type": "code",
   "execution_count": 4,
   "metadata": {},
   "outputs": [
    {
     "data": {
      "text/plain": [
       "[1, 4, 9, 16, 25]"
      ]
     },
     "execution_count": 4,
     "metadata": {},
     "output_type": "execute_result"
    }
   ],
   "source": [
    "list(map(lambda x: x*x, [1, 2, 3, 4, 5]))"
   ]
  },
  {
   "cell_type": "markdown",
   "metadata": {},
   "source": [
    "- 두개의 list를 element별로 곱하기"
   ]
  },
  {
   "cell_type": "code",
   "execution_count": 5,
   "metadata": {},
   "outputs": [],
   "source": [
    "def multiply(x, y):\n",
    "    return x * y"
   ]
  },
  {
   "cell_type": "code",
   "execution_count": 6,
   "metadata": {},
   "outputs": [
    {
     "data": {
      "text/plain": [
       "[17, 24, 33, 40]"
      ]
     },
     "execution_count": 6,
     "metadata": {},
     "output_type": "execute_result"
    }
   ],
   "source": [
    "a = [1, 2, 3, 4]\n",
    "b = [17, 12, 11, 10]\n",
    "\n",
    "list(map(multiply, a, b))  # x <-- a, y <-- b"
   ]
  },
  {
   "cell_type": "markdown",
   "metadata": {},
   "source": [
    "- 위와 동일한 계산을 lambda 로 구현"
   ]
  },
  {
   "cell_type": "code",
   "execution_count": 7,
   "metadata": {},
   "outputs": [
    {
     "data": {
      "text/plain": [
       "[18, 14, 14, 14]"
      ]
     },
     "execution_count": 7,
     "metadata": {},
     "output_type": "execute_result"
    }
   ],
   "source": [
    "list(map(lambda x, y: x+y, a, b))  # x <-- a, y <-- b"
   ]
  },
  {
   "cell_type": "markdown",
   "metadata": {},
   "source": [
    "### filter(함수명, list)\n",
    "\n",
    "filter 를 이용하면 if 문을 함수 안으로 숨길 수 있다."
   ]
  },
  {
   "cell_type": "markdown",
   "metadata": {},
   "source": [
    "- 5 보다 큰 숫자만 통과"
   ]
  },
  {
   "cell_type": "code",
   "execution_count": 8,
   "metadata": {},
   "outputs": [
    {
     "data": {
      "text/plain": [
       "[6, 7, 8, 9]"
      ]
     },
     "execution_count": 8,
     "metadata": {},
     "output_type": "execute_result"
    }
   ],
   "source": [
    "def test(x):\n",
    "    if x > 5:\n",
    "        return x\n",
    "    else:\n",
    "        return None\n",
    "    \n",
    "list(filter(test, [1, 2, 3, 4, 5, 6, 7, 8, 9]))"
   ]
  },
  {
   "cell_type": "markdown",
   "metadata": {},
   "source": [
    "- lambda로 구현"
   ]
  },
  {
   "cell_type": "code",
   "execution_count": 9,
   "metadata": {},
   "outputs": [
    {
     "data": {
      "text/plain": [
       "[6, 7, 8, 9]"
      ]
     },
     "execution_count": 9,
     "metadata": {},
     "output_type": "execute_result"
    }
   ],
   "source": [
    "list(filter(lambda x: x > 5 , [1, 2, 3, 4, 5, 6, 7, 8, 9]))"
   ]
  },
  {
   "cell_type": "markdown",
   "metadata": {},
   "source": [
    "- \"김\"으로 시작하는 이름 filtering"
   ]
  },
  {
   "cell_type": "code",
   "execution_count": 10,
   "metadata": {},
   "outputs": [
    {
     "data": {
      "text/plain": [
       "['김갑돌', '김성환']"
      ]
     },
     "execution_count": 10,
     "metadata": {},
     "output_type": "execute_result"
    }
   ],
   "source": [
    "list(filter(lambda x: x.startswith('김'), \n",
    "            ['김갑돌', '김성환', '오영제', '한영기']))"
   ]
  },
  {
   "cell_type": "markdown",
   "metadata": {},
   "source": [
    "- 3의 배수만 통과"
   ]
  },
  {
   "cell_type": "code",
   "execution_count": 12,
   "metadata": {},
   "outputs": [
    {
     "data": {
      "text/plain": [
       "[18, 9, 24, 27]"
      ]
     },
     "execution_count": 12,
     "metadata": {},
     "output_type": "execute_result"
    }
   ],
   "source": [
    "foo = [1, 18, 9, 22, 17, 24, 8, 27]\n",
    "\n",
    "list(filter(lambda x: x%3 == 0, foo))"
   ]
  },
  {
   "cell_type": "markdown",
   "metadata": {},
   "source": [
    "### reduce \n",
    "\n",
    "- 누적 연산"
   ]
  },
  {
   "cell_type": "code",
   "execution_count": 14,
   "metadata": {},
   "outputs": [
    {
     "data": {
      "text/plain": [
       "15"
      ]
     },
     "execution_count": 14,
     "metadata": {},
     "output_type": "execute_result"
    }
   ],
   "source": [
    "from  functools import reduce\n",
    "\n",
    "def sum(x, y):\n",
    "    return x+y\n",
    "\n",
    "reduce(sum, [1, 2, 3, 4, 5])          # ((((1+2)+3)+4)+5)"
   ]
  },
  {
   "cell_type": "markdown",
   "metadata": {},
   "source": [
    "- lambda로 구현"
   ]
  },
  {
   "cell_type": "code",
   "execution_count": 15,
   "metadata": {},
   "outputs": [
    {
     "data": {
      "text/plain": [
       "15"
      ]
     },
     "execution_count": 15,
     "metadata": {},
     "output_type": "execute_result"
    }
   ],
   "source": [
    "reduce(lambda x, y: x+y, [1, 2, 3, 4, 5])     # ((((1+2)+3)+4)+5)"
   ]
  },
  {
   "cell_type": "markdown",
   "metadata": {},
   "source": [
    "- list 의 element 전체를 하나의 문자열로 합치기"
   ]
  },
  {
   "cell_type": "code",
   "execution_count": 16,
   "metadata": {},
   "outputs": [
    {
     "data": {
      "text/plain": [
       "'abcde'"
      ]
     },
     "execution_count": 16,
     "metadata": {},
     "output_type": "execute_result"
    }
   ],
   "source": [
    "reduce(lambda x, y: x+y, ['a', 'b', 'c', 'd', 'e'])"
   ]
  },
  {
   "cell_type": "markdown",
   "metadata": {},
   "source": [
    "## 19-3. decorator\n",
    "\n",
    "closure 는 외부 변수 (free variable) 을 내부 함수 (inner function)로 전달하여 기억하게 하는 것이고, decorator 는 함수를 내부 함수로 전달하여 기억하게 하는 것이다. 여기서 전달하는 함수를 original function 이라고 하고, 내부 함수를 wrapper function 이라고 한다.\n",
    "\n",
    "따라서, decorator 역시 함수를 parameter 로 전달 받고 반환할 수 있는 First-class 객체 language 에서만 구현 가능하다.\n",
    "\n",
    "- 목적 : 하나의 decorator 함수를 만들고 wrapper 함수에 변화를 줌으로서 parameter 로 받는 여러 함수들에 동작을 쉽게 추가"
   ]
  },
  {
   "cell_type": "markdown",
   "metadata": {},
   "source": [
    "- 함수를 parameter 로 받는 함수 생성"
   ]
  },
  {
   "cell_type": "code",
   "execution_count": 1,
   "metadata": {},
   "outputs": [],
   "source": [
    "def decorator_function(original_function):\n",
    "    \n",
    "    def wrapper_function(*args):\n",
    "        print(\"{} 함수가 실행되었습니다.\"\n",
    "              .format(original_function.__name__))\n",
    "        print(\"넘겨 받은 argument는 다음과 같습니다.\")\n",
    "        for arg in args:\n",
    "            print(arg)\n",
    "        return original_function(*args)\n",
    "    \n",
    "    return wrapper_function"
   ]
  },
  {
   "cell_type": "markdown",
   "metadata": {},
   "source": [
    "- 한개의 parameter를 가진 함수를 decorate"
   ]
  },
  {
   "cell_type": "code",
   "execution_count": 2,
   "metadata": {},
   "outputs": [],
   "source": [
    "@decorator_function\n",
    "def display(msg1):\n",
    "    print(\"response complete\")"
   ]
  },
  {
   "cell_type": "code",
   "execution_count": 3,
   "metadata": {},
   "outputs": [
    {
     "name": "stdout",
     "output_type": "stream",
     "text": [
      "display 함수가 실행되었습니다.\n",
      "넘겨 받은 argument는 다음과 같습니다.\n",
      "여러 함수에 공통인 기능을 유지 관리하기 편합니다.\n",
      "response complete\n"
     ]
    }
   ],
   "source": [
    "display(\"여러 함수에 공통인 기능을 유지 관리하기 편합니다.\")"
   ]
  },
  {
   "cell_type": "markdown",
   "metadata": {},
   "source": [
    "- 여러개의 parameter를 가진 함수를 decorate"
   ]
  },
  {
   "cell_type": "code",
   "execution_count": 4,
   "metadata": {},
   "outputs": [],
   "source": [
    "@decorator_function\n",
    "def display_info(name, age):\n",
    "    print(\"함수의 parameter 로 함수를 전달할 수 있습니다.\")"
   ]
  },
  {
   "cell_type": "code",
   "execution_count": 5,
   "metadata": {},
   "outputs": [
    {
     "name": "stdout",
     "output_type": "stream",
     "text": [
      "display_info 함수가 실행되었습니다.\n",
      "넘겨 받은 argument는 다음과 같습니다.\n",
      "John\n",
      "50\n",
      "함수의 parameter 로 함수를 전달할 수 있습니다.\n"
     ]
    }
   ],
   "source": [
    "display_info('John', 50)"
   ]
  },
  {
   "cell_type": "markdown",
   "metadata": {},
   "source": [
    "## 19-4. Generator\n",
    "\n",
    "- yield 문을 사용하여 값 return\n",
    "\n",
    "    \n",
    "- memory 를 효율적으로 사용할 수 있으므로 large data 처리에 유용"
   ]
  },
  {
   "cell_type": "markdown",
   "metadata": {},
   "source": [
    "- 일반적 함수 -> 한번에 결과값 반환"
   ]
  },
  {
   "cell_type": "code",
   "execution_count": 6,
   "metadata": {},
   "outputs": [],
   "source": [
    "def fibs(n):\n",
    "    result = []\n",
    "    a = 1\n",
    "    b = 1\n",
    "    for i in range(n):\n",
    "        result.append(a)\n",
    "        a, b = b, a + b\n",
    "    return result"
   ]
  },
  {
   "cell_type": "code",
   "execution_count": 7,
   "metadata": {},
   "outputs": [
    {
     "name": "stdout",
     "output_type": "stream",
     "text": [
      "[1, 1, 2, 3, 5, 8, 13, 21, 34, 55, 89, 144, 233, 377, 610, 987, 1597, 2584, 4181, 6765, 10946, 17711, 28657, 46368, 75025, 121393, 196418, 317811, 514229, 832040]\n"
     ]
    }
   ],
   "source": [
    "print(fibs(30))"
   ]
  },
  {
   "cell_type": "markdown",
   "metadata": {},
   "source": [
    "- generator 함수 $\\rightarrow$ yield 문 안의 표현식을 반환하고, 실행 일시 중단"
   ]
  },
  {
   "cell_type": "code",
   "execution_count": 8,
   "metadata": {},
   "outputs": [],
   "source": [
    "def fibs2(n):\n",
    "    a = 1\n",
    "    b = 1\n",
    "    for i in range(n):\n",
    "        yield a                  # yield 문 안의 표현식을 반환하고, 실행 일시 중단\n",
    "        a, b = b, a + b"
   ]
  },
  {
   "cell_type": "markdown",
   "metadata": {},
   "source": [
    "- generator object 반환"
   ]
  },
  {
   "cell_type": "code",
   "execution_count": 9,
   "metadata": {},
   "outputs": [
    {
     "data": {
      "text/plain": [
       "<generator object fibs2 at 0x000001B3843A84A0>"
      ]
     },
     "execution_count": 9,
     "metadata": {},
     "output_type": "execute_result"
    }
   ],
   "source": [
    "fib = fibs2(30)             \n",
    "fib"
   ]
  },
  {
   "cell_type": "markdown",
   "metadata": {},
   "source": [
    "- next 내장 함수를 이용한 generator 호출"
   ]
  },
  {
   "cell_type": "code",
   "execution_count": 10,
   "metadata": {},
   "outputs": [
    {
     "name": "stdout",
     "output_type": "stream",
     "text": [
      "1\n",
      "1\n",
      "2\n",
      "3\n",
      "5\n"
     ]
    }
   ],
   "source": [
    "for _ in range(5):\n",
    "    print(next(fib))"
   ]
  },
  {
   "cell_type": "markdown",
   "metadata": {},
   "source": [
    "- list 내장 함수를 이용한 generator 호출 $\\rightarrow$ list 생성  \n",
    "- 이전 next 문 이후 실행"
   ]
  },
  {
   "cell_type": "code",
   "execution_count": 36,
   "metadata": {},
   "outputs": [
    {
     "name": "stdout",
     "output_type": "stream",
     "text": [
      "[8, 13, 21, 34, 55, 89, 144, 233, 377, 610, 987, 1597, 2584, 4181, 6765, 10946, 17711, 28657, 46368, 75025, 121393, 196418, 317811, 514229, 832040]\n"
     ]
    }
   ],
   "source": [
    "print(list(fib))"
   ]
  },
  {
   "cell_type": "markdown",
   "metadata": {},
   "source": [
    "## 19-5. First Class Citizen (일급시민)\n",
    "\n",
    "- 변수에 담을 수 있다\n",
    "- 인자 (parameter) 로 전달할 수 잇다  \n",
    "- retrun 값으로 반환할 수 있다"
   ]
  },
  {
   "cell_type": "markdown",
   "metadata": {},
   "source": [
    "- 함수를 변수에 할당"
   ]
  },
  {
   "cell_type": "code",
   "execution_count": 24,
   "metadata": {},
   "outputs": [
    {
     "name": "stdout",
     "output_type": "stream",
     "text": [
      "123\n"
     ]
    }
   ],
   "source": [
    "def first_class(a):\n",
    "    print(a)\n",
    "    \n",
    "val = first_class\n",
    "val(123)"
   ]
  },
  {
   "cell_type": "markdown",
   "metadata": {},
   "source": [
    "- 함수를 리스트의 element 로 사용"
   ]
  },
  {
   "cell_type": "code",
   "execution_count": 37,
   "metadata": {},
   "outputs": [
    {
     "name": "stdout",
     "output_type": "stream",
     "text": [
      "2\n"
     ]
    }
   ],
   "source": [
    "def plus(a, b):\n",
    "    return a+b\n",
    "\n",
    "def minus(a, b):\n",
    "    return a - b\n",
    "\n",
    "list = [plus, minus]\n",
    "\n",
    "a = list[0](1, 2)\n",
    "b = list[1](1, 2)\n",
    "\n",
    "print(a + b)"
   ]
  },
  {
   "cell_type": "markdown",
   "metadata": {},
   "source": [
    "- 함수를 다른 함수의 parameter 로 사용"
   ]
  },
  {
   "cell_type": "code",
   "execution_count": 38,
   "metadata": {},
   "outputs": [
    {
     "name": "stdout",
     "output_type": "stream",
     "text": [
      "I love you Good bye\n"
     ]
    }
   ],
   "source": [
    "def love():\n",
    "    return \"I love\"\n",
    "    \n",
    "def bye():\n",
    "    return \"Good bye\"\n",
    "\n",
    "def send(s, func1, func2):\n",
    "    print(func1(), s, func2())\n",
    "    \n",
    "send('you', love, bye)"
   ]
  },
  {
   "cell_type": "markdown",
   "metadata": {},
   "source": [
    "## 연습문제\n",
    "\n",
    "- ``lambda`` 를 이용하여 ``test_list`` 의 각 문장이 몇 개의 단어로 이루어져 있는지 출력하는 code 작성\n",
    "\n",
    "test_list = ['this is a book', 'good morning', 'apple', 'apple orange pear', 'hello python and functional programmiong']"
   ]
  },
  {
   "cell_type": "code",
   "execution_count": null,
   "metadata": {},
   "outputs": [],
   "source": [
    "test_list = ['this is a book', 'good morning', 'apple', 'apple orange pear', \n",
    "             'hello python and functional programmiong']\n",
    "\n",
    "for s in test_list:\n",
    "    %%YOUR CODE HERE%%"
   ]
  }
 ],
 "metadata": {
  "kernelspec": {
   "display_name": "Python 3 (ipykernel)",
   "language": "python",
   "name": "python3"
  },
  "language_info": {
   "codemirror_mode": {
    "name": "ipython",
    "version": 3
   },
   "file_extension": ".py",
   "mimetype": "text/x-python",
   "name": "python",
   "nbconvert_exporter": "python",
   "pygments_lexer": "ipython3",
   "version": "3.9.12"
  }
 },
 "nbformat": 4,
 "nbformat_minor": 2
}
