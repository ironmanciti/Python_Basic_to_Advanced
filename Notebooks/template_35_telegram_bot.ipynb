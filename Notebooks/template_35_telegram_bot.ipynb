{
 "cells": [
  {
   "cell_type": "markdown",
   "id": "b02e14ff",
   "metadata": {},
   "source": [
    "# 35. Telegram Bot 연결\n",
    "\n",
    "- 사전에 본인의 mobile 기기에 telegram 설치하여 token을 얻는다."
   ]
  },
  {
   "cell_type": "markdown",
   "id": "1eb6207c",
   "metadata": {},
   "source": [
    "- 메시지 전송"
   ]
  },
  {
   "cell_type": "markdown",
   "id": "11f049fd",
   "metadata": {},
   "source": [
    "- telegram에서 메시지 받기"
   ]
  },
  {
   "cell_type": "markdown",
   "id": "3d1fccda",
   "metadata": {},
   "source": [
    "## 연습 문제\n",
    "\n",
    "`emailbox-short.txt` 로그 파일을 5초 간격으로 계속 감시하면서 `\\d \\d\\d:\\d\\d:\\d\\d \\d{4}|\\d+ \\w+ \\d{4} \\d\\d:\\d\\d:\\d\\d` 패턴의 문자열이 발생하면 자신의 이메일로 문제 발생을 통지하고, 메일이 발송 되었음을 텔레그램 메시지로 보낸다."
   ]
  }
 ],
 "metadata": {
  "kernelspec": {
   "display_name": "Python 3 (ipykernel)",
   "language": "python",
   "name": "python3"
  },
  "language_info": {
   "codemirror_mode": {
    "name": "ipython",
    "version": 3
   },
   "file_extension": ".py",
   "mimetype": "text/x-python",
   "name": "python",
   "nbconvert_exporter": "python",
   "pygments_lexer": "ipython3",
   "version": "3.9.12"
  }
 },
 "nbformat": 4,
 "nbformat_minor": 5
}
