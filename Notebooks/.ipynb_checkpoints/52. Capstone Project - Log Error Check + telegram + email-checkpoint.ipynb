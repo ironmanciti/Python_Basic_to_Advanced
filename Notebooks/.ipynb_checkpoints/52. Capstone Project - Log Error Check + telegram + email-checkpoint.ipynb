{
 "cells": [
  {
   "cell_type": "code",
   "execution_count": 8,
   "metadata": {},
   "outputs": [],
   "source": [
    "import datetime\n",
    "import re\n",
    "import pandas as pd\n",
    "import time\n",
    "import telegram\n",
    "\n",
    "now = datetime.datetime.now()\n",
    "now.strftime('%Y-%m-%d'), now.hour, now.minute\n",
    "\n",
    "telegram_token = '5457763237:AAGGZzkNU0-Y9mXe0WQ0_Rx3v26ntqt6CB8'\n",
    "telegram_chat_id = 5304618195\n",
    "bot = telegram.Bot(token = telegram_token)"
   ]
  },
  {
   "cell_type": "code",
   "execution_count": 14,
   "metadata": {},
   "outputs": [],
   "source": [
    "def send_email(message):\n",
    "    import smtplib, ssl\n",
    "    from email.mime.text import MIMEText\n",
    "\n",
    "    port = 465  # For SSL\n",
    "    smtp_server = \"smtp.gmail.com\"\n",
    "    sender_email = \"ironmanciti@gmail.com\"  # Enter your address\n",
    "    receiver_email = \"trimurti@naver.com\"  # Enter receiver address\n",
    "    with open(\"password.txt\", \"r\") as pswd:\n",
    "        password = pswd.read()\n",
    "\n",
    "\n",
    "    msg = MIMEText(f'로그에서 문제가 감지되었습니다.\\n { message}')\n",
    "    msg['Subject'] = '문제 발생'\n",
    "    msg['From'] = receiver_email\n",
    "    msg['To'] = receiver_email\n",
    "\n",
    "    context = ssl.create_default_context()\n",
    "    with smtplib.SMTP_SSL(smtp_server, port, context=context) as server:\n",
    "        server.login(sender_email, password)\n",
    "        server.sendmail(sender_email, receiver_email, msg.as_string())   \n",
    "        server.quit()"
   ]
  },
  {
   "cell_type": "code",
   "execution_count": 18,
   "metadata": {},
   "outputs": [],
   "source": [
    "def send_telegram(message):\n",
    "    bot.sendMessage(chat_id=telegram_chat_id, text=message)"
   ]
  },
  {
   "cell_type": "code",
   "execution_count": 23,
   "metadata": {},
   "outputs": [],
   "source": [
    "def log_check(ymd, hour, minute):\n",
    "    f = open('emailbox-short.txt', 'r')\n",
    "\n",
    "    for line in f:\n",
    "        result = re.search('\\d \\d\\d:\\d\\d:\\d\\d \\d{4}|\\d+ \\w+ \\d{4} \\d\\d:\\d\\d:\\d\\d', line)\n",
    "        if result:\n",
    "            str_time = result.group()\n",
    "            log_time = pd.to_datetime(str_time)\n",
    "            if log_time.strftime('%Y-%m-%d') == ymd and \\\n",
    "               log_time.hour == hour and \\\n",
    "               log_time.minute == minute:\n",
    "                print(\"message sent...\")\n",
    "                send_email(f\"{str_time}이 발견되었습니다.\")\n",
    "                send_telegram(\"email을 확인 바랍니다.\")\n",
    "                break"
   ]
  },
  {
   "cell_type": "code",
   "execution_count": 24,
   "metadata": {},
   "outputs": [
    {
     "name": "stdout",
     "output_type": "stream",
     "text": [
      "log checked at  2008-01-04 11:11:03\n",
      "message sent...\n"
     ]
    }
   ],
   "source": [
    "while True:\n",
    "    now = pd.to_datetime(\"2008-01-04 11:11:03\")\n",
    "    ymd = now.strftime('%Y-%m-%d')\n",
    "    hour = now.hour\n",
    "    minute = now.minute\n",
    "    print(\"log checked at \", now)\n",
    "    log_check(ymd, hour, minute)\n",
    "    time.sleep(5)\n",
    "    break"
   ]
  },
  {
   "cell_type": "code",
   "execution_count": null,
   "metadata": {},
   "outputs": [],
   "source": []
  }
 ],
 "metadata": {
  "kernelspec": {
   "display_name": "Python 3",
   "language": "python",
   "name": "python3"
  },
  "language_info": {
   "codemirror_mode": {
    "name": "ipython",
    "version": 3
   },
   "file_extension": ".py",
   "mimetype": "text/x-python",
   "name": "python",
   "nbconvert_exporter": "python",
   "pygments_lexer": "ipython3",
   "version": "3.9.7"
  }
 },
 "nbformat": 4,
 "nbformat_minor": 2
}
