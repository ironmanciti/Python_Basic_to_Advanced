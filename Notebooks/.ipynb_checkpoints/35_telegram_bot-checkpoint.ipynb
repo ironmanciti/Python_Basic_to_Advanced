{
 "cells": [
  {
   "cell_type": "markdown",
   "id": "b02e14ff",
   "metadata": {},
   "source": [
    "# 35. Telegram Bot 연결\n",
    "\n",
    "- 사전에 본인의 mobile 기기에 telegram 설치하여 token을 얻는다."
   ]
  },
  {
   "cell_type": "code",
   "execution_count": 2,
   "id": "39cace1e",
   "metadata": {},
   "outputs": [],
   "source": [
    "#pip install python-telegram-bot"
   ]
  },
  {
   "cell_type": "code",
   "execution_count": null,
   "id": "88d52ac1",
   "metadata": {},
   "outputs": [],
   "source": [
    "#https://api.telegram.org/bot5424548335:AAFJOuKbbhXXXXXXXGugHgSjP86YRZNnTPI/getUpdates"
   ]
  },
  {
   "cell_type": "code",
   "execution_count": 3,
   "id": "215eee0a",
   "metadata": {},
   "outputs": [
    {
     "data": {
      "text/plain": [
       "<telegram.message.Message at 0x252a9894c20>"
      ]
     },
     "execution_count": 3,
     "metadata": {},
     "output_type": "execute_result"
    }
   ],
   "source": [
    "import telegram\n",
    " \n",
    "telegram_token = '5424548335:AAFJOuXXXXXXgHgSjP86YRZNnTPI'\n",
    " \n",
    "telegram_chat_id = 5304618195\n",
    "\n",
    "bot = telegram.Bot(token = telegram_token)\n",
    "\n",
    "bot.sendMessage(chat_id=telegram_chat_id, text=\"테스트 메시지 보내기\")"
   ]
  },
  {
   "cell_type": "markdown",
   "id": "1eb6207c",
   "metadata": {},
   "source": [
    "- 메시지 전송"
   ]
  },
  {
   "cell_type": "code",
   "execution_count": 4,
   "id": "03e4db1c",
   "metadata": {},
   "outputs": [],
   "source": [
    "messages = ['좋은 아침 !!', '코로나가 조심하세요 ^^', '저녁에 봐요 ...']\n",
    "for msg in messages:\n",
    "    bot.sendMessage(chat_id=telegram_chat_id, text=msg)"
   ]
  },
  {
   "cell_type": "markdown",
   "id": "11f049fd",
   "metadata": {},
   "source": [
    "- telegram에서 메시지 받기"
   ]
  },
  {
   "cell_type": "code",
   "execution_count": 5,
   "id": "80a120f2",
   "metadata": {},
   "outputs": [
    {
     "data": {
      "text/plain": [
       "[<telegram.update.Update at 0x252aa8e31c0>,\n",
       " <telegram.update.Update at 0x252aa8e34c0>,\n",
       " <telegram.update.Update at 0x252aa8e3580>]"
      ]
     },
     "execution_count": 5,
     "metadata": {},
     "output_type": "execute_result"
    }
   ],
   "source": [
    "updates = bot.getUpdates()\n",
    "updates"
   ]
  },
  {
   "cell_type": "code",
   "execution_count": 6,
   "id": "be322692",
   "metadata": {},
   "outputs": [
    {
     "name": "stdout",
     "output_type": "stream",
     "text": [
      "/start\n",
      "First message\n",
      "오늘 마지막까지 잘 합시다\n"
     ]
    }
   ],
   "source": [
    "for u in updates:\n",
    "    print(u.message.text)"
   ]
  },
  {
   "cell_type": "markdown",
   "id": "3d1fccda",
   "metadata": {},
   "source": [
    "## 연습 문제\n",
    "\n",
    "`emailbox-short.txt` 로그 파일을 5초 간격으로 계속 감시하면서 `\\d \\d\\d:\\d\\d:\\d\\d \\d{4}|\\d+ \\w+ \\d{4} \\d\\d:\\d\\d:\\d\\d` 패턴의 문자열이 발생하면 자신의 이메일로 문제 발생을 통지하고, 메일이 발송 되었음을 텔레그램 메시지로 보낸다."
   ]
  },
  {
   "cell_type": "code",
   "execution_count": 12,
   "id": "0472d770",
   "metadata": {},
   "outputs": [
    {
     "name": "stdout",
     "output_type": "stream",
     "text": [
      "log checked at  2008-01-04 11:11:03\n",
      "성공적으로 메일 발송\n"
     ]
    }
   ],
   "source": [
    "import datetime\n",
    "import re\n",
    "import pandas as pd\n",
    "import time\n",
    "import telegram\n",
    "\n",
    "now = datetime.datetime.now()\n",
    "telegram_token = '5424548335:AAFJOuXXXXXXXXXXgHgSjP86YRZNnTPI'\n",
    "telegram_chat_id = 5304618195\n",
    "bot = telegram.Bot(token = telegram_token)\n",
    "\n",
    "def send_email(subject, body):\n",
    "    import smtplib, ssl\n",
    "\n",
    "    from email.utils import formatdate\n",
    "    from email.mime.multipart import MIMEMultipart\n",
    "    from email.header import Header\n",
    "    # 메일 제목과 내용을 설정하는 모듈\n",
    "    from email.mime.text import MIMEText\n",
    "    import os\n",
    "    from email.mime.base import MIMEBase\n",
    "    from email.encoders import encode_base64\n",
    "    \n",
    "    msg = MIMEMultipart()\n",
    "\n",
    "    port = 465  # For SSL\n",
    "    smtp_server = \"smtp.gmail.com\"\n",
    "    sender_email = \"ironmanciti@gmail.com\"  # Enter your address\n",
    "    receiver_email = \"trimurti@naver.com\"  # Enter receiver address\n",
    "    with open(\"password.txt\", \"r\") as pswd:\n",
    "        password = pswd.read()\n",
    "\n",
    "    msg['From'] = sender_email \n",
    "    msg['To'] = receiver_email \n",
    "    msg['Date'] = formatdate(localtime=True)\n",
    "\n",
    "    msg['Subject'] = Header(s=subject, charset='utf-8')\n",
    "    #msg.attach(body)\n",
    "    \n",
    "    context = ssl.create_default_context()\n",
    "    with smtplib.SMTP_SSL(smtp_server, port, context=context) as server:\n",
    "        server.login(sender_email, password)\n",
    "        server.sendmail(sender_email, receiver_email, msg.as_string())   \n",
    "        server.quit()     \n",
    "    print(\"성공적으로 메일 발송\")\n",
    "        \n",
    "def send_telegram(message):\n",
    "    bot.sendMessage(chat_id=telegram_chat_id, text=message)\n",
    "    \n",
    "def log_check(ymd, hour, minute):\n",
    "    f = open('emailbox-short.txt', 'r')\n",
    "\n",
    "    for line in f:\n",
    "        result = re.search('\\d \\d\\d:\\d\\d:\\d\\d \\d{4}|\\d+ \\w+ \\d{4} \\d\\d:\\d\\d:\\d\\d', line)\n",
    "        if result:\n",
    "            send_email(\"로그에러발생\", \"error 발생\")\n",
    "            send_telegram(\"이메일을 확인하세요\")\n",
    "            break\n",
    "                \n",
    "while True:\n",
    "    now = pd.to_datetime(\"2008-01-04 11:11:03\")\n",
    "    ymd = now.strftime('%Y-%m-%d')\n",
    "    hour = now.hour\n",
    "    minute = now.minute\n",
    "    print(\"log checked at \", now)\n",
    "    log_check(ymd, hour, minute)\n",
    "    time.sleep(5)\n",
    "    break"
   ]
  },
  {
   "cell_type": "code",
   "execution_count": null,
   "id": "6c7cae82",
   "metadata": {},
   "outputs": [],
   "source": []
  }
 ],
 "metadata": {
  "kernelspec": {
   "display_name": "Python 3 (ipykernel)",
   "language": "python",
   "name": "python3"
  },
  "language_info": {
   "codemirror_mode": {
    "name": "ipython",
    "version": 3
   },
   "file_extension": ".py",
   "mimetype": "text/x-python",
   "name": "python",
   "nbconvert_exporter": "python",
   "pygments_lexer": "ipython3",
   "version": "3.9.12"
  }
 },
 "nbformat": 4,
 "nbformat_minor": 5
}
