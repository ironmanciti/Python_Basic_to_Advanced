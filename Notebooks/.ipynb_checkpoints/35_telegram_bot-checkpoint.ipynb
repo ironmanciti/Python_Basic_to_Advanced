{
 "cells": [
  {
   "cell_type": "markdown",
   "id": "b02e14ff",
   "metadata": {},
   "source": [
    "# 35. Telegram Bot 연결\n",
    "\n",
    "- 사전에 본인의 mobile 기기에 telegram 설치하여 token을 얻는다."
   ]
  },
  {
   "cell_type": "code",
   "execution_count": 7,
   "id": "39cace1e",
   "metadata": {},
   "outputs": [],
   "source": [
    "#pip install python-telegram-bot"
   ]
  },
  {
   "cell_type": "code",
   "execution_count": 8,
   "id": "215eee0a",
   "metadata": {},
   "outputs": [
    {
     "data": {
      "text/plain": [
       "<telegram.message.Message at 0x24f5a5ed260>"
      ]
     },
     "execution_count": 8,
     "metadata": {},
     "output_type": "execute_result"
    }
   ],
   "source": [
    "import telegram\n",
    " \n",
    "telegram_token = '5457763237:AAGGZzkNU0-Y9mXe0WQ0_Rx3v26ntqt6CB8'\n",
    " \n",
    "telegram_chat_id = 5304618195\n",
    "\n",
    "bot = telegram.Bot(token = telegram_token)\n",
    "\n",
    "bot.sendMessage(chat_id=telegram_chat_id, text=\"테스트 메시지 보내기\")"
   ]
  },
  {
   "cell_type": "markdown",
   "id": "1eb6207c",
   "metadata": {},
   "source": [
    "- 메시지 전송"
   ]
  },
  {
   "cell_type": "code",
   "execution_count": 10,
   "id": "03e4db1c",
   "metadata": {},
   "outputs": [],
   "source": [
    "messages = ['좋은 아침 !!', '코로나가 조심하세요 ^^', '저녁에 봐요 ...']\n",
    "for msg in messages:\n",
    "    bot.sendMessage(chat_id=telegram_chat_id, text=msg)"
   ]
  },
  {
   "cell_type": "markdown",
   "id": "11f049fd",
   "metadata": {},
   "source": [
    "- telegram에서 메시지 받기"
   ]
  },
  {
   "cell_type": "code",
   "execution_count": 20,
   "id": "80a120f2",
   "metadata": {},
   "outputs": [
    {
     "data": {
      "text/plain": [
       "[<telegram.update.Update at 0x24f58868280>,\n",
       " <telegram.update.Update at 0x24f588681c0>]"
      ]
     },
     "execution_count": 20,
     "metadata": {},
     "output_type": "execute_result"
    }
   ],
   "source": [
    "updates = bot.getUpdates()\n",
    "updates"
   ]
  },
  {
   "cell_type": "code",
   "execution_count": 21,
   "id": "be322692",
   "metadata": {},
   "outputs": [
    {
     "name": "stdout",
     "output_type": "stream",
     "text": [
      "그래요. 이따 ㅁ하요\n",
      "이따봐요\n"
     ]
    }
   ],
   "source": [
    "for u in updates:\n",
    "    print(u.message.text)"
   ]
  },
  {
   "cell_type": "code",
   "execution_count": null,
   "id": "440db7a0",
   "metadata": {},
   "outputs": [],
   "source": []
  }
 ],
 "metadata": {
  "kernelspec": {
   "display_name": "Python 3 (ipykernel)",
   "language": "python",
   "name": "python3"
  },
  "language_info": {
   "codemirror_mode": {
    "name": "ipython",
    "version": 3
   },
   "file_extension": ".py",
   "mimetype": "text/x-python",
   "name": "python",
   "nbconvert_exporter": "python",
   "pygments_lexer": "ipython3",
   "version": "3.9.12"
  }
 },
 "nbformat": 4,
 "nbformat_minor": 5
}
