{
 "cells": [
  {
   "cell_type": "code",
   "execution_count": 1,
   "id": "412a1a4c",
   "metadata": {},
   "outputs": [],
   "source": [
    "import nbformat as nbf\n",
    "import os\n",
    "import json\n",
    "\n",
    "notebooks = [file for file in os.listdir(os.getcwd())  if file.endswith('.ipynb') and \n",
    "                    file not in ['Merging_Notebooks.ipynb', 'empty_page.ipynb', 'Untitled.ipynb',  'Template_Creation.ipynb'] and\n",
    "                    file.startswith('combine') != True and  file.startswith('template_') != True and\n",
    "                    file.startswith('문제풀이') != True]\n",
    "\n",
    "for note in notebooks:\n",
    "    ntbk = nbf.read(note, nbf.NO_CONVERT)\n",
    "    new_ntbk = ntbk\n",
    "    new_ntbk.cells = [cell for cell in ntbk.cells if cell.cell_type == \"markdown\"]\n",
    "    nbf.write(new_ntbk, \"template_\" + note, version=nbf.NO_CONVERT)"
   ]
  },
  {
   "cell_type": "code",
   "execution_count": null,
   "id": "0e13604d",
   "metadata": {},
   "outputs": [],
   "source": []
  }
 ],
 "metadata": {
  "kernelspec": {
   "display_name": "Python 3 (ipykernel)",
   "language": "python",
   "name": "python3"
  },
  "language_info": {
   "codemirror_mode": {
    "name": "ipython",
    "version": 3
   },
   "file_extension": ".py",
   "mimetype": "text/x-python",
   "name": "python",
   "nbconvert_exporter": "python",
   "pygments_lexer": "ipython3",
   "version": "3.9.12"
  }
 },
 "nbformat": 4,
 "nbformat_minor": 5
}
