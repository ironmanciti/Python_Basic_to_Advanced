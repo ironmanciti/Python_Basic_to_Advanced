{
 "cells": [
  {
   "cell_type": "markdown",
   "metadata": {},
   "source": [
    "# 31. Argument Parse\n",
    "\n",
    "- sys.argv 를 어떻게 파싱할지 파악  \n",
    "\n",
    "- 도움말과 사용법 메시지를 자동 생성하고, 사용자가 프로그램에 잘못된 인자를 줄 때 에러를 발생시킵니다.  \n",
    "\n",
    "\n",
    "- 첫 번째 단계 : ArgumentParser 객체를 생성\n",
    "\n",
    "- 인자 추가 : add_argument method  \n",
    "\n",
    "- parse_known_args : 명령행 인자 중 일부만 파싱하고 나머지 인자를 다른 스크립트 나 프로그램에 전달"
   ]
  },
  {
   "cell_type": "code",
   "execution_count": 1,
   "metadata": {},
   "outputs": [
    {
     "name": "stdout",
     "output_type": "stream",
     "text": [
      "Overwriting argument_parse.py\n"
     ]
    }
   ],
   "source": [
    "%%writefile argument_parse.py\n",
    "import sys\n",
    "import argparse\n",
    "\n",
    "def _parse_arguments(argv):\n",
    "    parser = argparse.ArgumentParser()\n",
    "    parser.add_argument(\n",
    "        \"--from_date\",\n",
    "        help=\"starting date\",  # python boilerplate.py -h/--help\n",
    "        type=str,\n",
    "        default=\"2020.01.01\"\n",
    "    )\n",
    "    parser.add_argument(\n",
    "        \"--to_date\",\n",
    "        help=\"end date\",\n",
    "        type=str,\n",
    "        default=\"2020.12.31\"\n",
    "    )\n",
    "\n",
    "    return parser.parse_known_args(argv)\n",
    "\n",
    "def hello():\n",
    "    print('Hello world to Python programming')\n",
    "\n",
    "if __name__ == '__main__':\n",
    "#     print(sys.argv)\n",
    "#     print(sys.argv[1:])\n",
    "    \n",
    "    args = _parse_arguments(sys.argv[1:])[0]\n",
    "    print(args)\n",
    "    print(args.from_date, args.to_date)\n",
    "    \n",
    "    hello()"
   ]
  },
  {
   "cell_type": "code",
   "execution_count": 2,
   "metadata": {},
   "outputs": [
    {
     "name": "stdout",
     "output_type": "stream",
     "text": [
      "Namespace(from_date='2021.03.01', to_date='2021.03.31')\n",
      "2021.03.01 2021.03.31\n",
      "Hello world to Python programming\n"
     ]
    }
   ],
   "source": [
    "%run argument_parse.py --from_date 2021.03.01 --to_date 2021.03.31"
   ]
  },
  {
   "cell_type": "code",
   "execution_count": 3,
   "metadata": {},
   "outputs": [
    {
     "name": "stdout",
     "output_type": "stream",
     "text": [
      "usage: argument_parse.py [-h] [--from_date FROM_DATE] [--to_date TO_DATE]\n",
      "\n",
      "optional arguments:\n",
      "  -h, --help            show this help message and exit\n",
      "  --from_date FROM_DATE\n",
      "                        starting date\n",
      "  --to_date TO_DATE     end date\n"
     ]
    }
   ],
   "source": [
    "%run argument_parse.py --help"
   ]
  },
  {
   "cell_type": "code",
   "execution_count": null,
   "metadata": {},
   "outputs": [],
   "source": []
  },
  {
   "cell_type": "code",
   "execution_count": null,
   "metadata": {},
   "outputs": [],
   "source": []
  }
 ],
 "metadata": {
  "kernelspec": {
   "display_name": "Python 3",
   "language": "python",
   "name": "python3"
  },
  "language_info": {
   "codemirror_mode": {
    "name": "ipython",
    "version": 3
   },
   "file_extension": ".py",
   "mimetype": "text/x-python",
   "name": "python",
   "nbconvert_exporter": "python",
   "pygments_lexer": "ipython3",
   "version": "3.9.7"
  }
 },
 "nbformat": 4,
 "nbformat_minor": 4
}
