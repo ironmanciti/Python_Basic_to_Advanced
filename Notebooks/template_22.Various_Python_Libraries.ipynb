{
 "cells": [
  {
   "cell_type": "markdown",
   "metadata": {},
   "source": [
    "# 22. 자주 사용하는 Python Library 소개"
   ]
  },
  {
   "cell_type": "markdown",
   "metadata": {},
   "source": [
    "## os\n",
    "\n",
    "- 환경 변수나 디렉터리, 파일 등의 OS 자원을 제어할 수 있게 해주는 모듈이다"
   ]
  },
  {
   "cell_type": "markdown",
   "metadata": {},
   "source": [
    "- 환경 변수 읽어오기"
   ]
  },
  {
   "cell_type": "markdown",
   "metadata": {},
   "source": [
    "- 현재 workding 디랙토리"
   ]
  },
  {
   "cell_type": "markdown",
   "metadata": {},
   "source": [
    "- working 디렉토리 변경"
   ]
  },
  {
   "cell_type": "markdown",
   "metadata": {},
   "source": [
    "- 현재 디렉토리의 파일 목록"
   ]
  },
  {
   "cell_type": "markdown",
   "metadata": {},
   "source": [
    "- 다시 이전 directory로 경로 변경"
   ]
  },
  {
   "cell_type": "markdown",
   "metadata": {},
   "source": [
    "## sys.path\n",
    "\n",
    "- 파이썬 모듈들이 저장되어 있는 위치를 나타낸다. 즉 이 위치에 있는 파이썬 모듈은 경로에 상관없이 어디에서나 불러올 수 있다."
   ]
  },
  {
   "cell_type": "markdown",
   "metadata": {},
   "source": [
    "- 상위 폴더의 파일을 import 해 본다"
   ]
  },
  {
   "cell_type": "markdown",
   "metadata": {},
   "source": [
    "- 상위 경로 추가"
   ]
  },
  {
   "cell_type": "markdown",
   "metadata": {},
   "source": [
    "- 경로 추가 후 상위 폴더의 파일 import"
   ]
  },
  {
   "cell_type": "markdown",
   "metadata": {},
   "source": [
    "## pickle"
   ]
  },
  {
   "cell_type": "markdown",
   "metadata": {},
   "source": [
    "- pickle 파일 저장"
   ]
  },
  {
   "cell_type": "markdown",
   "metadata": {},
   "source": [
    "- pickle 파일 읽기"
   ]
  },
  {
   "cell_type": "markdown",
   "metadata": {},
   "source": [
    "## time\n",
    "\n",
    "- ``time.time()``  \n",
    "    - ``UTC``(Universal Time Coordinated 협정 세계 표준시)를 사용하여 현재 시간을 실수 형태로 돌려주는 함수  \n",
    "    - 1970년 1월 1일 0시 0분 0초를 기준으로 지난 시간을 초 단위로 돌려준다\n",
    "    \n",
    "    \n",
    "- ``time.localtime``  \n",
    "    - ``time.time()``이 돌려준 실수 값을 사용해서 연도, 월, 일, 시, 분, 초, ... 의 형태로 바꾸어 주는 함수\n",
    "    \n",
    "    \n",
    "    \n",
    "- ``time.strftime``('출력할 형식 포맷 코드', ``time.localtime(time.time())``) - string from time\n",
    "\n",
    "```\n",
    "%x  날짜를 출력, 현재 시간대 기준\n",
    "%c  날짜, 요일, 시간을 출력, 현재 시간대 기준\n",
    "%Y  네 자릿수 연도\n",
    "%m  숫자 월\n",
    "%d  일\n",
    "%H  시간(24시간)\n",
    "%M  분\n",
    "%S  초\n",
    "%z  시간대\n",
    "%a  요일 줄임말\n",
    "%A  요일\n",
    "%b  월 줄임말\n",
    "%B  월\n",
    "%I  시간(12시간)\n",
    "%p  AM, PM\n",
    "```"
   ]
  },
  {
   "cell_type": "markdown",
   "metadata": {},
   "source": [
    "- 지역 시간"
   ]
  },
  {
   "cell_type": "markdown",
   "metadata": {},
   "source": [
    "- 날짜를 출력, 현재 시간대 기준"
   ]
  },
  {
   "cell_type": "markdown",
   "metadata": {},
   "source": [
    "- 날짜, 요일, 시간을 출력, 현재 시간대 기준"
   ]
  },
  {
   "cell_type": "markdown",
   "metadata": {},
   "source": [
    "- 연월일 시분초 출력"
   ]
  },
  {
   "cell_type": "markdown",
   "metadata": {},
   "source": [
    "## random\n",
    "\n",
    "- random은 난수(규칙이 없는 임의의 수)를 발생시키는 모듈이다"
   ]
  },
  {
   "cell_type": "markdown",
   "metadata": {},
   "source": [
    "- random 정수 발생"
   ]
  },
  {
   "cell_type": "markdown",
   "metadata": {},
   "source": [
    "## Pillow\n",
    "\n",
    "- ``PIL(Python Image Library)`` 은 ``Pillow`` 의 old name  \n",
    "\n",
    "\n",
    "    - 설치는 pip install pillow  \n",
    "    - 사용은 import PIL"
   ]
  },
  {
   "cell_type": "markdown",
   "metadata": {},
   "source": [
    "### image 를 읽어서 display \n",
    "\n",
    "- ``Image.open()`` : image file open\n",
    "    \n",
    "\n",
    "- internet 상의 image 는 byte code 로 전송되므로 ``BytesIO`` 를 이용하여 binary 로 변환  "
   ]
  },
  {
   "cell_type": "markdown",
   "metadata": {},
   "source": [
    "- 인터넷상의 임의의 이미지 가져오기"
   ]
  },
  {
   "cell_type": "markdown",
   "metadata": {},
   "source": [
    "- 저장되어 있는 이미지 불러오기"
   ]
  },
  {
   "cell_type": "markdown",
   "metadata": {},
   "source": [
    "- 이미지 크기, mode 출력"
   ]
  },
  {
   "cell_type": "markdown",
   "metadata": {},
   "source": [
    "- 위의 두가지 경우를 하나의 함수로 통합"
   ]
  },
  {
   "cell_type": "markdown",
   "metadata": {},
   "source": [
    "### PIL 에 사전 정의된 Image Filter 를 이용하여 image 변환 \n",
    "\n",
    "- ImageFilter.BLUR   \n",
    "- CONTOUR  \n",
    "- DETAIL  \n",
    "- EDGE_ENHANCE  \n",
    "- EDGE_ENHANCE_MORE  \n",
    "- EMBOSS  \n",
    "- FIND_EDGES  \n",
    "- SHARPEN  \n",
    "- SMOOTH  \n",
    "- SMOOTH_MORE  "
   ]
  },
  {
   "cell_type": "markdown",
   "metadata": {},
   "source": [
    "- 사진 흐릿하게 만들기"
   ]
  },
  {
   "cell_type": "markdown",
   "metadata": {},
   "source": [
    "- 사진 윤곽선"
   ]
  },
  {
   "cell_type": "markdown",
   "metadata": {},
   "source": [
    "- 엠보싱 효과"
   ]
  },
  {
   "cell_type": "markdown",
   "metadata": {},
   "source": [
    "- 흑백으로 변환"
   ]
  },
  {
   "cell_type": "markdown",
   "metadata": {},
   "source": [
    "- image 회전"
   ]
  },
  {
   "cell_type": "markdown",
   "metadata": {},
   "source": [
    "### PIL 을 이용한 image 자르기\n",
    "\n",
    "```img.crop((left, upper, right, lower))```  - left/upper corner, right/lower corner  "
   ]
  },
  {
   "cell_type": "markdown",
   "metadata": {},
   "source": [
    "- image 저장"
   ]
  },
  {
   "cell_type": "markdown",
   "metadata": {},
   "source": [
    "# Python 을 이용하여 zipfile handling 하는 방법\n",
    "\n",
    "### zipfile\n",
    "- zip archive object 를 생성하고 **개별 file**을 add\n",
    "\n",
    "### shutil\n",
    "- **전체 directory**를 빠르게 compress"
   ]
  },
  {
   "cell_type": "markdown",
   "metadata": {},
   "source": [
    "- sample file 2 개 생성"
   ]
  },
  {
   "cell_type": "markdown",
   "metadata": {},
   "source": [
    "- empty zipfile object 생성"
   ]
  },
  {
   "cell_type": "markdown",
   "metadata": {},
   "source": [
    "- empty object 에 압축할 file 추가"
   ]
  },
  {
   "cell_type": "markdown",
   "metadata": {},
   "source": [
    "## Extract from zipfile"
   ]
  },
  {
   "cell_type": "markdown",
   "metadata": {},
   "source": [
    "- 읽어들일 zipfile object 생성"
   ]
  },
  {
   "cell_type": "markdown",
   "metadata": {},
   "source": [
    "- 새로운 directory 에 모든 file 압축 해제"
   ]
  },
  {
   "cell_type": "markdown",
   "metadata": {},
   "source": [
    "- 개별 file 단위로 압축 해제 (file name, 저장 directory)"
   ]
  },
  {
   "cell_type": "markdown",
   "metadata": {},
   "source": [
    "## shutil Library"
   ]
  },
  {
   "cell_type": "markdown",
   "metadata": {},
   "source": [
    "- make_archive (압축 file name, format, source directory)"
   ]
  },
  {
   "cell_type": "markdown",
   "metadata": {},
   "source": [
    "- archived file 압축 해제 : unpack(압축해제할 filename, target directory, format)"
   ]
  }
 ],
 "metadata": {
  "kernelspec": {
   "display_name": "Python 3 (ipykernel)",
   "language": "python",
   "name": "python3"
  },
  "language_info": {
   "codemirror_mode": {
    "name": "ipython",
    "version": 3
   },
   "file_extension": ".py",
   "mimetype": "text/x-python",
   "name": "python",
   "nbconvert_exporter": "python",
   "pygments_lexer": "ipython3",
   "version": "3.9.12"
  }
 },
 "nbformat": 4,
 "nbformat_minor": 4
}
