{
 "cells": [
  {
   "cell_type": "markdown",
   "metadata": {},
   "source": [
    "# 13. Module\n",
    "\n",
    "#### 미리 만들어 놓은 Python 프로그램들을 모듈(Module) 혹은 package 라고 한다.\n",
    "\n",
    "#### module 은 python 함수를 모아 놓은 것이다.\n",
    "\n",
    "#### module 은 import 명령어로 불러온다.\n",
    "\n",
    "#### 관련된 기능의 module  여러개를 한 덩어리로 묶은 것을 package 라고 부른다. package 는 기본 Python 3.7 에 포함되어 있지 않고 필요할 때 추가로 설치해야 한다.\n",
    "\n",
    "#### 별도 설치가 필요 없는 Python 모듈을 built-in module (내장모듈) 이라고 부른다.\n",
    "\n",
    "#### 내장 module 의 예:\n",
    "    math, random\n",
    "    \n",
    "#### import 문 문법:\n",
    "    import <모듈명>\n",
    "    from <모듈명> import <함수명, *>\n",
    "    from <모듈명> import <함수명, *> as <별명>"
   ]
  },
  {
   "cell_type": "markdown",
   "metadata": {},
   "source": [
    "## 13-1. 전체 module 불러오기"
   ]
  },
  {
   "cell_type": "markdown",
   "metadata": {},
   "source": [
    "### module 내에 포함된 함수들"
   ]
  },
  {
   "cell_type": "markdown",
   "metadata": {},
   "source": [
    "### 전체 module * 로 불러오기"
   ]
  },
  {
   "cell_type": "markdown",
   "metadata": {},
   "source": [
    "### 개별 함수 불러오기"
   ]
  },
  {
   "cell_type": "markdown",
   "metadata": {},
   "source": [
    "- 불러온 함수(모듈) 별명 붙이기"
   ]
  },
  {
   "cell_type": "markdown",
   "metadata": {},
   "source": [
    "- collections module 에서 Counter 함수 불러오기"
   ]
  },
  {
   "cell_type": "markdown",
   "metadata": {
    "collapsed": true
   },
   "source": [
    "### 사용자가 작성한 module 불러오기\n",
    "\n",
    "- module_test.py file 내의 circle 함수 call\n",
    "\n",
    "```\n",
    "    def circle(pi, radius):\n",
    "        print(\"pi = \", pi)\n",
    "        print(\"반지름 = \", radius)\n",
    "        return pi * radius ** 2\n",
    "\n",
    "    def calculate_volume(length, width, depth):\n",
    "        return length * width * depth\n",
    "```"
   ]
  },
  {
   "cell_type": "markdown",
   "metadata": {},
   "source": [
    "### 상위 folder 의 module 불러오기\n",
    "\n",
    "- 상위 folder 의 boilerplate.py 파일\n",
    "\n",
    "```\n",
    "import sys\n",
    "\n",
    "def hello():\n",
    "    print('Hello Python')\n",
    "\n",
    "if __name__ == '__main__':\n",
    "    hello()\n",
    "    print(sys.argv)\n",
    "    print(sys.argv[0])\n",
    "    print(sys.argv[1])\n",
    "```"
   ]
  },
  {
   "cell_type": "markdown",
   "metadata": {},
   "source": [
    "- 상위 경로 추가"
   ]
  },
  {
   "cell_type": "markdown",
   "metadata": {},
   "source": [
    "##  연습문제"
   ]
  },
  {
   "cell_type": "markdown",
   "metadata": {},
   "source": [
    "### boilerplate.py 프로그램을 terminal 에서 실행\n",
    "\n",
    "- sys.argv 파라미터를 출력하여 내용 이해"
   ]
  }
 ],
 "metadata": {
  "kernelspec": {
   "display_name": "Python 3 (ipykernel)",
   "language": "python",
   "name": "python3"
  },
  "language_info": {
   "codemirror_mode": {
    "name": "ipython",
    "version": 3
   },
   "file_extension": ".py",
   "mimetype": "text/x-python",
   "name": "python",
   "nbconvert_exporter": "python",
   "pygments_lexer": "ipython3",
   "version": "3.9.7"
  }
 },
 "nbformat": 4,
 "nbformat_minor": 2
}
