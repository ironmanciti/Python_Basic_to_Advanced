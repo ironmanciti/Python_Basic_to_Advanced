{
 "cells": [
  {
   "cell_type": "markdown",
   "metadata": {},
   "source": [
    "# Appendix 3. Memoization (메모이제이션)\n",
    "\n",
    "- 컴퓨터 프로그램이 동일한 계산을 반복해야 할 때, 이전에 계산한 값을 메모리에 저장함으로써 동일한 계산의 반복 수행을 제거하여 프로그램 실행 속도를 빠르게 하는 기술. (caching 이라고도 부른다.)\n",
    "\n",
    "- Memoization 이 필요한 가장 좋은 예는 피보나치 수열의 점화식(漸化式, Recurrence relation) 이다.\n",
    "\n",
    "    1, 1, 2, 3, 5, 8, 13, 21, 34 .......\n",
    "\n",
    "$$ F(n) := \\begin{cases}0 & \\quad \\text{if n = 0;}\\\\1 & \\quad \\text{if n = 1;} \\\\ F(n-1) + F(n-2) & \\quad \\text{if n > 1.} \\end{cases}$$"
   ]
  },
  {
   "cell_type": "code",
   "execution_count": 1,
   "metadata": {},
   "outputs": [],
   "source": [
    "def fib(n):\n",
    "    if n == 0:\n",
    "        return 0\n",
    "    if n == 1:\n",
    "        return 1\n",
    "    return fib(n - 1) + fib(n - 2)"
   ]
  },
  {
   "cell_type": "markdown",
   "metadata": {},
   "source": [
    "fib(64)는 재귀 호출을 18,446,744,073,709,551,615 $( 2^{64} – 1 )$ 회 실행해야 한다. 이 알고리듬은 매우 간결하고 깔끔한 코드로 보이지만, 불필요한 중복 계산을 너무 많이 한다. 예를 들어 64번째 항을 구하기 위해서는 63번째와 62번째 항을 더해야 하므로 결국 62번째는 2번 계산된다. 즉 1에 가까워질수록 중복 계산횟수가 기하급수적으로 늘어나는 것이다.\n",
    "\n",
    "<img src=\"memoization.png\" width=\"600\">"
   ]
  },
  {
   "cell_type": "markdown",
   "metadata": {},
   "source": [
    "### memoization 기법\n",
    "\n",
    "다음 코드는 불필요한 계산을 피하기 위해서 한 번 계산한 결과를 사전에 저장했다가, 계산 결과가 있으면 바로 꺼내서 보여주는 식이다. 이러한 성능 개선 방식을 캐싱 또는 메모이제이션이라 한다."
   ]
  },
  {
   "cell_type": "code",
   "execution_count": 2,
   "metadata": {},
   "outputs": [],
   "source": [
    "memo = dict()\n",
    "\n",
    "def fib2(n):\n",
    "    if n in memo:\n",
    "        return memo[n]\n",
    "    \n",
    "    if n in (0, 1):\n",
    "        memo[n] = n\n",
    "        return n\n",
    "    \n",
    "    result = fib2(n - 1) + fib2(n - 2)\n",
    "    \n",
    "    memo[n] = result\n",
    "    \n",
    "    return result"
   ]
  },
  {
   "cell_type": "code",
   "execution_count": 3,
   "metadata": {},
   "outputs": [
    {
     "name": "stdout",
     "output_type": "stream",
     "text": [
      "10610209857723\n"
     ]
    }
   ],
   "source": [
    "print(fib2(64))"
   ]
  },
  {
   "cell_type": "markdown",
   "metadata": {},
   "source": [
    "한 번 계산한 결과를 재계산 할 필요가 없고, 그것이 재귀 호출을 막는 방식이므로 64번만 계산하면 된다. "
   ]
  },
  {
   "cell_type": "code",
   "execution_count": 4,
   "metadata": {},
   "outputs": [
    {
     "name": "stdout",
     "output_type": "stream",
     "text": [
      "616 ms ± 21 ms per loop (mean ± std. dev. of 7 runs, 1 loop each)\n"
     ]
    }
   ],
   "source": [
    "%timeit fib(32)"
   ]
  },
  {
   "cell_type": "code",
   "execution_count": 5,
   "metadata": {
    "scrolled": false
   },
   "outputs": [
    {
     "name": "stdout",
     "output_type": "stream",
     "text": [
      "80.9 ns ± 1.29 ns per loop (mean ± std. dev. of 7 runs, 10,000,000 loops each)\n"
     ]
    }
   ],
   "source": [
    "%timeit fib2(32)"
   ]
  },
  {
   "cell_type": "markdown",
   "metadata": {},
   "source": [
    "## Dynamic Programming\n",
    "\n",
    "- 어려운 문제를 여러개의 하위 문제로 쪼개고, 이 하위 문제 (subproblem) 들을 먼저 푸는 방법\n",
    "- 먼저 푼 subproblem 의 결과값을 table 에 저장하여 상위 문제에서 재사용\n",
    "\n",
    "\n",
    "- (예제) matrix 의 최단 경로 계산 문제\n",
    "    - 정수들이 저장된 nXn matrix 의 좌상단에서 우하단까지 이동한다. 단, 오른쪽이나 아래쪽으로만 이동할 수 있다.\n",
    "    - 방문한 cell 에 있는 정수값들의 합이 최소화되는 경로를 구한다.\n",
    "        - L[i, j] : (0,0) 에서 (i, j) 까지 이르는 최소 합\n",
    "    - 점화식 도출을 위한 하위문제 도출:\n",
    "        - (i, j) 에 도달하기 위해서는 반드시 (i-1, j) 혹은 (i, j-1) 을 거쳐야만 한다.\n",
    "        - i = 0, j = 0 는 L[0, 0]\n",
    "        - i = 0 이면 L[0, j-1] + m_ij\n",
    "        - j = 0 이면 L[i-1, 0] + m_ij\n",
    "                                                            matrix\n",
    "<img src=\"matrix.png\" width=\"150\">\n",
    "\n",
    "                                                            minimum path\n",
    "<img src=\"matrix_path.png\" width=\"150\">"
   ]
  },
  {
   "cell_type": "code",
   "execution_count": 6,
   "metadata": {},
   "outputs": [
    {
     "name": "stdout",
     "output_type": "stream",
     "text": [
      "4\n",
      "[6, 7, 12, 5]\n",
      "[5, 3, 11, 18]\n",
      "[7, 17, 3, 3]\n",
      "[8, 10, 14, 9]\n"
     ]
    }
   ],
   "source": [
    "import random\n",
    "\n",
    "mat = [[6, 7, 12, 5], [5, 3, 11, 18], [7, 17, 3, 3], [8, 10, 14, 9]]\n",
    "#mat = [[random.choice(range(10)) for _  in range(18)] for i in range(18)]\n",
    "\n",
    "m = len(mat)\n",
    "print(m)\n",
    "\n",
    "for i in range(m):\n",
    "    print(mat[i])"
   ]
  },
  {
   "cell_type": "markdown",
   "metadata": {},
   "source": [
    "## 단순 재귀적 방법"
   ]
  },
  {
   "cell_type": "code",
   "execution_count": 7,
   "metadata": {},
   "outputs": [
    {
     "name": "stdout",
     "output_type": "stream",
     "text": [
      "12 µs ± 649 ns per loop (mean ± std. dev. of 7 runs, 100,000 loops each)\n"
     ]
    }
   ],
   "source": [
    "def matrixPath(i, j):\n",
    "    if i == 0 and j == 0:\n",
    "        return mat[i][j]\n",
    "    if j == 0:\n",
    "        return matrixPath(i-1, 0) + mat[i][0]\n",
    "    if i == 0:\n",
    "        return matrixPath(0, j-1) + mat[0][j]\n",
    "    \n",
    "    return min(matrixPath(i-1, j) + mat[i][j], matrixPath(i, j-1) + mat[i][j]) \n",
    "    \n",
    "%timeit matrixPath(m-1, m-1)"
   ]
  },
  {
   "cell_type": "markdown",
   "metadata": {},
   "source": [
    "## Dynamic Programming (Memoization)"
   ]
  },
  {
   "cell_type": "code",
   "execution_count": 8,
   "metadata": {},
   "outputs": [
    {
     "name": "stdout",
     "output_type": "stream",
     "text": [
      "[-1, -1, -1, -1]\n",
      "[-1, -1, -1, -1]\n",
      "[-1, -1, -1, -1]\n",
      "[-1, -1, -1, -1]\n"
     ]
    }
   ],
   "source": [
    "memo = [[] for _ in range(m)]\n",
    "\n",
    "for i in range(m):\n",
    "    for j in range(len(mat[i])):\n",
    "        memo[i].append(-1)\n",
    "        \n",
    "for i in range(m):\n",
    "    print(memo[i])"
   ]
  },
  {
   "cell_type": "code",
   "execution_count": 9,
   "metadata": {},
   "outputs": [],
   "source": [
    "def matrixPath_memo(i, j):\n",
    "    if memo[i][j] != -1:\n",
    "        return memo[i][j]\n",
    "    \n",
    "    if i == 0 and j == 0:\n",
    "        memo[i][j] = mat[i][j]\n",
    "    elif j == 0:\n",
    "        memo[i][0] = matrixPath_memo(i-1, 0) + mat[i][0]\n",
    "    elif i == 0:\n",
    "        memo[0][j] = matrixPath_memo(0, j-1) + mat[0][j]\n",
    "    else:\n",
    "        memo[i][j] = min(matrixPath_memo(i-1, j) + mat[i][j], \n",
    "                                   matrixPath_memo(i, j-1) + mat[i][j]) \n",
    "        \n",
    "    return memo[i][j]"
   ]
  },
  {
   "cell_type": "code",
   "execution_count": 10,
   "metadata": {},
   "outputs": [
    {
     "name": "stdout",
     "output_type": "stream",
     "text": [
      "149 ns ± 3.87 ns per loop (mean ± std. dev. of 7 runs, 10,000,000 loops each)\n"
     ]
    }
   ],
   "source": [
    "%timeit matrixPath_memo(m-1, m-1)"
   ]
  },
  {
   "cell_type": "code",
   "execution_count": 11,
   "metadata": {},
   "outputs": [
    {
     "name": "stdout",
     "output_type": "stream",
     "text": [
      "[6, 13, 25, 30]\n",
      "[11, 14, 25, 43]\n",
      "[18, 31, 28, 31]\n",
      "[26, 36, 42, 40]\n"
     ]
    }
   ],
   "source": [
    "for i in range(m):\n",
    "    print(memo[i])"
   ]
  },
  {
   "cell_type": "code",
   "execution_count": null,
   "metadata": {},
   "outputs": [],
   "source": []
  }
 ],
 "metadata": {
  "kernelspec": {
   "display_name": "Python 3 (ipykernel)",
   "language": "python",
   "name": "python3"
  },
  "language_info": {
   "codemirror_mode": {
    "name": "ipython",
    "version": 3
   },
   "file_extension": ".py",
   "mimetype": "text/x-python",
   "name": "python",
   "nbconvert_exporter": "python",
   "pygments_lexer": "ipython3",
   "version": "3.9.12"
  }
 },
 "nbformat": 4,
 "nbformat_minor": 2
}
