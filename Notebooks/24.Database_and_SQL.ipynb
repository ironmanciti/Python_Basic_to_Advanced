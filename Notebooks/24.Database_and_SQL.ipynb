{
 "cells": [
  {
   "cell_type": "markdown",
   "metadata": {},
   "source": [
    "# 24. Database 와 SQL(Structured Query Language, 구조화 질의어) 사용하기\n",
    "\n",
    "- ``emailbox-short.txt`` FILE 을 이용하여 sqlite db 생성  \n",
    "\n",
    "\n",
    "- basic ``CRUD`` (Create, Retrieve, Update, Delete) operation 을 Python 과 SQL 을 이용하여 수행"
   ]
  },
  {
   "cell_type": "markdown",
   "metadata": {},
   "source": [
    "<p style=\"text-align: center;\">Relational Database 구조 (schema)</p>\n",
    "\n",
    "<img src=\"https://objectivity.com/wp-content/uploads/schema1.png\" width=\"600\"/>"
   ]
  },
  {
   "cell_type": "markdown",
   "metadata": {},
   "source": [
    "## 기본 SQL 문법\n",
    "\n",
    "### 테이블 생성 (CREATE)\n",
    "\n",
    "- CREATE TABLE 테이블명 (필드명 자료형, ...)\n",
    "\n",
    "### 데이터조회하기 (SELECT)\n",
    "\n",
    "- SELECT * FROM 테이블명\n",
    "- SELECT 열명1, 열명2 FROM 테이블명\n",
    "\n",
    "### 테이블 구조 참조하기 (DESC)\n",
    "\n",
    "- DESC 테이블명\n",
    "\n",
    "### 검색 조건 지정하기 (WHERE)\n",
    "\n",
    "- SELECT 열1, 열2 FROM 테이블명 WHERE 조건식\n",
    "\n",
    "### 레코드 추가(INSERT)\n",
    "\n",
    "- INSERT INTO 테이블명(필드명, ...)  VALUES (값, ...)\n",
    "\n",
    "### 레코드 삭제(DELETE)\n",
    "\n",
    "- DELETE FROM 테이블명 WHERE 조건\n",
    "\n",
    "### 데이터 변경(UPDATE)\n",
    "\n",
    "- UPDATE 테이블명 SET (필드명=값, ...) WHERE 조건"
   ]
  },
  {
   "cell_type": "markdown",
   "metadata": {},
   "source": [
    "## db 연결 및 cursor 생성\n",
    "\n",
    "### connection methods\n",
    "\n",
    "- connect( ) 를 이용하여 SQLite database 와의 connection object 생성\n",
    "\n",
    "\n",
    "- cursor( ) - 이 connection 을 이용한 cursor object 를 반환. cursor 는 수행할 SQL 문의 단위가 된다.\n",
    "\n",
    "\n",
    "- commit( ) - database 에 transaction 반영 \n",
    "\n",
    "\n",
    "- rollback( ) - transaction 의 starting point 로 되돌아감 \n",
    "\n",
    "\n",
    "- close( ) - database 와의 연결을 종료\n",
    "\n",
    "### cursor methods\n",
    "\n",
    "- execute( ) - string 으로 sql 문장 수행 \n",
    "\n",
    "\n",
    "- executemany( ) - tuple 의 list 로 여러개 sql 일괄 수행\n",
    "\n",
    "\n",
    "- fetchone( ) - query result set 에서 다음 row 를 fetch  \n",
    "\n",
    "\n",
    "- fetchall( ) - query result set 의 나머지 row 를 모두 fetch  "
   ]
  },
  {
   "cell_type": "markdown",
   "metadata": {},
   "source": [
    "### sqlite 연결"
   ]
  },
  {
   "cell_type": "code",
   "execution_count": 1,
   "metadata": {},
   "outputs": [],
   "source": [
    "import sqlite3\n",
    "con = sqlite3.connect('emaildb.sqlite')\n",
    "cur = con.cursor()"
   ]
  },
  {
   "cell_type": "markdown",
   "metadata": {},
   "source": [
    "### Table 생성\n",
    "\n",
    "| column | type | \n",
    "|:---:|:---:|\n",
    "| email | TEXT | \n",
    "| count  | INTEGER |  "
   ]
  },
  {
   "cell_type": "code",
   "execution_count": 2,
   "metadata": {},
   "outputs": [
    {
     "name": "stdout",
     "output_type": "stream",
     "text": [
      "table created successfully\n"
     ]
    }
   ],
   "source": [
    "try:        \n",
    "    cur.execute(\"DROP TABLE IF EXISTS Counts\")\n",
    "    cur.execute(\"CREATE TABLE Counts (email TEXT, count INTEGER)\")\n",
    "    print ('table created successfully')\n",
    "except Exception as e:\n",
    "    print ('error in operation, ', e)\n",
    "    con.rollback()\n",
    "    con.close()"
   ]
  },
  {
   "cell_type": "markdown",
   "metadata": {},
   "source": [
    "- `From: ` 으로 시작하는 record 에서 email id 를 추출하여 db 에 건수 누적 \n",
    "\n",
    "- SQL 문에서 `?` 는 placeholder 를 의미. 여러개가 올 수 있으므로 tuple 로 mapping 시킨다"
   ]
  },
  {
   "cell_type": "code",
   "execution_count": 3,
   "metadata": {},
   "outputs": [],
   "source": [
    "fname = 'emailbox-short.txt'\n",
    "fh = open(fname)\n",
    "\n",
    "for line in fh:\n",
    "    if not line.startswith('From: '):\n",
    "        continue\n",
    "    pieces = line.split()\n",
    "    email = pieces[1]\n",
    "    cur.execute('SELECT count FROM Counts WHERE email = ?', (email,))\n",
    "    row = cur.fetchone()\n",
    "    if row is None:\n",
    "        cur.execute('INSERT INTO Counts (email, count) VALUES (?, 1)', \n",
    "                        (email,))\n",
    "    else:\n",
    "        cur.execute('UPDATE Counts SET count = count + 1 WHERE email = ?', \n",
    "                        (email,))\n",
    "        \n",
    "    con.commit()"
   ]
  },
  {
   "cell_type": "markdown",
   "metadata": {},
   "source": [
    "### 입력된 data 확인"
   ]
  },
  {
   "cell_type": "markdown",
   "metadata": {},
   "source": [
    "- 한개의 data fetch"
   ]
  },
  {
   "cell_type": "code",
   "execution_count": 4,
   "metadata": {},
   "outputs": [
    {
     "data": {
      "text/plain": [
       "('stephen.marquard@uct.ac.za', 2)"
      ]
     },
     "execution_count": 4,
     "metadata": {},
     "output_type": "execute_result"
    }
   ],
   "source": [
    "cur.execute('SELECT email, count FROM Counts')\n",
    "cur.fetchone()"
   ]
  },
  {
   "cell_type": "code",
   "execution_count": 5,
   "metadata": {},
   "outputs": [
    {
     "data": {
      "text/plain": [
       "('louis@media.berkeley.edu', 3)"
      ]
     },
     "execution_count": 5,
     "metadata": {},
     "output_type": "execute_result"
    }
   ],
   "source": [
    "cur.fetchone()"
   ]
  },
  {
   "cell_type": "markdown",
   "metadata": {},
   "source": [
    "- 전체 data fetch"
   ]
  },
  {
   "cell_type": "code",
   "execution_count": 6,
   "metadata": {},
   "outputs": [
    {
     "data": {
      "text/plain": [
       "[('stephen.marquard@uct.ac.za', 2),\n",
       " ('louis@media.berkeley.edu', 3),\n",
       " ('zqian@umich.edu', 4),\n",
       " ('rjlowe@iupui.edu', 2),\n",
       " ('cwen@iupui.edu', 5),\n",
       " ('gsilver@umich.edu', 3),\n",
       " ('wagnermr@iupui.edu', 1),\n",
       " ('antranig@caret.cam.ac.uk', 1),\n",
       " ('gopal.ramasammycook@gmail.com', 1),\n",
       " ('david.horwitz@uct.ac.za', 4),\n",
       " ('ray@media.berkeley.edu', 1)]"
      ]
     },
     "execution_count": 6,
     "metadata": {},
     "output_type": "execute_result"
    }
   ],
   "source": [
    "cur.execute('SELECT email, count FROM Counts')\n",
    "cur.fetchall()"
   ]
  },
  {
   "cell_type": "markdown",
   "metadata": {},
   "source": [
    "- 10 개의 record를 내림 차순으로 정렬하여 조회"
   ]
  },
  {
   "cell_type": "code",
   "execution_count": 7,
   "metadata": {},
   "outputs": [
    {
     "name": "stdout",
     "output_type": "stream",
     "text": [
      "cwen@iupui.edu 5\n",
      "zqian@umich.edu 4\n",
      "david.horwitz@uct.ac.za 4\n",
      "louis@media.berkeley.edu 3\n",
      "gsilver@umich.edu 3\n",
      "stephen.marquard@uct.ac.za 2\n",
      "rjlowe@iupui.edu 2\n",
      "wagnermr@iupui.edu 1\n",
      "antranig@caret.cam.ac.uk 1\n",
      "gopal.ramasammycook@gmail.com 1\n"
     ]
    }
   ],
   "source": [
    "sqlstr = 'SELECT email, count FROM Counts ORDER BY count DESC LIMIT 10'\n",
    "\n",
    "for row in cur.execute(sqlstr):\n",
    "    print(row[0], row[1])"
   ]
  },
  {
   "cell_type": "markdown",
   "metadata": {},
   "source": [
    "- 한개의 record 입력"
   ]
  },
  {
   "cell_type": "code",
   "execution_count": 8,
   "metadata": {},
   "outputs": [],
   "source": [
    "sql = 'INSERT INTO Counts (email, count) VALUES (?, ?);'"
   ]
  },
  {
   "cell_type": "code",
   "execution_count": 9,
   "metadata": {},
   "outputs": [
    {
     "data": {
      "text/plain": [
       "<sqlite3.Cursor at 0x1dd55392e30>"
      ]
     },
     "execution_count": 9,
     "metadata": {},
     "output_type": "execute_result"
    }
   ],
   "source": [
    "emails=[('test1@test.com', 100), \n",
    "             ('test2@test.com', 200), \n",
    "             ('test3@test.com', 300)]\n",
    "\n",
    "cur.executemany(sql, emails)"
   ]
  },
  {
   "cell_type": "markdown",
   "metadata": {},
   "source": [
    "- 입력한 record 확인"
   ]
  },
  {
   "cell_type": "code",
   "execution_count": 10,
   "metadata": {},
   "outputs": [
    {
     "data": {
      "text/plain": [
       "[('stephen.marquard@uct.ac.za', 2),\n",
       " ('louis@media.berkeley.edu', 3),\n",
       " ('zqian@umich.edu', 4),\n",
       " ('rjlowe@iupui.edu', 2),\n",
       " ('cwen@iupui.edu', 5),\n",
       " ('gsilver@umich.edu', 3),\n",
       " ('wagnermr@iupui.edu', 1),\n",
       " ('antranig@caret.cam.ac.uk', 1),\n",
       " ('gopal.ramasammycook@gmail.com', 1),\n",
       " ('david.horwitz@uct.ac.za', 4),\n",
       " ('ray@media.berkeley.edu', 1),\n",
       " ('test1@test.com', 100),\n",
       " ('test2@test.com', 200),\n",
       " ('test3@test.com', 300)]"
      ]
     },
     "execution_count": 10,
     "metadata": {},
     "output_type": "execute_result"
    }
   ],
   "source": [
    "cur.execute('SELECT email, count FROM Counts')\n",
    "cur.fetchall()"
   ]
  },
  {
   "cell_type": "markdown",
   "metadata": {},
   "source": [
    "## 연습문제\n",
    "\n",
    "- 다음 table 을 database 로 생성  \n",
    "\n",
    "- executemany( ) 를 이용하여 A1~A3 까지의 data 를 일괄 insert\n",
    "\n",
    "- 전체를 조회  \n",
    "\n",
    "- A4 를 추가로 insert  \n",
    "\n",
    "- A3 의 나이를 59 로 변경  \n",
    "\n",
    "- A1 을 삭제  \n",
    "\n",
    "- 전체를 조회\n",
    "\n",
    "\n",
    "|학생번호| 성명 |나이 |성적|\n",
    "|:------:|:-----:|---|----|\n",
    "|A1|홍길동|20|70|\n",
    "|A2|유병길|16|80|\n",
    "|A3|김길수|29|90|\n",
    "|A4|박재만|25|86|\n",
    "\n",
    "| column | type | \n",
    "|:---:|:---:|\n",
    "| StudentID| CHAR(2) | \n",
    "| name | TEXT(20) |  \n",
    "| age| INTEGER | \n",
    "|  marks |REAL |  "
   ]
  },
  {
   "cell_type": "code",
   "execution_count": null,
   "metadata": {},
   "outputs": [],
   "source": []
  }
 ],
 "metadata": {
  "kernelspec": {
   "display_name": "Python 3",
   "language": "python",
   "name": "python3"
  },
  "language_info": {
   "codemirror_mode": {
    "name": "ipython",
    "version": 3
   },
   "file_extension": ".py",
   "mimetype": "text/x-python",
   "name": "python",
   "nbconvert_exporter": "python",
   "pygments_lexer": "ipython3",
   "version": "3.9.7"
  }
 },
 "nbformat": 4,
 "nbformat_minor": 4
}
