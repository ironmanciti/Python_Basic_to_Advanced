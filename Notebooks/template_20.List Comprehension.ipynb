{
 "cells": [
  {
   "cell_type": "markdown",
   "metadata": {},
   "source": [
    "# 20. List Comprehension (리스트 컴프리헨션)\n",
    "\n",
    "- ``list_variable = [x for x in iterable]`` 과 같이 ``list`` 내에  ``for loop`` 표현식을 사용하여 쉽게 새로운 ``list`` 를 생성할 수 있다. \n",
    "\n",
    "\n",
    "- ``list comprehension`` 을 사용하면 ``for loop`` 과 ``map``, ``filter`` 함수를 대체할 수 있다.\n",
    "\n",
    "\n",
    "- ``list comprehension`` 내에서 ``if ~ else ~`` 를 사용할 수 있다."
   ]
  },
  {
   "cell_type": "markdown",
   "metadata": {},
   "source": [
    "- list의 각 element를 제곱"
   ]
  },
  {
   "cell_type": "markdown",
   "metadata": {},
   "source": [
    "- list의 각 element를 string 연산"
   ]
  },
  {
   "cell_type": "markdown",
   "metadata": {},
   "source": [
    "- if 문 비교"
   ]
  },
  {
   "cell_type": "markdown",
   "metadata": {},
   "source": [
    "- a 가 포함된 과일명을 대문자로 바꾸기"
   ]
  },
  {
   "cell_type": "markdown",
   "metadata": {},
   "source": [
    "-1-50 까지의 홀수 list 작성 \n",
    "- for loop 과 조건문 사용"
   ]
  },
  {
   "cell_type": "markdown",
   "metadata": {},
   "source": [
    "- 위와 동일한 내용을 list comprehension 으로 구현"
   ]
  },
  {
   "cell_type": "markdown",
   "metadata": {},
   "source": [
    "### list comprehension 은 빠르다"
   ]
  },
  {
   "cell_type": "markdown",
   "metadata": {},
   "source": [
    "### map, filter 함수를 대체하는 list comprehension"
   ]
  },
  {
   "cell_type": "markdown",
   "metadata": {},
   "source": [
    "- map"
   ]
  },
  {
   "cell_type": "markdown",
   "metadata": {},
   "source": [
    "- map 대체"
   ]
  },
  {
   "cell_type": "markdown",
   "metadata": {},
   "source": [
    "- filter"
   ]
  },
  {
   "cell_type": "markdown",
   "metadata": {},
   "source": [
    "- filter 대체"
   ]
  },
  {
   "cell_type": "markdown",
   "metadata": {},
   "source": [
    "### list comprehension 내의 if\\~else\\~"
   ]
  },
  {
   "cell_type": "markdown",
   "metadata": {},
   "source": [
    "### 연습문제\n",
    "```\n",
    "1) alist = [('x', 4), ('s', 5), ('a', 4), ('t', 5), ('k', 4), ('w', 5)] 와 같이 tuple element 로 구성된 list 에서 \n",
    "   tuple 의 첫번째 element가 \"a\" 인 tuple 이 alist의 몇번째  element 인지 구하라. \n",
    "\n",
    "   - list comprehension을 사용.\n",
    "   - enumerate( ) 내장함수를 이용하여 list 를 (index, element) tuple 로 변환하여 구함 \n",
    "```"
   ]
  },
  {
   "cell_type": "markdown",
   "metadata": {},
   "source": [
    "2) 다음 file 을 읽어서 가장 빈번하게 나타나는 top 10 단어들을 list comprehension 과 sorted 함수를 이용하여 출력하라.|"
   ]
  }
 ],
 "metadata": {
  "kernelspec": {
   "display_name": "Python 3 (ipykernel)",
   "language": "python",
   "name": "python3"
  },
  "language_info": {
   "codemirror_mode": {
    "name": "ipython",
    "version": 3
   },
   "file_extension": ".py",
   "mimetype": "text/x-python",
   "name": "python",
   "nbconvert_exporter": "python",
   "pygments_lexer": "ipython3",
   "version": "3.9.7"
  }
 },
 "nbformat": 4,
 "nbformat_minor": 2
}
