{
 "cells": [
  {
   "cell_type": "markdown",
   "id": "b02e14ff",
   "metadata": {},
   "source": [
    "# 35. Telegram Bot 연결\n",
    "\n",
    "- 사전에 본인의 mobile 기기에 telegram 설치하여 token을 얻는다."
   ]
  },
  {
   "cell_type": "code",
   "execution_count": 1,
   "id": "39cace1e",
   "metadata": {},
   "outputs": [],
   "source": [
    "#pip install python-telegram-bot"
   ]
  },
  {
   "cell_type": "code",
   "execution_count": 10,
   "id": "51f61532",
   "metadata": {},
   "outputs": [],
   "source": [
    "#https://api.telegram.org/bot5457763237:AAGGZzkNU0-Y9mXe0WQ0_Rx3v26ntqt6CB8/getUpdates"
   ]
  },
  {
   "cell_type": "code",
   "execution_count": 6,
   "id": "215eee0a",
   "metadata": {},
   "outputs": [
    {
     "data": {
      "text/plain": [
       "<telegram.message.Message at 0x1cd690a7500>"
      ]
     },
     "execution_count": 6,
     "metadata": {},
     "output_type": "execute_result"
    }
   ],
   "source": [
    "import telegram\n",
    " \n",
    "telegram_token = '5457763237:AAGGZzkNU0-Y9mXe0WQ0_Rx3v26ntqt6CB8'\n",
    " \n",
    "telegram_chat_id = 5304618195\n",
    "\n",
    "bot = telegram.Bot(token = telegram_token)\n",
    "\n",
    "bot.sendMessage(chat_id=telegram_chat_id, text=\"테스트 메시지 보내기\")"
   ]
  },
  {
   "cell_type": "markdown",
   "id": "1eb6207c",
   "metadata": {},
   "source": [
    "- 메시지 전송"
   ]
  },
  {
   "cell_type": "code",
   "execution_count": 7,
   "id": "03e4db1c",
   "metadata": {},
   "outputs": [],
   "source": [
    "messages = ['좋은 아침 !!', '코로나가 조심하세요 ^^', '저녁에 봐요 ...']\n",
    "for msg in messages:\n",
    "    bot.sendMessage(chat_id=telegram_chat_id, text=msg)"
   ]
  },
  {
   "cell_type": "markdown",
   "id": "11f049fd",
   "metadata": {},
   "source": [
    "- telegram에서 메시지 받기"
   ]
  },
  {
   "cell_type": "code",
   "execution_count": 8,
   "id": "80a120f2",
   "metadata": {},
   "outputs": [
    {
     "data": {
      "text/plain": [
       "[<telegram.update.Update at 0x1cd6b6fd7c0>]"
      ]
     },
     "execution_count": 8,
     "metadata": {},
     "output_type": "execute_result"
    }
   ],
   "source": [
    "updates = bot.getUpdates()\n",
    "updates"
   ]
  },
  {
   "cell_type": "code",
   "execution_count": 9,
   "id": "be322692",
   "metadata": {},
   "outputs": [
    {
     "name": "stdout",
     "output_type": "stream",
     "text": [
      "Yes dir\n"
     ]
    }
   ],
   "source": [
    "for u in updates:\n",
    "    print(u.message.text)"
   ]
  },
  {
   "cell_type": "markdown",
   "id": "3d1fccda",
   "metadata": {},
   "source": [
    "## 연습 문제\n",
    "\n",
    "`emailbox-short.txt` 로그 파일을 5초 간격으로 계속 감시하면서 `\\d \\d\\d:\\d\\d:\\d\\d \\d{4}|\\d+ \\w+ \\d{4} \\d\\d:\\d\\d:\\d\\d` 패턴의 문자열이 발생하면 자신의 이메일로 문제 발생을 통지하고, 메일이 발송 되었음을 텔레그램 메시지로 보낸다."
   ]
  },
  {
   "cell_type": "code",
   "execution_count": null,
   "id": "0472d770",
   "metadata": {},
   "outputs": [],
   "source": [
    "import datetime\n",
    "import re\n",
    "import pandas as pd\n",
    "import time\n",
    "import telegram\n",
    "\n",
    "now = datetime.datetime.now()\n",
    "\n",
    "%% YOUR CODE HERE %%\n",
    "\n",
    "def send_email(message):\n",
    "    import smtplib, ssl\n",
    "    from email.mime.text import MIMEText\n",
    "\n",
    "    %% YOUR CODE HERE %%\n",
    "    \n",
    "    context = ssl.create_default_context()\n",
    "    with smtplib.SMTP_SSL(smtp_server, port, context=context) as server:\n",
    "        server.login(sender_email, password)\n",
    "        server.sendmail(sender_email, receiver_email, msg.as_string())   \n",
    "        server.quit()\n",
    "        \n",
    "def send_telegram(message):\n",
    "    %% YOUR CODE HERE %%\n",
    "    \n",
    "def log_check(ymd, hour, minute):\n",
    "    f = open('emailbox-short.txt', 'r')\n",
    "\n",
    "    for line in f:\n",
    "        result = re.search('\\d \\d\\d:\\d\\d:\\d\\d \\d{4}|\\d+ \\w+ \\d{4} \\d\\d:\\d\\d:\\d\\d', line)\n",
    "        if result:\n",
    "            %% YOUR CODE HERE %%\n",
    "                break\n",
    "                \n",
    "while True:\n",
    "    now = pd.to_datetime(\"2008-01-04 11:11:03\")\n",
    "    ymd = now.strftime('%Y-%m-%d')\n",
    "    hour = now.hour\n",
    "    minute = now.minute\n",
    "    print(\"log checked at \", now)\n",
    "    log_check(ymd, hour, minute)\n",
    "    time.sleep(5)\n",
    "    break"
   ]
  }
 ],
 "metadata": {
  "kernelspec": {
   "display_name": "Python 3",
   "language": "python",
   "name": "python3"
  },
  "language_info": {
   "codemirror_mode": {
    "name": "ipython",
    "version": 3
   },
   "file_extension": ".py",
   "mimetype": "text/x-python",
   "name": "python",
   "nbconvert_exporter": "python",
   "pygments_lexer": "ipython3",
   "version": "3.9.7"
  }
 },
 "nbformat": 4,
 "nbformat_minor": 5
}
