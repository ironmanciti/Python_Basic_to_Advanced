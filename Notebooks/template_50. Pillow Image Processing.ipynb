{
 "cells": [
  {
   "cell_type": "markdown",
   "metadata": {},
   "source": [
    "# Pillow 를 이용한 Image Processing\n",
    "\n",
    "## 연하장 만들기\n",
    "\n",
    "- ``PIL(Python Image Library)`` 은 ``Pillow`` 의 old name  \n",
    "\n",
    "\n",
    "    - 설치는 pip install pillow  \n",
    "    - 사용은 import PIL"
   ]
  },
  {
   "cell_type": "markdown",
   "metadata": {},
   "source": [
    "### 흑백 사진으로 변경"
   ]
  },
  {
   "cell_type": "markdown",
   "metadata": {},
   "source": [
    "### Watermark 생성\n",
    "\n",
    "- 한글 폰트가 필요할 경우 아래 링클를 통해 다운 받을 수 있습니다.\n",
    "\n",
    "[네이버에서 제공하는 한글 글꼴 링크](https://hangeul.naver.com/font) \n",
    "\n",
    "- windows 한글 폰트 경로 `C:\\Windows\\Fonts`"
   ]
  }
 ],
 "metadata": {
  "kernelspec": {
   "display_name": "Python 3 (ipykernel)",
   "language": "python",
   "name": "python3"
  },
  "language_info": {
   "codemirror_mode": {
    "name": "ipython",
    "version": 3
   },
   "file_extension": ".py",
   "mimetype": "text/x-python",
   "name": "python",
   "nbconvert_exporter": "python",
   "pygments_lexer": "ipython3",
   "version": "3.9.7"
  }
 },
 "nbformat": 4,
 "nbformat_minor": 2
}
