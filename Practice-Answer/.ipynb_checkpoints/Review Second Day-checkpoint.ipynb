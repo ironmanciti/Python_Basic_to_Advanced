{
 "cells": [
  {
   "cell_type": "markdown",
   "metadata": {},
   "source": [
    "# 비밀번호 알아맞추기\n",
    "\n",
    "- 비밀번호 입력 허용 횟수 (ex, 10 회) 초과하면 \"비밀번호 입력횟수 초과 입니다\" 메시지 출력하고 종료 \n",
    "\n",
    "- while 문을 이용하여 사전에 정해 놓은 비밀번호와 입력 받은 비밀번호가 같은지 비교 "
   ]
  },
  {
   "cell_type": "code",
   "execution_count": 6,
   "metadata": {},
   "outputs": [
    {
     "name": "stdout",
     "output_type": "stream",
     "text": [
      "Guess a word: 123\n",
      "123\n",
      "비밀번호 오류! 2 회 남았습니다.\n",
      "Guess a word: 123\n",
      "123\n",
      "비밀번호 오류! 1 회 남았습니다.\n",
      "Guess a word: 123\n",
      "123\n",
      "비밀번호 오류! 0 회 남았습니다.\n"
     ]
    }
   ],
   "source": [
    "GUESSES_ALLOWED = 3\n",
    "PASSWORD = \"caribou\"\n",
    "\n",
    "input_left = GUESSES_ALLOWED\n",
    "input_password = None\n",
    "\n",
    "while input_password != PASSWORD and input_left:\n",
    "    input_password = input(\"Guess a word: \")\n",
    "\n",
    "    if input_password == PASSWORD:\n",
    "        \n",
    "        # CODE HERE\n",
    "        \n",
    "    else:\n",
    "       \n",
    "        # CODE HERE"
   ]
  },
  {
   "cell_type": "markdown",
   "metadata": {},
   "source": [
    "# 문자열 formatting"
   ]
  },
  {
   "cell_type": "code",
   "execution_count": 7,
   "metadata": {},
   "outputs": [
    {
     "name": "stdout",
     "output_type": "stream",
     "text": [
      "\n",
      "--- Default Order ---\n",
      "John, Bill and Sean\n",
      "\n",
      "--- Positional Order ---\n",
      "Bill, John and Sean\n",
      "\n",
      "--- Keyword Order ---\n",
      "Sean, Bill and John\n"
     ]
    }
   ],
   "source": [
    "# default(implicit) order\n",
    "default_order = \"{}, {} and {}\".format('John','Bill','Sean')\n",
    "print('\\n--- Default Order ---')\n",
    "print(default_order)\n",
    "\n",
    "# order using positional argument\n",
    "positional_order = \" # CODE HERE # \".format('John','Bill','Sean')\n",
    "print('\\n--- Positional Order ---')\n",
    "print(positional_order)\n",
    "\n",
    "# order using keyword argument\n",
    "keyword_order = \" #CODE HERE# \".format(j='John',b='Bill',s='Sean')\n",
    "print('\\n--- Keyword Order ---')\n",
    "print(keyword_order)"
   ]
  },
  {
   "cell_type": "markdown",
   "metadata": {},
   "source": [
    "# Python 2.7 style 의 다음 문장을 format 문을 사용하는 것으로 변경"
   ]
  },
  {
   "cell_type": "code",
   "execution_count": 8,
   "metadata": {},
   "outputs": [
    {
     "name": "stdout",
     "output_type": "stream",
     "text": [
      "The banana costs 24 cents\n"
     ]
    }
   ],
   "source": [
    "price = 24\n",
    "item = \"banana\"\n",
    "print(\"The %s costs %d cents\"%(item,price))"
   ]
  },
  {
   "cell_type": "code",
   "execution_count": 9,
   "metadata": {},
   "outputs": [
    {
     "name": "stdout",
     "output_type": "stream",
     "text": [
      "The     banana costs 24.00 cents\n"
     ]
    }
   ],
   "source": [
    "print(\"The %+10s costs %5.2f cents\"%(item,price))"
   ]
  },
  {
   "cell_type": "code",
   "execution_count": 10,
   "metadata": {},
   "outputs": [
    {
     "name": "stdout",
     "output_type": "stream",
     "text": [
      "The     banana costs      24.00 cents\n"
     ]
    }
   ],
   "source": [
    "print(\"The %+10s costs %10.2f cents\"%(item,price))"
   ]
  },
  {
   "cell_type": "code",
   "execution_count": 11,
   "metadata": {},
   "outputs": [
    {
     "name": "stdout",
     "output_type": "stream",
     "text": [
      "The banana costs    24.0 cents\n"
     ]
    }
   ],
   "source": [
    "itemdict = {\"item\":\"banana\",\"cost\":24}\n",
    "print(\"The %(item)s costs %(cost)7.1f cents\"%itemdict)"
   ]
  },
  {
   "cell_type": "markdown",
   "metadata": {},
   "source": [
    "# Frequency Counter\n",
    "\n",
    "- 첫번째 list 와 두번째 list 의 length 는 동일\n",
    "- 두번째 list 의 각 element 는 첫번째 list element 의 제곱이어야 한다.\n",
    "- 서로 match 되는 element 가 위 조건과 같은지 비교하여 참이면 \"Two lists are matched\", 거짓이면 \"Two lists are unmatched\" 출력\n",
    "\n",
    "frequency_check([1,2,3,2,5,6], [1,4,9,4,25,36]) --> lists are matched"
   ]
  },
  {
   "cell_type": "code",
   "execution_count": null,
   "metadata": {},
   "outputs": [],
   "source": []
  },
  {
   "cell_type": "markdown",
   "metadata": {},
   "source": [
    "# Frequncy Counter pattern\n",
    "\n",
    "- 2 개 string 을 입력 받아 두글자 조합의 frequency 가 같은지 비교한다.\n",
    "      예, (182, 281): true, \n",
    "           (34, 14): false, \n",
    "           (3589578, 5879385): true,  \n",
    "           (22, 222): false\n",
    "      \n",
    "- (해답) 조합의 frequency 가 같으려면 두 string 의 길이가 같고 글자들의 frequency 가 같아야 한다.\n",
    "\n",
    "sameFrequency('1233', '3133') --> not mached  \n",
    "sameFrequency('1233', '2133') --> mached"
   ]
  },
  {
   "cell_type": "code",
   "execution_count": null,
   "metadata": {},
   "outputs": [],
   "source": []
  },
  {
   "cell_type": "markdown",
   "metadata": {},
   "source": [
    " # 상점의 모든 과일의 재고와 전체 가격 계산\n",
    " \n",
    "- 각 과일의 개당 가격은 다음과 같다.\n",
    "    - 바나나 : 4000 원\n",
    "    - 사과: 2000 원\n",
    "    - 오렌지: 1500 원\n",
    "    - 배 : 3000 원\n",
    "    \n",
    "    \n",
    "- 각 과일의 재고는 다음과 같다.\n",
    "    - 바나나 : 6 개\n",
    "    - 사과 : 0 개\n",
    "    - 오렌지: 32 개\n",
    "    - 배 : 15 개\n",
    "    \n",
    "    \n",
    "- dictionary 를 이용하여 재고 과일의 총 금액을 계산하라. (가격 dictionary 와 재고 dictionary 를 별도로 작성)\n",
    "\n",
    "- 예상 output:\n",
    "\n",
    "price: 4000  \n",
    "stock: 6  \n",
    "price: 2000  \n",
    "stock: 0  \n",
    "price: 1500  \n",
    "stock: 32  \n",
    "price: 3000  \n",
    "stock: 15  \n",
    "The total money is 117000"
   ]
  },
  {
   "cell_type": "code",
   "execution_count": null,
   "metadata": {},
   "outputs": [],
   "source": []
  },
  {
   "cell_type": "markdown",
   "metadata": {},
   "source": [
    "# Pet 공원\n",
    "\n",
    "- 공원에서 놀고있는 강아지와 고양이들을 object 로 구현. 강아지와 고양이들은 이름과 나이 두개의 attribute 로 구성  \n",
    "\n",
    "\n",
    "- 고양이들의 행동 (behavior) 은 뛰기 (running), 둘러보기(watching), 기지개 켜기(stretching) 으로 구성된다.  \n",
    "\n",
    "\n",
    "- 강아지들의 행동 (behavior) 은 뛰기 (running), 둘러보기(watching), 짖기(barking) 으로 구성된다.\n",
    "\n",
    "\n",
    "- running method 의 출력 : \"{} 이 뛰고 있다\"  --> 부모 class 의 method\n",
    "\n",
    "\n",
    "- watching methd 의 출력 : \"강아지가 두리번거리며 보고 있다\", \"고양이가 조용히 보고 있다\" --> oarent class method override  \n",
    "\n",
    "\n",
    "- streching method 의 출력 : \"고양이가 기지개 켜고 있다\"  --> 고양이 class 의 method  \n",
    "\n",
    "\n",
    "- barking method 의 출력 : \"강아지가 짖고 있다\"  --> 강아지 class 의 method\n"
   ]
  },
  {
   "cell_type": "code",
   "execution_count": 2,
   "metadata": {},
   "outputs": [
    {
     "name": "stdout",
     "output_type": "stream",
     "text": [
      "dog이 뛰고 있다\n",
      "강아지가 두리번거리며 보고있다\n",
      "강아지가 짖고 있다\n"
     ]
    }
   ],
   "source": [
    "dog = Dog('Doggy', 5, 'dog')\n",
    "dog.running()\n",
    "dog.watching()\n",
    "dog.barking()"
   ]
  },
  {
   "cell_type": "code",
   "execution_count": 3,
   "metadata": {},
   "outputs": [
    {
     "name": "stdout",
     "output_type": "stream",
     "text": [
      "cat이 뛰고 있다\n",
      "고양이가 조용히 보고있다\n",
      "고양이가 기지개 키고 있다\n"
     ]
    }
   ],
   "source": [
    "cat = Cat('Mio', 1, 'cat')\n",
    "cat.running()\n",
    "cat.watching()\n",
    "cat.stretching()"
   ]
  }
 ],
 "metadata": {
  "kernelspec": {
   "display_name": "Python 3",
   "language": "python",
   "name": "python3"
  },
  "language_info": {
   "codemirror_mode": {
    "name": "ipython",
    "version": 3
   },
   "file_extension": ".py",
   "mimetype": "text/x-python",
   "name": "python",
   "nbconvert_exporter": "python",
   "pygments_lexer": "ipython3",
   "version": "3.7.3"
  }
 },
 "nbformat": 4,
 "nbformat_minor": 2
}
