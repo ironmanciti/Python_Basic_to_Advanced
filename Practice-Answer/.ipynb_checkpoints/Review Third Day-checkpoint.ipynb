{
 "cells": [
  {
   "cell_type": "markdown",
   "metadata": {},
   "source": [
    "# Python 으로 구현한 stack 과 queue\n",
    "\n",
    "- Python 의 class 를 이용하여 stack 과 queue 구현  \n",
    "- Stack class 의 method 는 pop (꺼내기), push (추가), size (stack 의 길이) 세가지로 한다.  \n",
    "- Queue class 의 method 는 enqueue(queue 에 추가), dequeue (queue 에 꺼내기), size (queue 의 길이) 세가지로 한다."
   ]
  },
  {
   "cell_type": "code",
   "execution_count": 1,
   "metadata": {},
   "outputs": [],
   "source": [
    "class Stack:\n",
    "\n",
    "    def __init__(self):\n",
    "        self.stack = []\n",
    "\n",
    "    def pop(self):\n",
    "        #CODE HERE\n",
    "        \n",
    "    def push(self, item):\n",
    "        #CODE HERE\n",
    "        \n",
    "    def size(self):\n",
    "        r#CODE HERE\n",
    "\n",
    "# And a queue that only has enqueue and dequeue operations\n",
    "class Queue:\n",
    "\n",
    "    def __init__(self):\n",
    "        self.queue = []\n",
    "\n",
    "    def enqueue(self, item):\n",
    "        #CODE HERE\n",
    "        \n",
    "    def dequeue(self):\n",
    "       #CODE HRE\n",
    "    \n",
    "    def size(self):\n",
    "        #CODE HERE\n",
    "        "
   ]
  },
  {
   "cell_type": "code",
   "execution_count": 2,
   "metadata": {},
   "outputs": [
    {
     "data": {
      "text/plain": [
       "'c'"
      ]
     },
     "execution_count": 2,
     "metadata": {},
     "output_type": "execute_result"
    }
   ],
   "source": [
    "stack = Stack()\n",
    "stack.push('a')\n",
    "stack.push('b')\n",
    "stack.push('c')\n",
    "stack.pop()"
   ]
  },
  {
   "cell_type": "code",
   "execution_count": 3,
   "metadata": {},
   "outputs": [
    {
     "data": {
      "text/plain": [
       "'a'"
      ]
     },
     "execution_count": 3,
     "metadata": {},
     "output_type": "execute_result"
    }
   ],
   "source": [
    "q = Queue()\n",
    "q.enqueue('a')\n",
    "q.enqueue('b')\n",
    "q.enqueue('c')\n",
    "q.dequeue()"
   ]
  },
  {
   "cell_type": "markdown",
   "metadata": {},
   "source": [
    "# try / except 응용\n",
    "\n",
    "- input 을 이용하여 숫자를 입력 받음\n",
    "\n",
    "- 숫자가 입력되면 입력받은 숫자 출력\n",
    "\n",
    "- 알파벳이 입력되면 error message 출력\n",
    "\n",
    "- except ValueError 이용"
   ]
  },
  {
   "cell_type": "code",
   "execution_count": null,
   "metadata": {},
   "outputs": [],
   "source": []
  },
  {
   "cell_type": "markdown",
   "metadata": {},
   "source": [
    "## 현재 작업 directory 의 file list 와 size 를 MB 단위로 출력\n",
    "\n",
    "- file list : os.listdir()  \n",
    "- file size : os.path.getsize(filename)"
   ]
  },
  {
   "cell_type": "code",
   "execution_count": 9,
   "metadata": {},
   "outputs": [
    {
     "name": "stdout",
     "output_type": "stream",
     "text": [
      "파일 목록 및 크기 : \n",
      ".git                          4.10MB\n",
      ".ipynb_checkpoints            4.10MB\n",
      ".vscode                       0.00MB\n",
      "babynames                     4.10MB\n",
      "chapter10_practice.py         1.20MB\n",
      "chapter11_practice.py         0.91MB\n",
      "chapter12_practice.py         1.72MB\n",
      "chapter14_practice.py         1.19MB\n",
      "chapter16_practice.py         0.15MB\n",
      "chapter17_practice.py         0.30MB\n",
      "chapter18_practice.py         0.84MB\n",
      "chapter19_practice.py         1.40MB\n",
      "chapter19_turtle_basic.py     0.64MB\n",
      "chapter20_practice.py         0.38MB\n",
      "chapter21_practice.py         2.00MB\n",
      "chapter23_practice.py         0.84MB\n",
      "chapter24_practice.py         0.63MB\n",
      "chapter26_practice.py         1.32MB\n",
      "chapter27_practice.py         3.80MB\n",
      "chapter28_practice.py         2.26MB\n",
      "chapter5_practice.py          0.77MB\n",
      "chapter6_practice.py          0.68MB\n",
      "chapter7_practice.py          0.35MB\n",
      "chapter8_practice.py          2.41MB\n",
      "chapter9_practice.py          1.02MB\n",
      "README.md                     0.02MB\n",
      "Review First Day.ipynb        7.57MB\n",
      "Review Second Day.ipynb       12.78MB\n",
      "Review Third Day.ipynb        4.14MB\n",
      "Sierpinski.py                 1.11MB\n",
      "test.html                     0.00MB\n"
     ]
    }
   ],
   "source": []
  },
  {
   "cell_type": "code",
   "execution_count": null,
   "metadata": {},
   "outputs": [],
   "source": []
  }
 ],
 "metadata": {
  "kernelspec": {
   "display_name": "Python 3",
   "language": "python",
   "name": "python3"
  },
  "language_info": {
   "codemirror_mode": {
    "name": "ipython",
    "version": 3
   },
   "file_extension": ".py",
   "mimetype": "text/x-python",
   "name": "python",
   "nbconvert_exporter": "python",
   "pygments_lexer": "ipython3",
   "version": "3.7.3"
  }
 },
 "nbformat": 4,
 "nbformat_minor": 2
}
