{
 "cells": [
  {
   "cell_type": "markdown",
   "metadata": {},
   "source": [
    "# Day Four 연습문제"
   ]
  },
  {
   "cell_type": "markdown",
   "metadata": {},
   "source": [
    "### 두개의 list 를 빠짐 없이 element 별로 곱하여 새로운 list 생성"
   ]
  },
  {
   "cell_type": "code",
   "execution_count": 17,
   "metadata": {},
   "outputs": [
    {
     "data": {
      "text/plain": [
       "[5, 6, 7, 8, 10, 12, 14, 16, 15, 18, 21, 24, 20, 24, 28, 32]"
      ]
     },
     "execution_count": 17,
     "metadata": {},
     "output_type": "execute_result"
    }
   ],
   "source": [
    "alist = [1, 2, 3, 4]\n",
    "blist = [5, 6, 7, 8]\n",
    "\n",
    "result = []\n",
    "\n",
    "for a in alist:\n",
    "    for b in blist:\n",
    "        result.append(a * b)\n",
    "        \n",
    "result"
   ]
  },
  {
   "cell_type": "markdown",
   "metadata": {},
   "source": [
    "### List Comprehension 을 이용하여 위 문제 해결"
   ]
  },
  {
   "cell_type": "code",
   "execution_count": 18,
   "metadata": {},
   "outputs": [
    {
     "data": {
      "text/plain": [
       "[5, 6, 7, 8, 10, 12, 14, 16, 15, 18, 21, 24, 20, 24, 28, 32]"
      ]
     },
     "execution_count": 18,
     "metadata": {},
     "output_type": "execute_result"
    }
   ],
   "source": [
    "[ #CODE HERE  ]"
   ]
  },
  {
   "cell_type": "markdown",
   "metadata": {},
   "source": [
    "### 1~30 사이의 a, b, c 에서 $a^2 + b^2 = c^2 (a < b < c)$ 를 만족하는 a, b, c 의 조합을 찾는 List Comprehension"
   ]
  },
  {
   "cell_type": "code",
   "execution_count": 19,
   "metadata": {},
   "outputs": [
    {
     "data": {
      "text/plain": [
       "[(3, 4, 5),\n",
       " (5, 12, 13),\n",
       " (6, 8, 10),\n",
       " (7, 24, 25),\n",
       " (8, 15, 17),\n",
       " (9, 12, 15),\n",
       " (10, 24, 26),\n",
       " (12, 16, 20),\n",
       " (15, 20, 25),\n",
       " (20, 21, 29)]"
      ]
     },
     "execution_count": 19,
     "metadata": {},
     "output_type": "execute_result"
    }
   ],
   "source": [
    "solutions = [(x, y, z) for x in range(1, 30) for y in range(x, 30) for z in range(y, 30) if x**2 + y**2 == z**2]\n",
    "\n",
    "solutions"
   ]
  },
  {
   "cell_type": "markdown",
   "metadata": {},
   "source": [
    "# dictionary comprehension\n",
    "\n",
    "### 번호를 key로 갖고 이름을 value로 가지는 dictionary 만들기"
   ]
  },
  {
   "cell_type": "code",
   "execution_count": 14,
   "metadata": {},
   "outputs": [
    {
     "name": "stdout",
     "output_type": "stream",
     "text": [
      "{0: '몽키', 1: '선샤인', 2: '시와', 3: '톰'}\n"
     ]
    }
   ],
   "source": [
    "students = ['몽키', '선샤인', '시와', '톰']\n",
    "students_dic = {}\n",
    "\n",
    "for i, name in enumerate(students):\n",
    "    students_dic[i] = name\n",
    "\n",
    "print(students_dic)"
   ]
  },
  {
   "cell_type": "code",
   "execution_count": 35,
   "metadata": {},
   "outputs": [
    {
     "name": "stdout",
     "output_type": "stream",
     "text": [
      "{0: '몽키', 1: '선샤인', 2: '시와', 3: '톰'}\n"
     ]
    }
   ],
   "source": [
    "lc_dict = {i: name for i, name in enumerate(students)}\n",
    "\n",
    "print(lc_dict)"
   ]
  },
  {
   "cell_type": "markdown",
   "metadata": {},
   "source": [
    "### zip 을 활용하여 두개의 list 를 key, value 로 dictionary 만들기"
   ]
  },
  {
   "cell_type": "code",
   "execution_count": 7,
   "metadata": {},
   "outputs": [
    {
     "data": {
      "text/plain": [
       "{'몽키': 85, '선샤인': 92, '시와': 78, '톰': 100}"
      ]
     },
     "execution_count": 7,
     "metadata": {},
     "output_type": "execute_result"
    }
   ],
   "source": [
    "students = ['몽키', '선샤인', '시와', '톰']\n",
    "scores = [85, 92, 78, 100]\n",
    "\n",
    "score_dic = {\n",
    "    # CODE HERE\n",
    "}\n",
    "\n",
    "score_dic"
   ]
  },
  {
   "cell_type": "markdown",
   "metadata": {},
   "source": [
    "### 1~10 사이 홀수를 50~60 사이 짝수와 곱한 숫자들의 list 생성"
   ]
  },
  {
   "cell_type": "code",
   "execution_count": 33,
   "metadata": {},
   "outputs": [
    {
     "name": "stdout",
     "output_type": "stream",
     "text": [
      "[50, 156, 270, 392, 522]\n"
     ]
    }
   ],
   "source": [
    "result = []\n",
    "alist = []\n",
    "blist = []\n",
    "\n",
    "for i in range(1, 11):\n",
    "    if i % 2 == 1:\n",
    "        alist.append(i)\n",
    "for i in range(50, 61):\n",
    "    if i % 2 == 0:\n",
    "        blist.append(i)\n",
    "        \n",
    "for a, b in zip(alist, blist):\n",
    "    result.append(a * b)\n",
    "    \n",
    "print(result)"
   ]
  },
  {
   "cell_type": "markdown",
   "metadata": {},
   "source": [
    "### map, filter, lambda 를 이용하여 위 문제 해결"
   ]
  },
  {
   "cell_type": "code",
   "execution_count": 24,
   "metadata": {},
   "outputs": [
    {
     "name": "stdout",
     "output_type": "stream",
     "text": [
      "[50, 156, 270, 392, 522]\n"
     ]
    }
   ],
   "source": [
    "c = map(lambda x, y: x*y, # CODE HERE)\n",
    "print(list(c))"
   ]
  },
  {
   "cell_type": "markdown",
   "metadata": {},
   "source": [
    "### List Comprehension 을 사용하여 해결"
   ]
  },
  {
   "cell_type": "code",
   "execution_count": 32,
   "metadata": {},
   "outputs": [
    {
     "name": "stdout",
     "output_type": "stream",
     "text": [
      "[50, 156, 270, 392, 522]\n"
     ]
    }
   ],
   "source": [
    "print([x * y for x, y in #CODE HERE ])"
   ]
  },
  {
   "cell_type": "code",
   "execution_count": null,
   "metadata": {},
   "outputs": [],
   "source": []
  }
 ],
 "metadata": {
  "kernelspec": {
   "display_name": "Python 3",
   "language": "python",
   "name": "python3"
  },
  "language_info": {
   "codemirror_mode": {
    "name": "ipython",
    "version": 3
   },
   "file_extension": ".py",
   "mimetype": "text/x-python",
   "name": "python",
   "nbconvert_exporter": "python",
   "pygments_lexer": "ipython3",
   "version": "3.7.3"
  }
 },
 "nbformat": 4,
 "nbformat_minor": 2
}
