{
 "cells": [
  {
   "cell_type": "markdown",
   "metadata": {},
   "source": [
    "# Python 으로 구현한 stack 과 queue\n",
    "\n",
    "- Python 의 class 를 이용하여 stack 과 queue 구현  \n",
    "- Stack class 의 method 는 pop (꺼내기), push (추가), size (stack 의 길이) 세가지로 한다.  \n",
    "- Queue class 의 method 는 enqueue(queue 에 추가), dequeue (queue 에 꺼내기), size (queue 의 길이) 세가지로 한다."
   ]
  },
  {
   "cell_type": "code",
   "execution_count": 1,
   "metadata": {},
   "outputs": [],
   "source": [
    "class Stack:\n",
    "\n",
    "    def __init__(self):\n",
    "        self.stack = []\n",
    "\n",
    "    def pop(self):\n",
    "        if len(self.stack) < 1:\n",
    "            return None\n",
    "        return self.stack.pop()\n",
    "\n",
    "    def push(self, item):\n",
    "        self.stack.append(item)\n",
    "\n",
    "    def size(self):\n",
    "        return len(self.stack)\n",
    "\n",
    "# And a queue that only has enqueue and dequeue operations\n",
    "class Queue:\n",
    "\n",
    "    def __init__(self):\n",
    "        self.queue = []\n",
    "\n",
    "    def enqueue(self, item):\n",
    "        self.queue.append(item)\n",
    "\n",
    "    def dequeue(self):\n",
    "        if len(self.queue) < 1:\n",
    "            return None\n",
    "        return self.queue.pop(0)\n",
    "\n",
    "    def size(self):\n",
    "        return len(self.queue) "
   ]
  },
  {
   "cell_type": "code",
   "execution_count": 2,
   "metadata": {},
   "outputs": [
    {
     "data": {
      "text/plain": [
       "'c'"
      ]
     },
     "execution_count": 2,
     "metadata": {},
     "output_type": "execute_result"
    }
   ],
   "source": [
    "stack = Stack()\n",
    "stack.push('a')\n",
    "stack.push('b')\n",
    "stack.push('c')\n",
    "stack.pop()"
   ]
  },
  {
   "cell_type": "code",
   "execution_count": 3,
   "metadata": {},
   "outputs": [
    {
     "data": {
      "text/plain": [
       "'a'"
      ]
     },
     "execution_count": 3,
     "metadata": {},
     "output_type": "execute_result"
    }
   ],
   "source": [
    "q = Queue()\n",
    "q.enqueue('a')\n",
    "q.enqueue('b')\n",
    "q.enqueue('c')\n",
    "q.dequeue()"
   ]
  },
  {
   "cell_type": "markdown",
   "metadata": {},
   "source": [
    "# try / except 응용\n",
    "\n",
    "- input 을 이용하여 숫자를 입력 받음\n",
    "\n",
    "- 숫자가 입력되면 입력받은 숫자 출력\n",
    "\n",
    "- 알파벳이 입력되면 error message 출력\n",
    "\n",
    "- except ValueError 이용"
   ]
  },
  {
   "cell_type": "code",
   "execution_count": 8,
   "metadata": {},
   "outputs": [
    {
     "name": "stdout",
     "output_type": "stream",
     "text": [
      "숫자를 입력하시오: \n",
      "숫자가 아닙니다\n"
     ]
    }
   ],
   "source": [
    "try:\n",
    "    number = int(input(\"숫자를 입력하시오: \"))\n",
    "    print(number)\n",
    "except ValueError:\n",
    "    print(\"숫자가 아닙니다\")"
   ]
  }
 ],
 "metadata": {
  "kernelspec": {
   "display_name": "Python 3",
   "language": "python",
   "name": "python3"
  },
  "language_info": {
   "codemirror_mode": {
    "name": "ipython",
    "version": 3
   },
   "file_extension": ".py",
   "mimetype": "text/x-python",
   "name": "python",
   "nbconvert_exporter": "python",
   "pygments_lexer": "ipython3",
   "version": "3.7.3"
  }
 },
 "nbformat": 4,
 "nbformat_minor": 2
}
